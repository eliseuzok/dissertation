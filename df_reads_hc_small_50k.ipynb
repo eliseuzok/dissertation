{
 "cells": [
  {
   "cell_type": "code",
   "execution_count": 1,
   "metadata": {},
   "outputs": [],
   "source": [
    "import numpy as np\n",
    "import seaborn as sns\n",
    "import pandas as pd\n",
    "import matplotlib.pyplot as plt\n",
    "import scipy\n",
    "import docx"
   ]
  },
  {
   "cell_type": "code",
   "execution_count": 2,
   "metadata": {},
   "outputs": [],
   "source": [
    "#making a df by importing the values from the human cell reads txt\n",
    "\n",
    "df = pd.read_csv('human_reads_small.txt', sep='\\t', header=None)\n",
    "header = ['chr', 'start_pos','end_pos','human_reads']\n",
    "df.columns = header[:len(df.columns)]\n",
    "df['chr'] = df['chr'].str.replace('chr','').astype(int) #CHR COLUMN\n",
    "df = df.reset_index()"
   ]
  },
  {
   "cell_type": "code",
   "execution_count": 3,
   "metadata": {},
   "outputs": [
    {
     "data": {
      "text/html": [
       "<div>\n",
       "<style scoped>\n",
       "    .dataframe tbody tr th:only-of-type {\n",
       "        vertical-align: middle;\n",
       "    }\n",
       "\n",
       "    .dataframe tbody tr th {\n",
       "        vertical-align: top;\n",
       "    }\n",
       "\n",
       "    .dataframe thead th {\n",
       "        text-align: right;\n",
       "    }\n",
       "</style>\n",
       "<table border=\"1\" class=\"dataframe\">\n",
       "  <thead>\n",
       "    <tr style=\"text-align: right;\">\n",
       "      <th></th>\n",
       "      <th>chromosome</th>\n",
       "      <th>start_pos</th>\n",
       "      <th>end_pos</th>\n",
       "      <th>mutated_reads</th>\n",
       "    </tr>\n",
       "  </thead>\n",
       "  <tbody>\n",
       "    <tr>\n",
       "      <th>0</th>\n",
       "      <td>chr1</td>\n",
       "      <td>0</td>\n",
       "      <td>50000</td>\n",
       "      <td>8</td>\n",
       "    </tr>\n",
       "    <tr>\n",
       "      <th>1</th>\n",
       "      <td>chr1</td>\n",
       "      <td>50000</td>\n",
       "      <td>100000</td>\n",
       "      <td>8</td>\n",
       "    </tr>\n",
       "    <tr>\n",
       "      <th>2</th>\n",
       "      <td>chr1</td>\n",
       "      <td>100000</td>\n",
       "      <td>150000</td>\n",
       "      <td>12</td>\n",
       "    </tr>\n",
       "    <tr>\n",
       "      <th>3</th>\n",
       "      <td>chr1</td>\n",
       "      <td>150000</td>\n",
       "      <td>200000</td>\n",
       "      <td>10</td>\n",
       "    </tr>\n",
       "    <tr>\n",
       "      <th>4</th>\n",
       "      <td>chr1</td>\n",
       "      <td>200000</td>\n",
       "      <td>250000</td>\n",
       "      <td>0</td>\n",
       "    </tr>\n",
       "    <tr>\n",
       "      <th>...</th>\n",
       "      <td>...</td>\n",
       "      <td>...</td>\n",
       "      <td>...</td>\n",
       "      <td>...</td>\n",
       "    </tr>\n",
       "    <tr>\n",
       "      <th>57504</th>\n",
       "      <td>chr22</td>\n",
       "      <td>50600000</td>\n",
       "      <td>50650000</td>\n",
       "      <td>14</td>\n",
       "    </tr>\n",
       "    <tr>\n",
       "      <th>57505</th>\n",
       "      <td>chr22</td>\n",
       "      <td>50650000</td>\n",
       "      <td>50700000</td>\n",
       "      <td>6</td>\n",
       "    </tr>\n",
       "    <tr>\n",
       "      <th>57506</th>\n",
       "      <td>chr22</td>\n",
       "      <td>50700000</td>\n",
       "      <td>50750000</td>\n",
       "      <td>8</td>\n",
       "    </tr>\n",
       "    <tr>\n",
       "      <th>57507</th>\n",
       "      <td>chr22</td>\n",
       "      <td>50750000</td>\n",
       "      <td>50800000</td>\n",
       "      <td>6</td>\n",
       "    </tr>\n",
       "    <tr>\n",
       "      <th>57508</th>\n",
       "      <td>chr22</td>\n",
       "      <td>50800000</td>\n",
       "      <td>50818468</td>\n",
       "      <td>0</td>\n",
       "    </tr>\n",
       "  </tbody>\n",
       "</table>\n",
       "<p>57509 rows × 4 columns</p>\n",
       "</div>"
      ],
      "text/plain": [
       "      chromosome  start_pos   end_pos  mutated_reads\n",
       "0           chr1          0     50000              8\n",
       "1           chr1      50000    100000              8\n",
       "2           chr1     100000    150000             12\n",
       "3           chr1     150000    200000             10\n",
       "4           chr1     200000    250000              0\n",
       "...          ...        ...       ...            ...\n",
       "57504      chr22   50600000  50650000             14\n",
       "57505      chr22   50650000  50700000              6\n",
       "57506      chr22   50700000  50750000              8\n",
       "57507      chr22   50750000  50800000              6\n",
       "57508      chr22   50800000  50818468              0\n",
       "\n",
       "[57509 rows x 4 columns]"
      ]
     },
     "execution_count": 3,
     "metadata": {},
     "output_type": "execute_result"
    }
   ],
   "source": [
    "#making another df from the mutated reads file\n",
    "mutated = pd.read_csv('altered_reads_small.txt', sep='\\t', header=None)\n",
    "header = ['chromosome', 'start_pos','end_pos','mutated_reads']\n",
    "mutated.columns = header[:len(mutated.columns)]\n",
    "mutated"
   ]
  },
  {
   "cell_type": "code",
   "execution_count": 4,
   "metadata": {},
   "outputs": [
    {
     "data": {
      "text/html": [
       "<div>\n",
       "<style scoped>\n",
       "    .dataframe tbody tr th:only-of-type {\n",
       "        vertical-align: middle;\n",
       "    }\n",
       "\n",
       "    .dataframe tbody tr th {\n",
       "        vertical-align: top;\n",
       "    }\n",
       "\n",
       "    .dataframe thead th {\n",
       "        text-align: right;\n",
       "    }\n",
       "</style>\n",
       "<table border=\"1\" class=\"dataframe\">\n",
       "  <thead>\n",
       "    <tr style=\"text-align: right;\">\n",
       "      <th></th>\n",
       "      <th>index</th>\n",
       "      <th>chr</th>\n",
       "      <th>start_pos</th>\n",
       "      <th>end_pos</th>\n",
       "      <th>human_reads</th>\n",
       "      <th>mutated_reads</th>\n",
       "    </tr>\n",
       "  </thead>\n",
       "  <tbody>\n",
       "    <tr>\n",
       "      <th>0</th>\n",
       "      <td>0</td>\n",
       "      <td>1</td>\n",
       "      <td>0</td>\n",
       "      <td>50000</td>\n",
       "      <td>4</td>\n",
       "      <td>8</td>\n",
       "    </tr>\n",
       "    <tr>\n",
       "      <th>1</th>\n",
       "      <td>1</td>\n",
       "      <td>1</td>\n",
       "      <td>50000</td>\n",
       "      <td>100000</td>\n",
       "      <td>22</td>\n",
       "      <td>8</td>\n",
       "    </tr>\n",
       "    <tr>\n",
       "      <th>2</th>\n",
       "      <td>2</td>\n",
       "      <td>1</td>\n",
       "      <td>100000</td>\n",
       "      <td>150000</td>\n",
       "      <td>4</td>\n",
       "      <td>12</td>\n",
       "    </tr>\n",
       "    <tr>\n",
       "      <th>3</th>\n",
       "      <td>3</td>\n",
       "      <td>1</td>\n",
       "      <td>150000</td>\n",
       "      <td>200000</td>\n",
       "      <td>12</td>\n",
       "      <td>10</td>\n",
       "    </tr>\n",
       "    <tr>\n",
       "      <th>4</th>\n",
       "      <td>4</td>\n",
       "      <td>1</td>\n",
       "      <td>200000</td>\n",
       "      <td>250000</td>\n",
       "      <td>0</td>\n",
       "      <td>0</td>\n",
       "    </tr>\n",
       "    <tr>\n",
       "      <th>...</th>\n",
       "      <td>...</td>\n",
       "      <td>...</td>\n",
       "      <td>...</td>\n",
       "      <td>...</td>\n",
       "      <td>...</td>\n",
       "      <td>...</td>\n",
       "    </tr>\n",
       "    <tr>\n",
       "      <th>57504</th>\n",
       "      <td>57504</td>\n",
       "      <td>22</td>\n",
       "      <td>50600000</td>\n",
       "      <td>50650000</td>\n",
       "      <td>2</td>\n",
       "      <td>14</td>\n",
       "    </tr>\n",
       "    <tr>\n",
       "      <th>57505</th>\n",
       "      <td>57505</td>\n",
       "      <td>22</td>\n",
       "      <td>50650000</td>\n",
       "      <td>50700000</td>\n",
       "      <td>6</td>\n",
       "      <td>6</td>\n",
       "    </tr>\n",
       "    <tr>\n",
       "      <th>57506</th>\n",
       "      <td>57506</td>\n",
       "      <td>22</td>\n",
       "      <td>50700000</td>\n",
       "      <td>50750000</td>\n",
       "      <td>6</td>\n",
       "      <td>8</td>\n",
       "    </tr>\n",
       "    <tr>\n",
       "      <th>57507</th>\n",
       "      <td>57507</td>\n",
       "      <td>22</td>\n",
       "      <td>50750000</td>\n",
       "      <td>50800000</td>\n",
       "      <td>12</td>\n",
       "      <td>6</td>\n",
       "    </tr>\n",
       "    <tr>\n",
       "      <th>57508</th>\n",
       "      <td>57508</td>\n",
       "      <td>22</td>\n",
       "      <td>50800000</td>\n",
       "      <td>50818468</td>\n",
       "      <td>0</td>\n",
       "      <td>0</td>\n",
       "    </tr>\n",
       "  </tbody>\n",
       "</table>\n",
       "<p>57509 rows × 6 columns</p>\n",
       "</div>"
      ],
      "text/plain": [
       "       index  chr  start_pos   end_pos  human_reads  mutated_reads\n",
       "0          0    1          0     50000            4              8\n",
       "1          1    1      50000    100000           22              8\n",
       "2          2    1     100000    150000            4             12\n",
       "3          3    1     150000    200000           12             10\n",
       "4          4    1     200000    250000            0              0\n",
       "...      ...  ...        ...       ...          ...            ...\n",
       "57504  57504   22   50600000  50650000            2             14\n",
       "57505  57505   22   50650000  50700000            6              6\n",
       "57506  57506   22   50700000  50750000            6              8\n",
       "57507  57507   22   50750000  50800000           12              6\n",
       "57508  57508   22   50800000  50818468            0              0\n",
       "\n",
       "[57509 rows x 6 columns]"
      ]
     },
     "execution_count": 4,
     "metadata": {},
     "output_type": "execute_result"
    }
   ],
   "source": [
    "#adding the mutated reads column to the original  df\n",
    "df['mutated_reads'] = mutated['mutated_reads'].values\n",
    "df\n"
   ]
  },
  {
   "cell_type": "code",
   "execution_count": 5,
   "metadata": {},
   "outputs": [
    {
     "data": {
      "text/html": [
       "<div>\n",
       "<style scoped>\n",
       "    .dataframe tbody tr th:only-of-type {\n",
       "        vertical-align: middle;\n",
       "    }\n",
       "\n",
       "    .dataframe tbody tr th {\n",
       "        vertical-align: top;\n",
       "    }\n",
       "\n",
       "    .dataframe thead th {\n",
       "        text-align: right;\n",
       "    }\n",
       "</style>\n",
       "<table border=\"1\" class=\"dataframe\">\n",
       "  <thead>\n",
       "    <tr style=\"text-align: right;\">\n",
       "      <th></th>\n",
       "      <th>index</th>\n",
       "      <th>chr</th>\n",
       "      <th>start_pos</th>\n",
       "      <th>end_pos</th>\n",
       "      <th>human_reads</th>\n",
       "      <th>mutated_reads</th>\n",
       "      <th>RDR</th>\n",
       "    </tr>\n",
       "  </thead>\n",
       "  <tbody>\n",
       "    <tr>\n",
       "      <th>0</th>\n",
       "      <td>0</td>\n",
       "      <td>1</td>\n",
       "      <td>0</td>\n",
       "      <td>50000</td>\n",
       "      <td>4</td>\n",
       "      <td>8</td>\n",
       "      <td>2.230325</td>\n",
       "    </tr>\n",
       "    <tr>\n",
       "      <th>1</th>\n",
       "      <td>1</td>\n",
       "      <td>1</td>\n",
       "      <td>50000</td>\n",
       "      <td>100000</td>\n",
       "      <td>22</td>\n",
       "      <td>8</td>\n",
       "      <td>0.405514</td>\n",
       "    </tr>\n",
       "    <tr>\n",
       "      <th>2</th>\n",
       "      <td>2</td>\n",
       "      <td>1</td>\n",
       "      <td>100000</td>\n",
       "      <td>150000</td>\n",
       "      <td>4</td>\n",
       "      <td>12</td>\n",
       "      <td>3.345487</td>\n",
       "    </tr>\n",
       "    <tr>\n",
       "      <th>3</th>\n",
       "      <td>3</td>\n",
       "      <td>1</td>\n",
       "      <td>150000</td>\n",
       "      <td>200000</td>\n",
       "      <td>12</td>\n",
       "      <td>10</td>\n",
       "      <td>0.929302</td>\n",
       "    </tr>\n",
       "    <tr>\n",
       "      <th>4</th>\n",
       "      <td>4</td>\n",
       "      <td>1</td>\n",
       "      <td>200000</td>\n",
       "      <td>250000</td>\n",
       "      <td>0</td>\n",
       "      <td>0</td>\n",
       "      <td>NaN</td>\n",
       "    </tr>\n",
       "    <tr>\n",
       "      <th>...</th>\n",
       "      <td>...</td>\n",
       "      <td>...</td>\n",
       "      <td>...</td>\n",
       "      <td>...</td>\n",
       "      <td>...</td>\n",
       "      <td>...</td>\n",
       "      <td>...</td>\n",
       "    </tr>\n",
       "    <tr>\n",
       "      <th>57504</th>\n",
       "      <td>57504</td>\n",
       "      <td>22</td>\n",
       "      <td>50600000</td>\n",
       "      <td>50650000</td>\n",
       "      <td>2</td>\n",
       "      <td>14</td>\n",
       "      <td>7.806137</td>\n",
       "    </tr>\n",
       "    <tr>\n",
       "      <th>57505</th>\n",
       "      <td>57505</td>\n",
       "      <td>22</td>\n",
       "      <td>50650000</td>\n",
       "      <td>50700000</td>\n",
       "      <td>6</td>\n",
       "      <td>6</td>\n",
       "      <td>1.115162</td>\n",
       "    </tr>\n",
       "    <tr>\n",
       "      <th>57506</th>\n",
       "      <td>57506</td>\n",
       "      <td>22</td>\n",
       "      <td>50700000</td>\n",
       "      <td>50750000</td>\n",
       "      <td>6</td>\n",
       "      <td>8</td>\n",
       "      <td>1.486883</td>\n",
       "    </tr>\n",
       "    <tr>\n",
       "      <th>57507</th>\n",
       "      <td>57507</td>\n",
       "      <td>22</td>\n",
       "      <td>50750000</td>\n",
       "      <td>50800000</td>\n",
       "      <td>12</td>\n",
       "      <td>6</td>\n",
       "      <td>0.557581</td>\n",
       "    </tr>\n",
       "    <tr>\n",
       "      <th>57508</th>\n",
       "      <td>57508</td>\n",
       "      <td>22</td>\n",
       "      <td>50800000</td>\n",
       "      <td>50818468</td>\n",
       "      <td>0</td>\n",
       "      <td>0</td>\n",
       "      <td>NaN</td>\n",
       "    </tr>\n",
       "  </tbody>\n",
       "</table>\n",
       "<p>57509 rows × 7 columns</p>\n",
       "</div>"
      ],
      "text/plain": [
       "       index  chr  start_pos   end_pos  human_reads  mutated_reads       RDR\n",
       "0          0    1          0     50000            4              8  2.230325\n",
       "1          1    1      50000    100000           22              8  0.405514\n",
       "2          2    1     100000    150000            4             12  3.345487\n",
       "3          3    1     150000    200000           12             10  0.929302\n",
       "4          4    1     200000    250000            0              0       NaN\n",
       "...      ...  ...        ...       ...          ...            ...       ...\n",
       "57504  57504   22   50600000  50650000            2             14  7.806137\n",
       "57505  57505   22   50650000  50700000            6              6  1.115162\n",
       "57506  57506   22   50700000  50750000            6              8  1.486883\n",
       "57507  57507   22   50750000  50800000           12              6  0.557581\n",
       "57508  57508   22   50800000  50818468            0              0       NaN\n",
       "\n",
       "[57509 rows x 7 columns]"
      ]
     },
     "execution_count": 5,
     "metadata": {},
     "output_type": "execute_result"
    }
   ],
   "source": [
    "#making RDR column\n",
    "df['RDR'] = (df['mutated_reads'] / df['human_reads']) * (df['human_reads'].sum() / df['mutated_reads'].sum())\n",
    "df"
   ]
  },
  {
   "cell_type": "code",
   "execution_count": 6,
   "metadata": {},
   "outputs": [
    {
     "data": {
      "text/plain": [
       "57509"
      ]
     },
     "execution_count": 6,
     "metadata": {},
     "output_type": "execute_result"
    }
   ],
   "source": [
    "len(df)"
   ]
  },
  {
   "attachments": {},
   "cell_type": "markdown",
   "metadata": {},
   "source": [
    "ANALYSIS"
   ]
  },
  {
   "attachments": {},
   "cell_type": "markdown",
   "metadata": {},
   "source": [
    "--------------- CHR8, NORMAL COPY NUMBER -----------------------------------"
   ]
  },
  {
   "cell_type": "code",
   "execution_count": 7,
   "metadata": {},
   "outputs": [
    {
     "data": {
      "text/plain": [
       "1289"
      ]
     },
     "execution_count": 7,
     "metadata": {},
     "output_type": "execute_result"
    }
   ],
   "source": [
    "chr20 = df[df['chr']==20] #what a normal copy number RDR looks like. \n",
    "len(chr20)"
   ]
  },
  {
   "cell_type": "code",
   "execution_count": 169,
   "metadata": {},
   "outputs": [
    {
     "data": {
      "text/html": [
       "<div>\n",
       "<style scoped>\n",
       "    .dataframe tbody tr th:only-of-type {\n",
       "        vertical-align: middle;\n",
       "    }\n",
       "\n",
       "    .dataframe tbody tr th {\n",
       "        vertical-align: top;\n",
       "    }\n",
       "\n",
       "    .dataframe thead th {\n",
       "        text-align: right;\n",
       "    }\n",
       "</style>\n",
       "<table border=\"1\" class=\"dataframe\">\n",
       "  <thead>\n",
       "    <tr style=\"text-align: right;\">\n",
       "      <th></th>\n",
       "      <th>index</th>\n",
       "      <th>chr</th>\n",
       "      <th>start_pos</th>\n",
       "      <th>end_pos</th>\n",
       "      <th>human_reads</th>\n",
       "      <th>mutated_reads</th>\n",
       "      <th>RDR</th>\n",
       "    </tr>\n",
       "  </thead>\n",
       "  <tbody>\n",
       "    <tr>\n",
       "      <th>54269</th>\n",
       "      <td>54269</td>\n",
       "      <td>20</td>\n",
       "      <td>50000</td>\n",
       "      <td>100000</td>\n",
       "      <td>0</td>\n",
       "      <td>4</td>\n",
       "      <td>inf</td>\n",
       "    </tr>\n",
       "    <tr>\n",
       "      <th>54363</th>\n",
       "      <td>54363</td>\n",
       "      <td>20</td>\n",
       "      <td>4750000</td>\n",
       "      <td>4800000</td>\n",
       "      <td>0</td>\n",
       "      <td>20</td>\n",
       "      <td>inf</td>\n",
       "    </tr>\n",
       "    <tr>\n",
       "      <th>54532</th>\n",
       "      <td>54532</td>\n",
       "      <td>20</td>\n",
       "      <td>13200000</td>\n",
       "      <td>13250000</td>\n",
       "      <td>0</td>\n",
       "      <td>4</td>\n",
       "      <td>inf</td>\n",
       "    </tr>\n",
       "    <tr>\n",
       "      <th>54553</th>\n",
       "      <td>54553</td>\n",
       "      <td>20</td>\n",
       "      <td>14250000</td>\n",
       "      <td>14300000</td>\n",
       "      <td>0</td>\n",
       "      <td>12</td>\n",
       "      <td>inf</td>\n",
       "    </tr>\n",
       "    <tr>\n",
       "      <th>54614</th>\n",
       "      <td>54614</td>\n",
       "      <td>20</td>\n",
       "      <td>17300000</td>\n",
       "      <td>17350000</td>\n",
       "      <td>0</td>\n",
       "      <td>8</td>\n",
       "      <td>inf</td>\n",
       "    </tr>\n",
       "    <tr>\n",
       "      <th>54888</th>\n",
       "      <td>54888</td>\n",
       "      <td>20</td>\n",
       "      <td>31000000</td>\n",
       "      <td>31050000</td>\n",
       "      <td>0</td>\n",
       "      <td>2</td>\n",
       "      <td>inf</td>\n",
       "    </tr>\n",
       "    <tr>\n",
       "      <th>54959</th>\n",
       "      <td>54959</td>\n",
       "      <td>20</td>\n",
       "      <td>34550000</td>\n",
       "      <td>34600000</td>\n",
       "      <td>0</td>\n",
       "      <td>20</td>\n",
       "      <td>inf</td>\n",
       "    </tr>\n",
       "    <tr>\n",
       "      <th>54967</th>\n",
       "      <td>54967</td>\n",
       "      <td>20</td>\n",
       "      <td>34950000</td>\n",
       "      <td>35000000</td>\n",
       "      <td>0</td>\n",
       "      <td>4</td>\n",
       "      <td>inf</td>\n",
       "    </tr>\n",
       "    <tr>\n",
       "      <th>55116</th>\n",
       "      <td>55116</td>\n",
       "      <td>20</td>\n",
       "      <td>42400000</td>\n",
       "      <td>42450000</td>\n",
       "      <td>0</td>\n",
       "      <td>12</td>\n",
       "      <td>inf</td>\n",
       "    </tr>\n",
       "    <tr>\n",
       "      <th>55481</th>\n",
       "      <td>55481</td>\n",
       "      <td>20</td>\n",
       "      <td>60650000</td>\n",
       "      <td>60700000</td>\n",
       "      <td>0</td>\n",
       "      <td>6</td>\n",
       "      <td>inf</td>\n",
       "    </tr>\n",
       "  </tbody>\n",
       "</table>\n",
       "</div>"
      ],
      "text/plain": [
       "       index  chr  start_pos   end_pos  human_reads  mutated_reads  RDR\n",
       "54269  54269   20      50000    100000            0              4  inf\n",
       "54363  54363   20    4750000   4800000            0             20  inf\n",
       "54532  54532   20   13200000  13250000            0              4  inf\n",
       "54553  54553   20   14250000  14300000            0             12  inf\n",
       "54614  54614   20   17300000  17350000            0              8  inf\n",
       "54888  54888   20   31000000  31050000            0              2  inf\n",
       "54959  54959   20   34550000  34600000            0             20  inf\n",
       "54967  54967   20   34950000  35000000            0              4  inf\n",
       "55116  55116   20   42400000  42450000            0             12  inf\n",
       "55481  55481   20   60650000  60700000            0              6  inf"
      ]
     },
     "execution_count": 169,
     "metadata": {},
     "output_type": "execute_result"
    }
   ],
   "source": [
    "chr20_inf_RDR = chr20[chr20['RDR']== np.inf] #what a normal copy number RDR looks like. \n",
    "chr20_inf_RDR\n",
    "\n",
    "#all 20 occurences due to human read recordings of 0\n",
    "\n",
    "#20/2903 0.7% of these had infinite RDR values, skewing the results for a normal read"
   ]
  },
  {
   "cell_type": "code",
   "execution_count": 170,
   "metadata": {},
   "outputs": [
    {
     "data": {
      "text/html": [
       "<div>\n",
       "<style scoped>\n",
       "    .dataframe tbody tr th:only-of-type {\n",
       "        vertical-align: middle;\n",
       "    }\n",
       "\n",
       "    .dataframe tbody tr th {\n",
       "        vertical-align: top;\n",
       "    }\n",
       "\n",
       "    .dataframe thead th {\n",
       "        text-align: right;\n",
       "    }\n",
       "</style>\n",
       "<table border=\"1\" class=\"dataframe\">\n",
       "  <thead>\n",
       "    <tr style=\"text-align: right;\">\n",
       "      <th></th>\n",
       "      <th>index</th>\n",
       "      <th>chr</th>\n",
       "      <th>start_pos</th>\n",
       "      <th>end_pos</th>\n",
       "      <th>human_reads</th>\n",
       "      <th>mutated_reads</th>\n",
       "      <th>RDR</th>\n",
       "    </tr>\n",
       "  </thead>\n",
       "  <tbody>\n",
       "    <tr>\n",
       "      <th>54268</th>\n",
       "      <td>NaN</td>\n",
       "      <td>NaN</td>\n",
       "      <td>NaN</td>\n",
       "      <td>NaN</td>\n",
       "      <td>NaN</td>\n",
       "      <td>NaN</td>\n",
       "      <td>NaN</td>\n",
       "    </tr>\n",
       "    <tr>\n",
       "      <th>54269</th>\n",
       "      <td>NaN</td>\n",
       "      <td>NaN</td>\n",
       "      <td>NaN</td>\n",
       "      <td>NaN</td>\n",
       "      <td>NaN</td>\n",
       "      <td>NaN</td>\n",
       "      <td>inf</td>\n",
       "    </tr>\n",
       "    <tr>\n",
       "      <th>54270</th>\n",
       "      <td>NaN</td>\n",
       "      <td>NaN</td>\n",
       "      <td>NaN</td>\n",
       "      <td>NaN</td>\n",
       "      <td>NaN</td>\n",
       "      <td>NaN</td>\n",
       "      <td>NaN</td>\n",
       "    </tr>\n",
       "    <tr>\n",
       "      <th>54271</th>\n",
       "      <td>NaN</td>\n",
       "      <td>NaN</td>\n",
       "      <td>NaN</td>\n",
       "      <td>NaN</td>\n",
       "      <td>NaN</td>\n",
       "      <td>NaN</td>\n",
       "      <td>NaN</td>\n",
       "    </tr>\n",
       "    <tr>\n",
       "      <th>54272</th>\n",
       "      <td>NaN</td>\n",
       "      <td>NaN</td>\n",
       "      <td>NaN</td>\n",
       "      <td>NaN</td>\n",
       "      <td>NaN</td>\n",
       "      <td>NaN</td>\n",
       "      <td>NaN</td>\n",
       "    </tr>\n",
       "    <tr>\n",
       "      <th>...</th>\n",
       "      <td>...</td>\n",
       "      <td>...</td>\n",
       "      <td>...</td>\n",
       "      <td>...</td>\n",
       "      <td>...</td>\n",
       "      <td>...</td>\n",
       "      <td>...</td>\n",
       "    </tr>\n",
       "    <tr>\n",
       "      <th>55552</th>\n",
       "      <td>NaN</td>\n",
       "      <td>NaN</td>\n",
       "      <td>NaN</td>\n",
       "      <td>NaN</td>\n",
       "      <td>NaN</td>\n",
       "      <td>NaN</td>\n",
       "      <td>NaN</td>\n",
       "    </tr>\n",
       "    <tr>\n",
       "      <th>55553</th>\n",
       "      <td>NaN</td>\n",
       "      <td>NaN</td>\n",
       "      <td>NaN</td>\n",
       "      <td>NaN</td>\n",
       "      <td>NaN</td>\n",
       "      <td>NaN</td>\n",
       "      <td>NaN</td>\n",
       "    </tr>\n",
       "    <tr>\n",
       "      <th>55554</th>\n",
       "      <td>NaN</td>\n",
       "      <td>NaN</td>\n",
       "      <td>NaN</td>\n",
       "      <td>NaN</td>\n",
       "      <td>NaN</td>\n",
       "      <td>NaN</td>\n",
       "      <td>NaN</td>\n",
       "    </tr>\n",
       "    <tr>\n",
       "      <th>55555</th>\n",
       "      <td>NaN</td>\n",
       "      <td>NaN</td>\n",
       "      <td>NaN</td>\n",
       "      <td>NaN</td>\n",
       "      <td>NaN</td>\n",
       "      <td>NaN</td>\n",
       "      <td>NaN</td>\n",
       "    </tr>\n",
       "    <tr>\n",
       "      <th>55556</th>\n",
       "      <td>NaN</td>\n",
       "      <td>NaN</td>\n",
       "      <td>NaN</td>\n",
       "      <td>NaN</td>\n",
       "      <td>NaN</td>\n",
       "      <td>NaN</td>\n",
       "      <td>NaN</td>\n",
       "    </tr>\n",
       "  </tbody>\n",
       "</table>\n",
       "<p>1289 rows × 7 columns</p>\n",
       "</div>"
      ],
      "text/plain": [
       "       index  chr  start_pos  end_pos  human_reads  mutated_reads  RDR\n",
       "54268    NaN  NaN        NaN      NaN          NaN            NaN  NaN\n",
       "54269    NaN  NaN        NaN      NaN          NaN            NaN  inf\n",
       "54270    NaN  NaN        NaN      NaN          NaN            NaN  NaN\n",
       "54271    NaN  NaN        NaN      NaN          NaN            NaN  NaN\n",
       "54272    NaN  NaN        NaN      NaN          NaN            NaN  NaN\n",
       "...      ...  ...        ...      ...          ...            ...  ...\n",
       "55552    NaN  NaN        NaN      NaN          NaN            NaN  NaN\n",
       "55553    NaN  NaN        NaN      NaN          NaN            NaN  NaN\n",
       "55554    NaN  NaN        NaN      NaN          NaN            NaN  NaN\n",
       "55555    NaN  NaN        NaN      NaN          NaN            NaN  NaN\n",
       "55556    NaN  NaN        NaN      NaN          NaN            NaN  NaN\n",
       "\n",
       "[1289 rows x 7 columns]"
      ]
     },
     "execution_count": 170,
     "metadata": {},
     "output_type": "execute_result"
    }
   ],
   "source": [
    "number_inf_table = chr20[chr20 == np.inf]\n",
    "number_inf_table"
   ]
  },
  {
   "cell_type": "code",
   "execution_count": 171,
   "metadata": {},
   "outputs": [
    {
     "data": {
      "text/plain": [
       "index             0\n",
       "chr               0\n",
       "start_pos         0\n",
       "end_pos           0\n",
       "human_reads       0\n",
       "mutated_reads     0\n",
       "RDR              10\n",
       "dtype: int64"
      ]
     },
     "execution_count": 171,
     "metadata": {},
     "output_type": "execute_result"
    }
   ],
   "source": [
    "number_inf = chr20[chr20 == np.inf].count()\n",
    "number_inf\n",
    "\n",
    "#20 of them included infinity values"
   ]
  },
  {
   "cell_type": "code",
   "execution_count": 172,
   "metadata": {},
   "outputs": [],
   "source": [
    "chr20 = chr20.replace([np.inf, -np.inf], np.nan).dropna(axis=0)"
   ]
  },
  {
   "cell_type": "code",
   "execution_count": 173,
   "metadata": {},
   "outputs": [
    {
     "data": {
      "text/plain": [
       "1276"
      ]
     },
     "execution_count": 173,
     "metadata": {},
     "output_type": "execute_result"
    }
   ],
   "source": [
    "chr20.dropna(inplace=True)\n",
    "len(chr20)\n"
   ]
  },
  {
   "cell_type": "code",
   "execution_count": 174,
   "metadata": {},
   "outputs": [
    {
     "data": {
      "image/png": "[encoded data removed]",
      "text/plain": [
       "<Figure size 640x480 with 1 Axes>"
      ]
     },
     "metadata": {},
     "output_type": "display_data"
    }
   ],
   "source": [
    "red_circle = dict(markerfacecolor='red', marker='o')\n",
    "\n",
    "plt.boxplot(x=chr20.loc[:,'RDR'], flierprops=red_circle)\n",
    "\n",
    "plt.suptitle(\"\"\"Box and Whisker Plot showing the Variance \n",
    "in Read Depth Ratios Throughout Chromosome 20 : Small \"\"\")\n",
    "\n",
    "plt.xlabel('Chromosome 20')\n",
    "plt.xticks([])\n",
    "plt.ylabel('Read Depth Ratio')\n",
    "\n",
    "plt.savefig('Norm_chr20_small.png', dpi=200 )\n",
    "plt.show()\n",
    "\n"
   ]
  },
  {
   "cell_type": "code",
   "execution_count": 175,
   "metadata": {},
   "outputs": [
    {
     "data": {
      "text/plain": [
       "count    1276.000000\n",
       "mean        1.526521\n",
       "std         1.413720\n",
       "min         0.000000\n",
       "25%         0.769870\n",
       "50%         1.154805\n",
       "75%         1.732208\n",
       "max        13.857662\n",
       "Name: RDR, dtype: float64"
      ]
     },
     "execution_count": 175,
     "metadata": {},
     "output_type": "execute_result"
    }
   ],
   "source": [
    "chr20.loc[:,'RDR'].describe()"
   ]
  },
  {
   "cell_type": "code",
   "execution_count": 176,
   "metadata": {},
   "outputs": [],
   "source": [
    "# chr8.loc[:,'RDR'].mean() #mean RDR of a normal cell"
   ]
  },
  {
   "cell_type": "code",
   "execution_count": 177,
   "metadata": {},
   "outputs": [],
   "source": [
    "# UQ_chr8 = chr8.loc[:,'RDR'].quantile(0.75)\n",
    "# LQ_chr8 = chr8.loc[:,'RDR'].quantile(0.25)\n",
    "# IQR_chr8 = UQ_chr8-LQ_chr8\n",
    "# upper_outliers_chr8 = UQ_chr8 + (1.25*IQR_chr8)\n",
    "# lower_outliers_chr8 = LQ_chr8 - (1.25*IQR_chr8)"
   ]
  },
  {
   "cell_type": "code",
   "execution_count": 178,
   "metadata": {},
   "outputs": [],
   "source": [
    "# IQR_chr8"
   ]
  },
  {
   "cell_type": "code",
   "execution_count": 179,
   "metadata": {},
   "outputs": [],
   "source": [
    "# chr8_without_outliers = chr8[[chr8['RDR'] < upper_outliers_chr8] and chr8['RDR'] > lower_outliers_chr8] \n",
    "# chr8_without_outliers.loc[:,'RDR'].mean()"
   ]
  },
  {
   "cell_type": "code",
   "execution_count": 180,
   "metadata": {},
   "outputs": [
    {
     "data": {
      "text/plain": [
       "4.041818082633252"
      ]
     },
     "execution_count": 180,
     "metadata": {},
     "output_type": "execute_result"
    }
   ],
   "source": [
    "chr20.loc[:,'RDR'].quantile(0.95)"
   ]
  },
  {
   "cell_type": "code",
   "execution_count": 117,
   "metadata": {},
   "outputs": [
    {
     "data": {
      "text/plain": [
       "3.6568830271443713"
      ]
     },
     "execution_count": 117,
     "metadata": {},
     "output_type": "execute_result"
    }
   ],
   "source": [
    "\n",
    "# chr8_without_outliers.loc[:,'RDR'].quantile(0.95)"
   ]
  },
  {
   "attachments": {},
   "cell_type": "markdown",
   "metadata": {},
   "source": [
    "----- chr21: NORMAL COPY NUMBER AGAIN -----------"
   ]
  },
  {
   "cell_type": "code",
   "execution_count": 118,
   "metadata": {},
   "outputs": [
    {
     "data": {
      "text/plain": [
       "935"
      ]
     },
     "execution_count": 118,
     "metadata": {},
     "output_type": "execute_result"
    }
   ],
   "source": [
    "chr21 = df[df['chr']==21] #what a normal copy number RDR looks like. \n",
    "len(chr21)"
   ]
  },
  {
   "cell_type": "code",
   "execution_count": 119,
   "metadata": {},
   "outputs": [
    {
     "data": {
      "text/html": [
       "<div>\n",
       "<style scoped>\n",
       "    .dataframe tbody tr th:only-of-type {\n",
       "        vertical-align: middle;\n",
       "    }\n",
       "\n",
       "    .dataframe tbody tr th {\n",
       "        vertical-align: top;\n",
       "    }\n",
       "\n",
       "    .dataframe thead th {\n",
       "        text-align: right;\n",
       "    }\n",
       "</style>\n",
       "<table border=\"1\" class=\"dataframe\">\n",
       "  <thead>\n",
       "    <tr style=\"text-align: right;\">\n",
       "      <th></th>\n",
       "      <th>index</th>\n",
       "      <th>chr</th>\n",
       "      <th>start_pos</th>\n",
       "      <th>end_pos</th>\n",
       "      <th>human_reads</th>\n",
       "      <th>mutated_reads</th>\n",
       "      <th>RDR</th>\n",
       "    </tr>\n",
       "  </thead>\n",
       "  <tbody>\n",
       "    <tr>\n",
       "      <th>55657</th>\n",
       "      <td>55657</td>\n",
       "      <td>21</td>\n",
       "      <td>5000000</td>\n",
       "      <td>5050000</td>\n",
       "      <td>8</td>\n",
       "      <td>8</td>\n",
       "      <td>1.154805</td>\n",
       "    </tr>\n",
       "    <tr>\n",
       "      <th>55658</th>\n",
       "      <td>55658</td>\n",
       "      <td>21</td>\n",
       "      <td>5050000</td>\n",
       "      <td>5100000</td>\n",
       "      <td>8</td>\n",
       "      <td>12</td>\n",
       "      <td>1.732208</td>\n",
       "    </tr>\n",
       "    <tr>\n",
       "      <th>55659</th>\n",
       "      <td>55659</td>\n",
       "      <td>21</td>\n",
       "      <td>5100000</td>\n",
       "      <td>5150000</td>\n",
       "      <td>6</td>\n",
       "      <td>18</td>\n",
       "      <td>3.464415</td>\n",
       "    </tr>\n",
       "    <tr>\n",
       "      <th>55660</th>\n",
       "      <td>55660</td>\n",
       "      <td>21</td>\n",
       "      <td>5150000</td>\n",
       "      <td>5200000</td>\n",
       "      <td>8</td>\n",
       "      <td>0</td>\n",
       "      <td>0.000000</td>\n",
       "    </tr>\n",
       "    <tr>\n",
       "      <th>55661</th>\n",
       "      <td>55661</td>\n",
       "      <td>21</td>\n",
       "      <td>5200000</td>\n",
       "      <td>5250000</td>\n",
       "      <td>6</td>\n",
       "      <td>6</td>\n",
       "      <td>1.154805</td>\n",
       "    </tr>\n",
       "    <tr>\n",
       "      <th>...</th>\n",
       "      <td>...</td>\n",
       "      <td>...</td>\n",
       "      <td>...</td>\n",
       "      <td>...</td>\n",
       "      <td>...</td>\n",
       "      <td>...</td>\n",
       "      <td>...</td>\n",
       "    </tr>\n",
       "    <tr>\n",
       "      <th>56486</th>\n",
       "      <td>56486</td>\n",
       "      <td>21</td>\n",
       "      <td>46450000</td>\n",
       "      <td>46500000</td>\n",
       "      <td>14</td>\n",
       "      <td>14</td>\n",
       "      <td>1.154805</td>\n",
       "    </tr>\n",
       "    <tr>\n",
       "      <th>56487</th>\n",
       "      <td>56487</td>\n",
       "      <td>21</td>\n",
       "      <td>46500000</td>\n",
       "      <td>46550000</td>\n",
       "      <td>12</td>\n",
       "      <td>2</td>\n",
       "      <td>0.192468</td>\n",
       "    </tr>\n",
       "    <tr>\n",
       "      <th>56488</th>\n",
       "      <td>56488</td>\n",
       "      <td>21</td>\n",
       "      <td>46550000</td>\n",
       "      <td>46600000</td>\n",
       "      <td>10</td>\n",
       "      <td>12</td>\n",
       "      <td>1.385766</td>\n",
       "    </tr>\n",
       "    <tr>\n",
       "      <th>56489</th>\n",
       "      <td>56489</td>\n",
       "      <td>21</td>\n",
       "      <td>46600000</td>\n",
       "      <td>46650000</td>\n",
       "      <td>12</td>\n",
       "      <td>10</td>\n",
       "      <td>0.962338</td>\n",
       "    </tr>\n",
       "    <tr>\n",
       "      <th>56490</th>\n",
       "      <td>56490</td>\n",
       "      <td>21</td>\n",
       "      <td>46650000</td>\n",
       "      <td>46700000</td>\n",
       "      <td>8</td>\n",
       "      <td>10</td>\n",
       "      <td>1.443506</td>\n",
       "    </tr>\n",
       "  </tbody>\n",
       "</table>\n",
       "<p>775 rows × 7 columns</p>\n",
       "</div>"
      ],
      "text/plain": [
       "       index  chr  start_pos   end_pos  human_reads  mutated_reads       RDR\n",
       "55657  55657   21    5000000   5050000            8              8  1.154805\n",
       "55658  55658   21    5050000   5100000            8             12  1.732208\n",
       "55659  55659   21    5100000   5150000            6             18  3.464415\n",
       "55660  55660   21    5150000   5200000            8              0  0.000000\n",
       "55661  55661   21    5200000   5250000            6              6  1.154805\n",
       "...      ...  ...        ...       ...          ...            ...       ...\n",
       "56486  56486   21   46450000  46500000           14             14  1.154805\n",
       "56487  56487   21   46500000  46550000           12              2  0.192468\n",
       "56488  56488   21   46550000  46600000           10             12  1.385766\n",
       "56489  56489   21   46600000  46650000           12             10  0.962338\n",
       "56490  56490   21   46650000  46700000            8             10  1.443506\n",
       "\n",
       "[775 rows x 7 columns]"
      ]
     },
     "execution_count": 119,
     "metadata": {},
     "output_type": "execute_result"
    }
   ],
   "source": [
    "chr21 = chr21.replace([np.inf, -np.inf], np.nan).dropna(axis=0)\n",
    "chr21.dropna(inplace=True)\n",
    "chr21\n"
   ]
  },
  {
   "cell_type": "code",
   "execution_count": 120,
   "metadata": {},
   "outputs": [
    {
     "data": {
      "text/plain": [
       "count    775.000000\n",
       "mean       1.501455\n",
       "std        1.442955\n",
       "min        0.000000\n",
       "25%        0.692883\n",
       "50%        1.154805\n",
       "75%        1.732208\n",
       "max       13.857662\n",
       "Name: RDR, dtype: float64"
      ]
     },
     "execution_count": 120,
     "metadata": {},
     "output_type": "execute_result"
    }
   ],
   "source": [
    "chr21.loc[:,'RDR'].describe()"
   ]
  },
  {
   "cell_type": "code",
   "execution_count": 121,
   "metadata": {},
   "outputs": [
    {
     "data": {
      "text/plain": [
       "3.464415499399931"
      ]
     },
     "execution_count": 121,
     "metadata": {},
     "output_type": "execute_result"
    }
   ],
   "source": [
    "chr21.loc[:,'RDR'].quantile(0.95)"
   ]
  },
  {
   "attachments": {},
   "cell_type": "markdown",
   "metadata": {},
   "source": [
    "---------------- CHR2 : HOMOZYGOUS DELETION ----------------------"
   ]
  },
  {
   "cell_type": "code",
   "execution_count": 122,
   "metadata": {},
   "outputs": [
    {
     "name": "stderr",
     "output_type": "stream",
     "text": [
      "/var/folders/zj/ww00cy3n0dg4jg01vzxf6z6w0000gp/T/ipykernel_16247/1108414522.py:3: SettingWithCopyWarning: \n",
      "A value is trying to be set on a copy of a slice from a DataFrame\n",
      "\n",
      "See the caveats in the documentation: https://pandas.pydata.org/pandas-docs/stable/user_guide/indexing.html#returning-a-view-versus-a-copy\n",
      "  chr2.dropna(inplace=True)\n"
     ]
    },
    {
     "data": {
      "text/plain": [
       "4782"
      ]
     },
     "execution_count": 122,
     "metadata": {},
     "output_type": "execute_result"
    }
   ],
   "source": [
    "chr2 = df[df['chr']==2] #what a homozgyous copy number RDR looks like. \n",
    "\n",
    "chr2.dropna(inplace=True)\n",
    "\n",
    "len(chr2)"
   ]
  },
  {
   "cell_type": "code",
   "execution_count": 123,
   "metadata": {},
   "outputs": [
    {
     "data": {
      "text/plain": [
       "0.03053115851108323"
      ]
     },
     "execution_count": 123,
     "metadata": {},
     "output_type": "execute_result"
    }
   ],
   "source": [
    "chr2['mutated_reads'].mean()"
   ]
  },
  {
   "cell_type": "code",
   "execution_count": 124,
   "metadata": {},
   "outputs": [
    {
     "data": {
      "text/plain": [
       "count    4782.000000\n",
       "mean        0.030531\n",
       "std         0.271162\n",
       "min         0.000000\n",
       "25%         0.000000\n",
       "50%         0.000000\n",
       "75%         0.000000\n",
       "max         6.000000\n",
       "Name: mutated_reads, dtype: float64"
      ]
     },
     "execution_count": 124,
     "metadata": {},
     "output_type": "execute_result"
    }
   ],
   "source": [
    "chr2.loc[:,'mutated_reads'].describe()"
   ]
  },
  {
   "cell_type": "code",
   "execution_count": 125,
   "metadata": {},
   "outputs": [
    {
     "data": {
      "text/plain": [
       "10.076746131325805"
      ]
     },
     "execution_count": 125,
     "metadata": {},
     "output_type": "execute_result"
    }
   ],
   "source": [
    "chr2['human_reads'].mean()"
   ]
  },
  {
   "cell_type": "code",
   "execution_count": 126,
   "metadata": {},
   "outputs": [
    {
     "data": {
      "text/html": [
       "<div>\n",
       "<style scoped>\n",
       "    .dataframe tbody tr th:only-of-type {\n",
       "        vertical-align: middle;\n",
       "    }\n",
       "\n",
       "    .dataframe tbody tr th {\n",
       "        vertical-align: top;\n",
       "    }\n",
       "\n",
       "    .dataframe thead th {\n",
       "        text-align: right;\n",
       "    }\n",
       "</style>\n",
       "<table border=\"1\" class=\"dataframe\">\n",
       "  <thead>\n",
       "    <tr style=\"text-align: right;\">\n",
       "      <th></th>\n",
       "      <th>index</th>\n",
       "      <th>chr</th>\n",
       "      <th>start_pos</th>\n",
       "      <th>end_pos</th>\n",
       "      <th>human_reads</th>\n",
       "      <th>mutated_reads</th>\n",
       "      <th>RDR</th>\n",
       "    </tr>\n",
       "  </thead>\n",
       "  <tbody>\n",
       "    <tr>\n",
       "      <th>5444</th>\n",
       "      <td>5444</td>\n",
       "      <td>2</td>\n",
       "      <td>23200000</td>\n",
       "      <td>23250000</td>\n",
       "      <td>4</td>\n",
       "      <td>4</td>\n",
       "      <td>1.154805</td>\n",
       "    </tr>\n",
       "    <tr>\n",
       "      <th>8375</th>\n",
       "      <td>8375</td>\n",
       "      <td>2</td>\n",
       "      <td>169750000</td>\n",
       "      <td>169800000</td>\n",
       "      <td>2</td>\n",
       "      <td>2</td>\n",
       "      <td>1.154805</td>\n",
       "    </tr>\n",
       "    <tr>\n",
       "      <th>8052</th>\n",
       "      <td>8052</td>\n",
       "      <td>2</td>\n",
       "      <td>153600000</td>\n",
       "      <td>153650000</td>\n",
       "      <td>6</td>\n",
       "      <td>4</td>\n",
       "      <td>0.769870</td>\n",
       "    </tr>\n",
       "    <tr>\n",
       "      <th>5643</th>\n",
       "      <td>5643</td>\n",
       "      <td>2</td>\n",
       "      <td>33150000</td>\n",
       "      <td>33200000</td>\n",
       "      <td>4</td>\n",
       "      <td>2</td>\n",
       "      <td>0.577403</td>\n",
       "    </tr>\n",
       "    <tr>\n",
       "      <th>6314</th>\n",
       "      <td>6314</td>\n",
       "      <td>2</td>\n",
       "      <td>66700000</td>\n",
       "      <td>66750000</td>\n",
       "      <td>4</td>\n",
       "      <td>2</td>\n",
       "      <td>0.577403</td>\n",
       "    </tr>\n",
       "    <tr>\n",
       "      <th>6532</th>\n",
       "      <td>6532</td>\n",
       "      <td>2</td>\n",
       "      <td>77600000</td>\n",
       "      <td>77650000</td>\n",
       "      <td>4</td>\n",
       "      <td>2</td>\n",
       "      <td>0.577403</td>\n",
       "    </tr>\n",
       "    <tr>\n",
       "      <th>6771</th>\n",
       "      <td>6771</td>\n",
       "      <td>2</td>\n",
       "      <td>89550000</td>\n",
       "      <td>89600000</td>\n",
       "      <td>4</td>\n",
       "      <td>2</td>\n",
       "      <td>0.577403</td>\n",
       "    </tr>\n",
       "    <tr>\n",
       "      <th>7249</th>\n",
       "      <td>7249</td>\n",
       "      <td>2</td>\n",
       "      <td>113450000</td>\n",
       "      <td>113500000</td>\n",
       "      <td>4</td>\n",
       "      <td>2</td>\n",
       "      <td>0.577403</td>\n",
       "    </tr>\n",
       "    <tr>\n",
       "      <th>7251</th>\n",
       "      <td>7251</td>\n",
       "      <td>2</td>\n",
       "      <td>113550000</td>\n",
       "      <td>113600000</td>\n",
       "      <td>8</td>\n",
       "      <td>4</td>\n",
       "      <td>0.577403</td>\n",
       "    </tr>\n",
       "    <tr>\n",
       "      <th>7676</th>\n",
       "      <td>7676</td>\n",
       "      <td>2</td>\n",
       "      <td>134800000</td>\n",
       "      <td>134850000</td>\n",
       "      <td>4</td>\n",
       "      <td>2</td>\n",
       "      <td>0.577403</td>\n",
       "    </tr>\n",
       "    <tr>\n",
       "      <th>8088</th>\n",
       "      <td>8088</td>\n",
       "      <td>2</td>\n",
       "      <td>155400000</td>\n",
       "      <td>155450000</td>\n",
       "      <td>4</td>\n",
       "      <td>2</td>\n",
       "      <td>0.577403</td>\n",
       "    </tr>\n",
       "    <tr>\n",
       "      <th>9823</th>\n",
       "      <td>9823</td>\n",
       "      <td>2</td>\n",
       "      <td>242150000</td>\n",
       "      <td>242193529</td>\n",
       "      <td>14</td>\n",
       "      <td>6</td>\n",
       "      <td>0.494916</td>\n",
       "    </tr>\n",
       "    <tr>\n",
       "      <th>5304</th>\n",
       "      <td>5304</td>\n",
       "      <td>2</td>\n",
       "      <td>16200000</td>\n",
       "      <td>16250000</td>\n",
       "      <td>6</td>\n",
       "      <td>2</td>\n",
       "      <td>0.384935</td>\n",
       "    </tr>\n",
       "    <tr>\n",
       "      <th>6908</th>\n",
       "      <td>6908</td>\n",
       "      <td>2</td>\n",
       "      <td>96400000</td>\n",
       "      <td>96450000</td>\n",
       "      <td>6</td>\n",
       "      <td>2</td>\n",
       "      <td>0.384935</td>\n",
       "    </tr>\n",
       "    <tr>\n",
       "      <th>7102</th>\n",
       "      <td>7102</td>\n",
       "      <td>2</td>\n",
       "      <td>106100000</td>\n",
       "      <td>106150000</td>\n",
       "      <td>12</td>\n",
       "      <td>4</td>\n",
       "      <td>0.384935</td>\n",
       "    </tr>\n",
       "    <tr>\n",
       "      <th>7181</th>\n",
       "      <td>7181</td>\n",
       "      <td>2</td>\n",
       "      <td>110050000</td>\n",
       "      <td>110100000</td>\n",
       "      <td>12</td>\n",
       "      <td>4</td>\n",
       "      <td>0.384935</td>\n",
       "    </tr>\n",
       "    <tr>\n",
       "      <th>7557</th>\n",
       "      <td>7557</td>\n",
       "      <td>2</td>\n",
       "      <td>128850000</td>\n",
       "      <td>128900000</td>\n",
       "      <td>6</td>\n",
       "      <td>2</td>\n",
       "      <td>0.384935</td>\n",
       "    </tr>\n",
       "    <tr>\n",
       "      <th>8844</th>\n",
       "      <td>8844</td>\n",
       "      <td>2</td>\n",
       "      <td>193200000</td>\n",
       "      <td>193250000</td>\n",
       "      <td>6</td>\n",
       "      <td>2</td>\n",
       "      <td>0.384935</td>\n",
       "    </tr>\n",
       "    <tr>\n",
       "      <th>9273</th>\n",
       "      <td>9273</td>\n",
       "      <td>2</td>\n",
       "      <td>214650000</td>\n",
       "      <td>214700000</td>\n",
       "      <td>6</td>\n",
       "      <td>2</td>\n",
       "      <td>0.384935</td>\n",
       "    </tr>\n",
       "    <tr>\n",
       "      <th>9677</th>\n",
       "      <td>9677</td>\n",
       "      <td>2</td>\n",
       "      <td>234850000</td>\n",
       "      <td>234900000</td>\n",
       "      <td>6</td>\n",
       "      <td>2</td>\n",
       "      <td>0.384935</td>\n",
       "    </tr>\n",
       "  </tbody>\n",
       "</table>\n",
       "</div>"
      ],
      "text/plain": [
       "      index  chr  start_pos    end_pos  human_reads  mutated_reads       RDR\n",
       "5444   5444    2   23200000   23250000            4              4  1.154805\n",
       "8375   8375    2  169750000  169800000            2              2  1.154805\n",
       "8052   8052    2  153600000  153650000            6              4  0.769870\n",
       "5643   5643    2   33150000   33200000            4              2  0.577403\n",
       "6314   6314    2   66700000   66750000            4              2  0.577403\n",
       "6532   6532    2   77600000   77650000            4              2  0.577403\n",
       "6771   6771    2   89550000   89600000            4              2  0.577403\n",
       "7249   7249    2  113450000  113500000            4              2  0.577403\n",
       "7251   7251    2  113550000  113600000            8              4  0.577403\n",
       "7676   7676    2  134800000  134850000            4              2  0.577403\n",
       "8088   8088    2  155400000  155450000            4              2  0.577403\n",
       "9823   9823    2  242150000  242193529           14              6  0.494916\n",
       "5304   5304    2   16200000   16250000            6              2  0.384935\n",
       "6908   6908    2   96400000   96450000            6              2  0.384935\n",
       "7102   7102    2  106100000  106150000           12              4  0.384935\n",
       "7181   7181    2  110050000  110100000           12              4  0.384935\n",
       "7557   7557    2  128850000  128900000            6              2  0.384935\n",
       "8844   8844    2  193200000  193250000            6              2  0.384935\n",
       "9273   9273    2  214650000  214700000            6              2  0.384935\n",
       "9677   9677    2  234850000  234900000            6              2  0.384935"
      ]
     },
     "execution_count": 126,
     "metadata": {},
     "output_type": "execute_result"
    }
   ],
   "source": [
    "x2 = chr2.nlargest(20, 'RDR')\n",
    "x2"
   ]
  },
  {
   "cell_type": "code",
   "execution_count": 127,
   "metadata": {},
   "outputs": [
    {
     "data": {
      "text/plain": [
       "66"
      ]
     },
     "execution_count": 127,
     "metadata": {},
     "output_type": "execute_result"
    }
   ],
   "source": [
    "chr2_above_zero = chr2[chr2['RDR'] > 0]\n",
    "chr2_above_zero\n",
    "len(chr2_above_zero)"
   ]
  },
  {
   "cell_type": "code",
   "execution_count": 128,
   "metadata": {},
   "outputs": [
    {
     "data": {
      "image/png": "[encoded data removed]",
      "text/plain": [
       "<Figure size 640x480 with 1 Axes>"
      ]
     },
     "metadata": {},
     "output_type": "display_data"
    }
   ],
   "source": [
    "red_circle = dict(markerfacecolor='red', marker='o')\n",
    "\n",
    "plt.boxplot(x=chr2.loc[:,'RDR'], flierprops=red_circle)\n",
    "\n",
    "plt.suptitle(\"\"\"Box and Whisker Plot showing the Variance \n",
    "in Read Depth Ratios Throughout Chromosome 2 : Small\"\"\")\n",
    "\n",
    "plt.xlabel('Chromosome 2')\n",
    "plt.xticks([])\n",
    "plt.ylabel('Read Depth Ratio')\n",
    "\n",
    "plt.savefig('HD_chr2_small_with_outliers.png', dpi=200 )\n",
    "\n",
    "plt.show()\n",
    "\n"
   ]
  },
  {
   "cell_type": "code",
   "execution_count": 129,
   "metadata": {},
   "outputs": [
    {
     "data": {
      "text/plain": [
       "0.0"
      ]
     },
     "execution_count": 129,
     "metadata": {},
     "output_type": "execute_result"
    }
   ],
   "source": [
    "chr2.loc[:,'RDR'].quantile(0.95)"
   ]
  },
  {
   "cell_type": "code",
   "execution_count": 130,
   "metadata": {},
   "outputs": [
    {
     "data": {
      "text/plain": [
       "count    4782.000000\n",
       "mean        0.004397\n",
       "std         0.044504\n",
       "min         0.000000\n",
       "25%         0.000000\n",
       "50%         0.000000\n",
       "75%         0.000000\n",
       "max         1.154805\n",
       "Name: RDR, dtype: float64"
      ]
     },
     "execution_count": 130,
     "metadata": {},
     "output_type": "execute_result"
    }
   ],
   "source": [
    "chr2.loc[:,'RDR'].describe()"
   ]
  },
  {
   "cell_type": "code",
   "execution_count": 131,
   "metadata": {},
   "outputs": [
    {
     "data": {
      "text/plain": [
       "1.1548051664666437"
      ]
     },
     "execution_count": 131,
     "metadata": {},
     "output_type": "execute_result"
    }
   ],
   "source": [
    "chr2_outliers = chr2[chr2['RDR']> 0.07]\n",
    "chr2_outliers['RDR'].max()"
   ]
  },
  {
   "cell_type": "code",
   "execution_count": 132,
   "metadata": {},
   "outputs": [
    {
     "data": {
      "text/html": [
       "<div>\n",
       "<style scoped>\n",
       "    .dataframe tbody tr th:only-of-type {\n",
       "        vertical-align: middle;\n",
       "    }\n",
       "\n",
       "    .dataframe tbody tr th {\n",
       "        vertical-align: top;\n",
       "    }\n",
       "\n",
       "    .dataframe thead th {\n",
       "        text-align: right;\n",
       "    }\n",
       "</style>\n",
       "<table border=\"1\" class=\"dataframe\">\n",
       "  <thead>\n",
       "    <tr style=\"text-align: right;\">\n",
       "      <th></th>\n",
       "      <th>index</th>\n",
       "      <th>chr</th>\n",
       "      <th>start_pos</th>\n",
       "      <th>end_pos</th>\n",
       "      <th>human_reads</th>\n",
       "      <th>mutated_reads</th>\n",
       "      <th>RDR</th>\n",
       "    </tr>\n",
       "  </thead>\n",
       "  <tbody>\n",
       "    <tr>\n",
       "      <th>4980</th>\n",
       "      <td>4980</td>\n",
       "      <td>2</td>\n",
       "      <td>0</td>\n",
       "      <td>50000</td>\n",
       "      <td>6</td>\n",
       "      <td>0</td>\n",
       "      <td>0.0</td>\n",
       "    </tr>\n",
       "    <tr>\n",
       "      <th>4981</th>\n",
       "      <td>4981</td>\n",
       "      <td>2</td>\n",
       "      <td>50000</td>\n",
       "      <td>100000</td>\n",
       "      <td>14</td>\n",
       "      <td>0</td>\n",
       "      <td>0.0</td>\n",
       "    </tr>\n",
       "    <tr>\n",
       "      <th>4982</th>\n",
       "      <td>4982</td>\n",
       "      <td>2</td>\n",
       "      <td>100000</td>\n",
       "      <td>150000</td>\n",
       "      <td>10</td>\n",
       "      <td>0</td>\n",
       "      <td>0.0</td>\n",
       "    </tr>\n",
       "    <tr>\n",
       "      <th>4983</th>\n",
       "      <td>4983</td>\n",
       "      <td>2</td>\n",
       "      <td>150000</td>\n",
       "      <td>200000</td>\n",
       "      <td>8</td>\n",
       "      <td>0</td>\n",
       "      <td>0.0</td>\n",
       "    </tr>\n",
       "    <tr>\n",
       "      <th>4984</th>\n",
       "      <td>4984</td>\n",
       "      <td>2</td>\n",
       "      <td>200000</td>\n",
       "      <td>250000</td>\n",
       "      <td>24</td>\n",
       "      <td>0</td>\n",
       "      <td>0.0</td>\n",
       "    </tr>\n",
       "    <tr>\n",
       "      <th>...</th>\n",
       "      <td>...</td>\n",
       "      <td>...</td>\n",
       "      <td>...</td>\n",
       "      <td>...</td>\n",
       "      <td>...</td>\n",
       "      <td>...</td>\n",
       "      <td>...</td>\n",
       "    </tr>\n",
       "    <tr>\n",
       "      <th>9817</th>\n",
       "      <td>9817</td>\n",
       "      <td>2</td>\n",
       "      <td>241850000</td>\n",
       "      <td>241900000</td>\n",
       "      <td>4</td>\n",
       "      <td>0</td>\n",
       "      <td>0.0</td>\n",
       "    </tr>\n",
       "    <tr>\n",
       "      <th>9818</th>\n",
       "      <td>9818</td>\n",
       "      <td>2</td>\n",
       "      <td>241900000</td>\n",
       "      <td>241950000</td>\n",
       "      <td>6</td>\n",
       "      <td>0</td>\n",
       "      <td>0.0</td>\n",
       "    </tr>\n",
       "    <tr>\n",
       "      <th>9819</th>\n",
       "      <td>9819</td>\n",
       "      <td>2</td>\n",
       "      <td>241950000</td>\n",
       "      <td>242000000</td>\n",
       "      <td>4</td>\n",
       "      <td>0</td>\n",
       "      <td>0.0</td>\n",
       "    </tr>\n",
       "    <tr>\n",
       "      <th>9820</th>\n",
       "      <td>9820</td>\n",
       "      <td>2</td>\n",
       "      <td>242000000</td>\n",
       "      <td>242050000</td>\n",
       "      <td>8</td>\n",
       "      <td>0</td>\n",
       "      <td>0.0</td>\n",
       "    </tr>\n",
       "    <tr>\n",
       "      <th>9821</th>\n",
       "      <td>9821</td>\n",
       "      <td>2</td>\n",
       "      <td>242050000</td>\n",
       "      <td>242100000</td>\n",
       "      <td>8</td>\n",
       "      <td>0</td>\n",
       "      <td>0.0</td>\n",
       "    </tr>\n",
       "  </tbody>\n",
       "</table>\n",
       "<p>4742 rows × 7 columns</p>\n",
       "</div>"
      ],
      "text/plain": [
       "      index  chr  start_pos    end_pos  human_reads  mutated_reads  RDR\n",
       "4980   4980    2          0      50000            6              0  0.0\n",
       "4981   4981    2      50000     100000           14              0  0.0\n",
       "4982   4982    2     100000     150000           10              0  0.0\n",
       "4983   4983    2     150000     200000            8              0  0.0\n",
       "4984   4984    2     200000     250000           24              0  0.0\n",
       "...     ...  ...        ...        ...          ...            ...  ...\n",
       "9817   9817    2  241850000  241900000            4              0  0.0\n",
       "9818   9818    2  241900000  241950000            6              0  0.0\n",
       "9819   9819    2  241950000  242000000            4              0  0.0\n",
       "9820   9820    2  242000000  242050000            8              0  0.0\n",
       "9821   9821    2  242050000  242100000            8              0  0.0\n",
       "\n",
       "[4742 rows x 7 columns]"
      ]
     },
     "execution_count": 132,
     "metadata": {},
     "output_type": "execute_result"
    }
   ],
   "source": [
    "chr2_filtered = chr2[chr2['RDR']< 0.2]\n",
    "chr2_filtered"
   ]
  },
  {
   "cell_type": "code",
   "execution_count": null,
   "metadata": {},
   "outputs": [],
   "source": []
  },
  {
   "cell_type": "code",
   "execution_count": 133,
   "metadata": {},
   "outputs": [
    {
     "data": {
      "image/png": "[encoded data removed]",
      "text/plain": [
       "<Figure size 640x480 with 1 Axes>"
      ]
     },
     "metadata": {},
     "output_type": "display_data"
    }
   ],
   "source": [
    "red_circle = dict(markerfacecolor='red', marker='o')\n",
    "\n",
    "plt.boxplot(x=chr2_filtered.loc[:,'RDR'], flierprops=red_circle, showfliers=False)\n",
    "\n",
    "plt.suptitle(\"\"\"Box and Whisker Plot showing the filtered \n",
    "in Read Depth Ratios Throughout Chromosome 2 : Small\"\"\")\n",
    "             \n",
    "\n",
    "\n",
    "plt.xlabel('Chromosome 2')\n",
    "plt.xticks([])\n",
    "plt.ylabel('Read Depth Ratio')\n",
    "\n",
    "\n",
    "\n",
    "plt.show()"
   ]
  },
  {
   "cell_type": "code",
   "execution_count": 134,
   "metadata": {},
   "outputs": [
    {
     "data": {
      "text/plain": [
       "0.02502"
      ]
     },
     "execution_count": 134,
     "metadata": {},
     "output_type": "execute_result"
    }
   ],
   "source": [
    "0.02502"
   ]
  },
  {
   "cell_type": "code",
   "execution_count": 135,
   "metadata": {},
   "outputs": [
    {
     "data": {
      "text/plain": [
       "count    4742.000000\n",
       "mean        0.000937\n",
       "std         0.012773\n",
       "min         0.000000\n",
       "25%         0.000000\n",
       "50%         0.000000\n",
       "75%         0.000000\n",
       "max         0.192468\n",
       "Name: RDR, dtype: float64"
      ]
     },
     "execution_count": 135,
     "metadata": {},
     "output_type": "execute_result"
    }
   ],
   "source": [
    "chr2_filtered.loc[:,'RDR'].describe()"
   ]
  },
  {
   "cell_type": "code",
   "execution_count": 136,
   "metadata": {},
   "outputs": [],
   "source": [
    "UQ_chr2 = chr2.loc[:,'RDR'].quantile(0.75)\n",
    "LQ_chr2 = chr2.loc[:,'RDR'].quantile(0.25)\n",
    "IQR_chr2 = (UQ_chr2) -(LQ_chr2)\n",
    "upper_outliers_chr2 = UQ_chr2 + (1.25* IQR_chr2)"
   ]
  },
  {
   "cell_type": "code",
   "execution_count": 137,
   "metadata": {},
   "outputs": [
    {
     "data": {
      "text/plain": [
       "0.0"
      ]
     },
     "execution_count": 137,
     "metadata": {},
     "output_type": "execute_result"
    }
   ],
   "source": [
    "IQR_chr2"
   ]
  },
  {
   "cell_type": "code",
   "execution_count": 138,
   "metadata": {},
   "outputs": [
    {
     "data": {
      "image/png": "[encoded data removed]",
      "text/plain": [
       "<Figure size 1200x300 with 1 Axes>"
      ]
     },
     "metadata": {},
     "output_type": "display_data"
    }
   ],
   "source": [
    "plt.figure(figsize=(12,3))\n",
    "chr2 = sns.scatterplot(data=chr2, x='index', y='RDR', hue='chr', legend=False, palette='Set2', s=7) #look up how to move legend from graph\n",
    "\n",
    "chr2.set_ylim(0, 1.2)\n",
    "\n",
    "plt.tight_layout()\n",
    "\n",
    "plt.savefig('chr2_small_scatterplot', dpi=200 )"
   ]
  },
  {
   "cell_type": "code",
   "execution_count": 140,
   "metadata": {},
   "outputs": [],
   "source": [
    "#chr2[chr2['RDR'] > upper_outliers_chr2]  #only 3 values with an RDR above 0.0333"
   ]
  },
  {
   "cell_type": "code",
   "execution_count": 142,
   "metadata": {},
   "outputs": [],
   "source": [
    "#chr2_without_outliers = chr2[chr2['RDR'] < upper_outliers_chr2] \n",
    "#chr2_without_outliers.loc[:,'RDR'].mean()"
   ]
  },
  {
   "attachments": {},
   "cell_type": "markdown",
   "metadata": {},
   "source": [
    "---------------- CHR17 : HETEROZYGOUS DELETION ----------------------"
   ]
  },
  {
   "cell_type": "code",
   "execution_count": 153,
   "metadata": {},
   "outputs": [
    {
     "data": {
      "text/plain": [
       "1666"
      ]
     },
     "execution_count": 153,
     "metadata": {},
     "output_type": "execute_result"
    }
   ],
   "source": [
    "chr17 = df[df['chr']==17]\n",
    "len(chr17)"
   ]
  },
  {
   "cell_type": "code",
   "execution_count": 154,
   "metadata": {},
   "outputs": [
    {
     "data": {
      "text/html": [
       "<div>\n",
       "<style scoped>\n",
       "    .dataframe tbody tr th:only-of-type {\n",
       "        vertical-align: middle;\n",
       "    }\n",
       "\n",
       "    .dataframe tbody tr th {\n",
       "        vertical-align: top;\n",
       "    }\n",
       "\n",
       "    .dataframe thead th {\n",
       "        text-align: right;\n",
       "    }\n",
       "</style>\n",
       "<table border=\"1\" class=\"dataframe\">\n",
       "  <thead>\n",
       "    <tr style=\"text-align: right;\">\n",
       "      <th></th>\n",
       "      <th>index</th>\n",
       "      <th>chr</th>\n",
       "      <th>start_pos</th>\n",
       "      <th>end_pos</th>\n",
       "      <th>human_reads</th>\n",
       "      <th>mutated_reads</th>\n",
       "      <th>RDR</th>\n",
       "    </tr>\n",
       "  </thead>\n",
       "  <tbody>\n",
       "    <tr>\n",
       "      <th>50004</th>\n",
       "      <td>50004</td>\n",
       "      <td>17</td>\n",
       "      <td>9150000</td>\n",
       "      <td>9200000</td>\n",
       "      <td>0</td>\n",
       "      <td>5</td>\n",
       "      <td>inf</td>\n",
       "    </tr>\n",
       "    <tr>\n",
       "      <th>50014</th>\n",
       "      <td>50014</td>\n",
       "      <td>17</td>\n",
       "      <td>9650000</td>\n",
       "      <td>9700000</td>\n",
       "      <td>0</td>\n",
       "      <td>4</td>\n",
       "      <td>inf</td>\n",
       "    </tr>\n",
       "    <tr>\n",
       "      <th>50374</th>\n",
       "      <td>50374</td>\n",
       "      <td>17</td>\n",
       "      <td>27650000</td>\n",
       "      <td>27700000</td>\n",
       "      <td>0</td>\n",
       "      <td>10</td>\n",
       "      <td>inf</td>\n",
       "    </tr>\n",
       "    <tr>\n",
       "      <th>50527</th>\n",
       "      <td>50527</td>\n",
       "      <td>17</td>\n",
       "      <td>35300000</td>\n",
       "      <td>35350000</td>\n",
       "      <td>0</td>\n",
       "      <td>6</td>\n",
       "      <td>inf</td>\n",
       "    </tr>\n",
       "    <tr>\n",
       "      <th>50558</th>\n",
       "      <td>50558</td>\n",
       "      <td>17</td>\n",
       "      <td>36850000</td>\n",
       "      <td>36900000</td>\n",
       "      <td>0</td>\n",
       "      <td>4</td>\n",
       "      <td>inf</td>\n",
       "    </tr>\n",
       "    <tr>\n",
       "      <th>50602</th>\n",
       "      <td>50602</td>\n",
       "      <td>17</td>\n",
       "      <td>39050000</td>\n",
       "      <td>39100000</td>\n",
       "      <td>0</td>\n",
       "      <td>6</td>\n",
       "      <td>inf</td>\n",
       "    </tr>\n",
       "    <tr>\n",
       "      <th>50700</th>\n",
       "      <td>50700</td>\n",
       "      <td>17</td>\n",
       "      <td>43950000</td>\n",
       "      <td>44000000</td>\n",
       "      <td>0</td>\n",
       "      <td>10</td>\n",
       "      <td>inf</td>\n",
       "    </tr>\n",
       "    <tr>\n",
       "      <th>51105</th>\n",
       "      <td>51105</td>\n",
       "      <td>17</td>\n",
       "      <td>64200000</td>\n",
       "      <td>64250000</td>\n",
       "      <td>0</td>\n",
       "      <td>4</td>\n",
       "      <td>inf</td>\n",
       "    </tr>\n",
       "    <tr>\n",
       "      <th>51338</th>\n",
       "      <td>51338</td>\n",
       "      <td>17</td>\n",
       "      <td>75850000</td>\n",
       "      <td>75900000</td>\n",
       "      <td>0</td>\n",
       "      <td>6</td>\n",
       "      <td>inf</td>\n",
       "    </tr>\n",
       "    <tr>\n",
       "      <th>51416</th>\n",
       "      <td>51416</td>\n",
       "      <td>17</td>\n",
       "      <td>79750000</td>\n",
       "      <td>79800000</td>\n",
       "      <td>0</td>\n",
       "      <td>8</td>\n",
       "      <td>inf</td>\n",
       "    </tr>\n",
       "    <tr>\n",
       "      <th>51429</th>\n",
       "      <td>51429</td>\n",
       "      <td>17</td>\n",
       "      <td>80400000</td>\n",
       "      <td>80450000</td>\n",
       "      <td>0</td>\n",
       "      <td>6</td>\n",
       "      <td>inf</td>\n",
       "    </tr>\n",
       "  </tbody>\n",
       "</table>\n",
       "</div>"
      ],
      "text/plain": [
       "       index  chr  start_pos   end_pos  human_reads  mutated_reads  RDR\n",
       "50004  50004   17    9150000   9200000            0              5  inf\n",
       "50014  50014   17    9650000   9700000            0              4  inf\n",
       "50374  50374   17   27650000  27700000            0             10  inf\n",
       "50527  50527   17   35300000  35350000            0              6  inf\n",
       "50558  50558   17   36850000  36900000            0              4  inf\n",
       "50602  50602   17   39050000  39100000            0              6  inf\n",
       "50700  50700   17   43950000  44000000            0             10  inf\n",
       "51105  51105   17   64200000  64250000            0              4  inf\n",
       "51338  51338   17   75850000  75900000            0              6  inf\n",
       "51416  51416   17   79750000  79800000            0              8  inf\n",
       "51429  51429   17   80400000  80450000            0              6  inf"
      ]
     },
     "execution_count": 154,
     "metadata": {},
     "output_type": "execute_result"
    }
   ],
   "source": [
    "chr17_inf_RDR = chr17[chr17['RDR']== np.inf] #what a normal copy number RDR looks like. \n",
    "chr17_inf_RDR\n"
   ]
  },
  {
   "cell_type": "code",
   "execution_count": 156,
   "metadata": {},
   "outputs": [
    {
     "data": {
      "text/plain": [
       "11"
      ]
     },
     "execution_count": 156,
     "metadata": {},
     "output_type": "execute_result"
    }
   ],
   "source": [
    "len(chr17_inf_RDR)\n"
   ]
  },
  {
   "cell_type": "code",
   "execution_count": 157,
   "metadata": {},
   "outputs": [
    {
     "data": {
      "text/plain": [
       "1650"
      ]
     },
     "execution_count": 157,
     "metadata": {},
     "output_type": "execute_result"
    }
   ],
   "source": [
    "chr17 = chr17.replace([np.inf, -np.inf], np.nan).dropna(axis=0)\n",
    "len(chr17)"
   ]
  },
  {
   "cell_type": "code",
   "execution_count": 144,
   "metadata": {},
   "outputs": [
    {
     "data": {
      "image/png": "[encoded data removed]",
      "text/plain": [
       "<Figure size 640x480 with 1 Axes>"
      ]
     },
     "metadata": {},
     "output_type": "display_data"
    }
   ],
   "source": [
    "red_circle = dict(markerfacecolor='red', marker='o')\n",
    "\n",
    "plt.boxplot(x=chr17.loc[:,'RDR'], flierprops=red_circle)\n",
    "\n",
    "plt.suptitle(\"\"\"Box and Whisker Plot showing the Variance \n",
    "in Read Depth Ratios Throughout Chromosome 17 : Small \"\"\")\n",
    "             \n",
    "plt.xlabel('Chromosome 17')\n",
    "plt.xticks([])\n",
    "plt.ylabel('Read Depth Ratio')\n",
    "\n",
    "plt.savefig('Het_D_chr17_small.png', dpi=200 )\n",
    "plt.show()\n",
    "\n"
   ]
  },
  {
   "cell_type": "code",
   "execution_count": 158,
   "metadata": {},
   "outputs": [
    {
     "data": {
      "text/plain": [
       "count    1650.000000\n",
       "mean        0.735463\n",
       "std         0.762393\n",
       "min         0.000000\n",
       "25%         0.288701\n",
       "50%         0.577403\n",
       "75%         0.923844\n",
       "max         6.928831\n",
       "Name: RDR, dtype: float64"
      ]
     },
     "execution_count": 158,
     "metadata": {},
     "output_type": "execute_result"
    }
   ],
   "source": [
    "chr17.loc[:,'RDR'].describe()"
   ]
  },
  {
   "cell_type": "code",
   "execution_count": 146,
   "metadata": {},
   "outputs": [],
   "source": [
    "UQ_chr17 = chr17.loc[:,'RDR'].quantile(0.75)\n",
    "LQ_chr17 = chr17.loc[:,'RDR'].quantile(0.25)\n",
    "IQR_chr17 = (UQ_chr17) -(LQ_chr17)\n",
    "upper_outliers_chr17 = UQ_chr17 + (1.25* IQR_chr17)"
   ]
  },
  {
   "cell_type": "code",
   "execution_count": 159,
   "metadata": {},
   "outputs": [
    {
     "data": {
      "text/plain": [
       "1.9246752774444063"
      ]
     },
     "execution_count": 159,
     "metadata": {},
     "output_type": "execute_result"
    }
   ],
   "source": [
    "chr17.loc[:,'RDR'].quantile(0.95)"
   ]
  },
  {
   "cell_type": "code",
   "execution_count": 148,
   "metadata": {},
   "outputs": [
    {
     "data": {
      "text/plain": [
       "0.635142841556654"
      ]
     },
     "execution_count": 148,
     "metadata": {},
     "output_type": "execute_result"
    }
   ],
   "source": [
    "IQR_chr17"
   ]
  },
  {
   "cell_type": "code",
   "execution_count": 149,
   "metadata": {},
   "outputs": [
    {
     "data": {
      "text/html": [
       "<div>\n",
       "<style scoped>\n",
       "    .dataframe tbody tr th:only-of-type {\n",
       "        vertical-align: middle;\n",
       "    }\n",
       "\n",
       "    .dataframe tbody tr th {\n",
       "        vertical-align: top;\n",
       "    }\n",
       "\n",
       "    .dataframe thead th {\n",
       "        text-align: right;\n",
       "    }\n",
       "</style>\n",
       "<table border=\"1\" class=\"dataframe\">\n",
       "  <thead>\n",
       "    <tr style=\"text-align: right;\">\n",
       "      <th></th>\n",
       "      <th>index</th>\n",
       "      <th>chr</th>\n",
       "      <th>start_pos</th>\n",
       "      <th>end_pos</th>\n",
       "      <th>human_reads</th>\n",
       "      <th>mutated_reads</th>\n",
       "      <th>RDR</th>\n",
       "    </tr>\n",
       "  </thead>\n",
       "  <tbody>\n",
       "    <tr>\n",
       "      <th>49823</th>\n",
       "      <td>49823</td>\n",
       "      <td>17</td>\n",
       "      <td>100000</td>\n",
       "      <td>150000</td>\n",
       "      <td>2</td>\n",
       "      <td>6</td>\n",
       "      <td>3.464415</td>\n",
       "    </tr>\n",
       "    <tr>\n",
       "      <th>49831</th>\n",
       "      <td>49831</td>\n",
       "      <td>17</td>\n",
       "      <td>500000</td>\n",
       "      <td>550000</td>\n",
       "      <td>4</td>\n",
       "      <td>6</td>\n",
       "      <td>1.732208</td>\n",
       "    </tr>\n",
       "    <tr>\n",
       "      <th>49858</th>\n",
       "      <td>49858</td>\n",
       "      <td>17</td>\n",
       "      <td>1850000</td>\n",
       "      <td>1900000</td>\n",
       "      <td>4</td>\n",
       "      <td>6</td>\n",
       "      <td>1.732208</td>\n",
       "    </tr>\n",
       "    <tr>\n",
       "      <th>49876</th>\n",
       "      <td>49876</td>\n",
       "      <td>17</td>\n",
       "      <td>2750000</td>\n",
       "      <td>2800000</td>\n",
       "      <td>4</td>\n",
       "      <td>12</td>\n",
       "      <td>3.464415</td>\n",
       "    </tr>\n",
       "    <tr>\n",
       "      <th>49889</th>\n",
       "      <td>49889</td>\n",
       "      <td>17</td>\n",
       "      <td>3400000</td>\n",
       "      <td>3450000</td>\n",
       "      <td>4</td>\n",
       "      <td>6</td>\n",
       "      <td>1.732208</td>\n",
       "    </tr>\n",
       "    <tr>\n",
       "      <th>...</th>\n",
       "      <td>...</td>\n",
       "      <td>...</td>\n",
       "      <td>...</td>\n",
       "      <td>...</td>\n",
       "      <td>...</td>\n",
       "      <td>...</td>\n",
       "      <td>...</td>\n",
       "    </tr>\n",
       "    <tr>\n",
       "      <th>51431</th>\n",
       "      <td>51431</td>\n",
       "      <td>17</td>\n",
       "      <td>80500000</td>\n",
       "      <td>80550000</td>\n",
       "      <td>2</td>\n",
       "      <td>6</td>\n",
       "      <td>3.464415</td>\n",
       "    </tr>\n",
       "    <tr>\n",
       "      <th>51438</th>\n",
       "      <td>51438</td>\n",
       "      <td>17</td>\n",
       "      <td>80850000</td>\n",
       "      <td>80900000</td>\n",
       "      <td>4</td>\n",
       "      <td>8</td>\n",
       "      <td>2.309610</td>\n",
       "    </tr>\n",
       "    <tr>\n",
       "      <th>51442</th>\n",
       "      <td>51442</td>\n",
       "      <td>17</td>\n",
       "      <td>81050000</td>\n",
       "      <td>81100000</td>\n",
       "      <td>8</td>\n",
       "      <td>12</td>\n",
       "      <td>1.732208</td>\n",
       "    </tr>\n",
       "    <tr>\n",
       "      <th>51454</th>\n",
       "      <td>51454</td>\n",
       "      <td>17</td>\n",
       "      <td>81650000</td>\n",
       "      <td>81700000</td>\n",
       "      <td>4</td>\n",
       "      <td>8</td>\n",
       "      <td>2.309610</td>\n",
       "    </tr>\n",
       "    <tr>\n",
       "      <th>51462</th>\n",
       "      <td>51462</td>\n",
       "      <td>17</td>\n",
       "      <td>82050000</td>\n",
       "      <td>82100000</td>\n",
       "      <td>4</td>\n",
       "      <td>10</td>\n",
       "      <td>2.887013</td>\n",
       "    </tr>\n",
       "  </tbody>\n",
       "</table>\n",
       "<p>143 rows × 7 columns</p>\n",
       "</div>"
      ],
      "text/plain": [
       "       index  chr  start_pos   end_pos  human_reads  mutated_reads       RDR\n",
       "49823  49823   17     100000    150000            2              6  3.464415\n",
       "49831  49831   17     500000    550000            4              6  1.732208\n",
       "49858  49858   17    1850000   1900000            4              6  1.732208\n",
       "49876  49876   17    2750000   2800000            4             12  3.464415\n",
       "49889  49889   17    3400000   3450000            4              6  1.732208\n",
       "...      ...  ...        ...       ...          ...            ...       ...\n",
       "51431  51431   17   80500000  80550000            2              6  3.464415\n",
       "51438  51438   17   80850000  80900000            4              8  2.309610\n",
       "51442  51442   17   81050000  81100000            8             12  1.732208\n",
       "51454  51454   17   81650000  81700000            4              8  2.309610\n",
       "51462  51462   17   82050000  82100000            4             10  2.887013\n",
       "\n",
       "[143 rows x 7 columns]"
      ]
     },
     "execution_count": 149,
     "metadata": {},
     "output_type": "execute_result"
    }
   ],
   "source": [
    "chr17[chr17['RDR'] > upper_outliers_chr17]  #only 3 values with an RDR above 0.0333"
   ]
  },
  {
   "cell_type": "code",
   "execution_count": 150,
   "metadata": {},
   "outputs": [
    {
     "data": {
      "text/plain": [
       "0.5641190594836081"
      ]
     },
     "execution_count": 150,
     "metadata": {},
     "output_type": "execute_result"
    }
   ],
   "source": [
    "chr17_without_outliers = chr17[chr17['RDR'] < upper_outliers_chr17] \n",
    "chr17_without_outliers.loc[:,'RDR'].mean()"
   ]
  },
  {
   "attachments": {},
   "cell_type": "markdown",
   "metadata": {},
   "source": [
    "MAPPING THESE ALL ON THE SAME GRAPH"
   ]
  },
  {
   "attachments": {},
   "cell_type": "markdown",
   "metadata": {},
   "source": [
    "Decided it's not a good comparison"
   ]
  },
  {
   "cell_type": "code",
   "execution_count": 151,
   "metadata": {},
   "outputs": [
    {
     "ename": "TypeError",
     "evalue": "'AxesSubplot' object is not subscriptable",
     "output_type": "error",
     "traceback": [
      "\u001b[0;31m---------------------------------------------------------------------------\u001b[0m",
      "\u001b[0;31mTypeError\u001b[0m                                 Traceback (most recent call last)",
      "Cell \u001b[0;32mIn[151], line 1\u001b[0m\n\u001b[0;32m----> 1\u001b[0m combined_dfs \u001b[39m=\u001b[39m pd\u001b[39m.\u001b[39mDataFrame({\u001b[39m'\u001b[39m\u001b[39m2\u001b[39m\u001b[39m'\u001b[39m: chr2[\u001b[39m'\u001b[39;49m\u001b[39mRDR\u001b[39;49m\u001b[39m'\u001b[39;49m],\n\u001b[1;32m      2\u001b[0m                              \u001b[39m'\u001b[39m\u001b[39m8\u001b[39m\u001b[39m'\u001b[39m: chr8[\u001b[39m'\u001b[39m\u001b[39mRDR\u001b[39m\u001b[39m'\u001b[39m],\n\u001b[1;32m      3\u001b[0m                              \u001b[39m'\u001b[39m\u001b[39m17\u001b[39m\u001b[39m'\u001b[39m: chr17[\u001b[39m'\u001b[39m\u001b[39mRDR\u001b[39m\u001b[39m'\u001b[39m],\n\u001b[1;32m      4\u001b[0m                              })\n\u001b[1;32m      5\u001b[0m combined_dfs\n\u001b[1;32m      7\u001b[0m sns\u001b[39m.\u001b[39mset_style(\u001b[39m'\u001b[39m\u001b[39mwhite\u001b[39m\u001b[39m'\u001b[39m)\n",
      "\u001b[0;31mTypeError\u001b[0m: 'AxesSubplot' object is not subscriptable"
     ]
    }
   ],
   "source": [
    "\n",
    "combined_dfs = pd.DataFrame({'2': chr2['RDR'],\n",
    "                             '8': chr20['RDR'],\n",
    "                             '17': chr17['RDR'],\n",
    "                             })\n",
    "combined_dfs\n",
    "\n",
    "sns.set_style('white')\n",
    "sns.boxplot(data=combined_dfs, palette='flare')\n",
    "plt.suptitle(\"\"\"Box and Whisker Plot showing the Variance \n",
    "in Read Depth Ratios Throughout Chromosomes :Small \"\"\")\n",
    "plt.xlabel('Chromosome')\n",
    "plt.ylabel('Read Depth Ratio')\n",
    "sns.despine()\n",
    "plt.savefig('combined_RDR_small', dpi=200 )\n",
    "plt.show()"
   ]
  },
  {
   "attachments": {},
   "cell_type": "markdown",
   "metadata": {},
   "source": [
    "GENOME WIDE RDR "
   ]
  },
  {
   "cell_type": "code",
   "execution_count": 6,
   "metadata": {},
   "outputs": [
    {
     "data": {
      "image/png": "[encoded data removed]",
      "text/plain": [
       "<Figure size 1200x300 with 1 Axes>"
      ]
     },
     "metadata": {},
     "output_type": "display_data"
    }
   ],
   "source": [
    "chromosome_pos = df.groupby('chr')['index'].first()\n",
    "\n",
    "plt.figure(figsize=(12,3))\n",
    "scatter = sns.scatterplot(data=df, x='index', y='RDR', hue='chr', legend=False, palette='Set2', s=7) #look up how to move legend from graph\n",
    "\n",
    "plt.xticks(chromosome_pos.values, chromosome_pos.index)\n",
    "\n",
    "plt.xlabel('Chromosome')\n",
    "\n",
    "scatter.set_ylim(0, 20)\n",
    "\n",
    "plt.tight_layout()\n",
    "\n",
    "plt.savefig('Genome_wide_RDR_small_updated', dpi=200 )"
   ]
  }
 ],
 "metadata": {
  "kernelspec": {
   "display_name": "myenv",
   "language": "python",
   "name": "python3"
  },
  "language_info": {
   "codemirror_mode": {
    "name": "ipython",
    "version": 3
   },
   "file_extension": ".py",
   "mimetype": "text/x-python",
   "name": "python",
   "nbconvert_exporter": "python",
   "pygments_lexer": "ipython3",
   "version": "3.11.0 | packaged by conda-forge | (main, Jan 15 2023, 05:44:48) [Clang 14.0.6 ]"
  },
  "orig_nbformat": 4,
  "vscode": {
   "interpreter": {
    "hash": "64dbeee7701511da0a2dab307046cba706b4a12361239070d5a64ca482b3fb55"
   }
  }
 },
 "nbformat": 4,
 "nbformat_minor": 2
}
