{
 "cells": [
  {
   "cell_type": "code",
   "execution_count": 7,
   "metadata": {},
   "outputs": [],
   "source": [
    "from Bio import Seq, SeqIO, SeqRecord\n",
    "from Bio.SeqRecord import SeqRecord\n",
    "import pandas as pd\n",
    "import numpy as np\n",
    "import random\n",
    "import mutation_simulator"
   ]
  },
  {
   "cell_type": "code",
   "execution_count": 5,
   "metadata": {},
   "outputs": [],
   "source": [
    "#inserting random mutations based on proportion\n",
    "def mutate_v4(dna,prop_mutations) :\n",
    "    dna_array = np.array(dna)   #converts to array\n",
    "    #print(dna_array)\n",
    "    n_mutations = np.random.choice(np.arange(len(dna)),size=round(len(dna)*prop_mutations),replace=False)\n",
    "    #print(position_of_mut)\n",
    "    original_value = dna_array[n_mutations]\n",
    "    #print(original_value)\n",
    "    mutations_array = np.array([]) #want to make a separate array to place the mutations in\n",
    "    for nuc in original_value:\n",
    "        possible_nucleotides = np.array(['A','C','T','G'])\n",
    "        rel_nucleotides = np.setdiff1d(possible_nucleotides,nuc)  #returns the unique values in possible_nucleotides that are not in nuc\n",
    "        mutation = np.random.choice(rel_nucleotides,size=1,replace=True)\n",
    "        mutations_array = np.append(mutations_array, mutation)\n",
    "    #print(mutations)\n",
    "    dna_array[n_mutations] = mutations_array #ask q, on how slot back into original position\n",
    "    dna_new = Seq.Seq(''.join(list(dna_array)))\n",
    "    return dna_new"
   ]
  },
  {
   "cell_type": "code",
   "execution_count": null,
   "metadata": {},
   "outputs": [],
   "source": [
    "'dipl'"
   ]
  },
  {
   "cell_type": "code",
   "execution_count": null,
   "metadata": {},
   "outputs": [],
   "source": [
    "mutation-simulator di.fasta args -sn 0.05"
   ]
  },
  {
   "cell_type": "code",
   "execution_count": 3,
   "metadata": {},
   "outputs": [
    {
     "ename": "KeyboardInterrupt",
     "evalue": "",
     "output_type": "error",
     "traceback": [
      "\u001b[0;31m---------------------------------------------------------------------------\u001b[0m",
      "\u001b[0;31mKeyboardInterrupt\u001b[0m                         Traceback (most recent call last)",
      "Cell \u001b[0;32mIn[3], line 4\u001b[0m\n\u001b[1;32m      1\u001b[0m my_human \u001b[39m=\u001b[39m {}\n\u001b[1;32m      3\u001b[0m \u001b[39mfor\u001b[39;00m chromosome \u001b[39min\u001b[39;00m SeqIO\u001b[39m.\u001b[39mparse(\u001b[39m'\u001b[39m\u001b[39mdiploid_genome.fa\u001b[39m\u001b[39m'\u001b[39m,\u001b[39m'\u001b[39m\u001b[39mfasta\u001b[39m\u001b[39m'\u001b[39m):\n\u001b[0;32m----> 4\u001b[0m     my_human[chromosome\u001b[39m.\u001b[39mname] \u001b[39m=\u001b[39m mutate_v4(chromosome[:],\u001b[39m0.001\u001b[39;49m)\n",
      "Cell \u001b[0;32mIn[2], line 17\u001b[0m, in \u001b[0;36mmutate_v4\u001b[0;34m(dna, prop_mutations)\u001b[0m\n\u001b[1;32m     15\u001b[0m \u001b[39m#print(mutations)\u001b[39;00m\n\u001b[1;32m     16\u001b[0m dna_array[n_mutations] \u001b[39m=\u001b[39m mutations_array \u001b[39m#ask q, on how slot back into original position\u001b[39;00m\n\u001b[0;32m---> 17\u001b[0m dna_new \u001b[39m=\u001b[39m Seq\u001b[39m.\u001b[39mSeq(\u001b[39m'\u001b[39m\u001b[39m'\u001b[39m\u001b[39m.\u001b[39mjoin(\u001b[39mlist\u001b[39m(dna_array)))\n\u001b[1;32m     18\u001b[0m \u001b[39mreturn\u001b[39;00m dna_new\n",
      "\u001b[0;31mKeyboardInterrupt\u001b[0m: "
     ]
    }
   ],
   "source": [
    "my_human = {}\n",
    "\n",
    "for chromosome in SeqIO.parse('diploid_genome.fa','fasta'):\n",
    "    my_human[chromosome.name] = mutate_v4(chromosome[:],0.001)"
   ]
  },
  {
   "cell_type": "code",
   "execution_count": 6,
   "metadata": {},
   "outputs": [
    {
     "ename": "KeyboardInterrupt",
     "evalue": "",
     "output_type": "error",
     "traceback": [
      "\u001b[0;31m---------------------------------------------------------------------------\u001b[0m",
      "\u001b[0;31mKeyboardInterrupt\u001b[0m                         Traceback (most recent call last)",
      "Cell \u001b[0;32mIn[6], line 4\u001b[0m\n\u001b[1;32m      1\u001b[0m my_human \u001b[39m=\u001b[39m {}\n\u001b[1;32m      3\u001b[0m \u001b[39mfor\u001b[39;00m chromosome \u001b[39min\u001b[39;00m SeqIO\u001b[39m.\u001b[39mparse(\u001b[39m'\u001b[39m\u001b[39mdiploid_genome.fa\u001b[39m\u001b[39m'\u001b[39m,\u001b[39m'\u001b[39m\u001b[39mfasta\u001b[39m\u001b[39m'\u001b[39m):\n\u001b[0;32m----> 4\u001b[0m     my_human[chromosome\u001b[39m.\u001b[39mname] \u001b[39m=\u001b[39m mutate_v4(chromosome[:],\u001b[39m0.01\u001b[39;49m)\n",
      "Cell \u001b[0;32mIn[5], line 14\u001b[0m, in \u001b[0;36mmutate_v4\u001b[0;34m(dna, prop_mutations)\u001b[0m\n\u001b[1;32m     12\u001b[0m     rel_nucleotides \u001b[39m=\u001b[39m np\u001b[39m.\u001b[39msetdiff1d(possible_nucleotides,nuc)  \u001b[39m#returns the unique values in possible_nucleotides that are not in nuc\u001b[39;00m\n\u001b[1;32m     13\u001b[0m     mutation \u001b[39m=\u001b[39m np\u001b[39m.\u001b[39mrandom\u001b[39m.\u001b[39mchoice(rel_nucleotides,size\u001b[39m=\u001b[39m\u001b[39m1\u001b[39m,replace\u001b[39m=\u001b[39m\u001b[39mTrue\u001b[39;00m)\n\u001b[0;32m---> 14\u001b[0m     mutations_array \u001b[39m=\u001b[39m np\u001b[39m.\u001b[39;49mappend(mutations_array, mutation)\n\u001b[1;32m     15\u001b[0m \u001b[39m#print(mutations)\u001b[39;00m\n\u001b[1;32m     16\u001b[0m dna_array[n_mutations] \u001b[39m=\u001b[39m mutations_array \u001b[39m#ask q, on how slot back into original position\u001b[39;00m\n",
      "File \u001b[0;32m<__array_function__ internals>:200\u001b[0m, in \u001b[0;36mappend\u001b[0;34m(*args, **kwargs)\u001b[0m\n",
      "File \u001b[0;32m~/anaconda3/envs/myenv/lib/python3.11/site-packages/numpy/lib/function_base.py:5499\u001b[0m, in \u001b[0;36mappend\u001b[0;34m(arr, values, axis)\u001b[0m\n\u001b[1;32m   5497\u001b[0m     values \u001b[39m=\u001b[39m ravel(values)\n\u001b[1;32m   5498\u001b[0m     axis \u001b[39m=\u001b[39m arr\u001b[39m.\u001b[39mndim\u001b[39m-\u001b[39m\u001b[39m1\u001b[39m\n\u001b[0;32m-> 5499\u001b[0m \u001b[39mreturn\u001b[39;00m concatenate((arr, values), axis\u001b[39m=\u001b[39;49maxis)\n",
      "File \u001b[0;32m<__array_function__ internals>:200\u001b[0m, in \u001b[0;36mconcatenate\u001b[0;34m(*args, **kwargs)\u001b[0m\n",
      "\u001b[0;31mKeyboardInterrupt\u001b[0m: "
     ]
    }
   ],
   "source": [
    "my_human = {}\n",
    "\n",
    "for chromosome in SeqIO.parse('diploid_genome.fa','fasta'):\n",
    "    my_human[chromosome.name] = mutate_v4(chromosome[:],0.01)"
   ]
  },
  {
   "cell_type": "code",
   "execution_count": null,
   "metadata": {},
   "outputs": [],
   "source": [
    "for chromosome in my_human:\n",
    "    my_human[chromosome] = SeqRecord(my_human[chromosome], id = str(chromosome), name = str(chromosome))"
   ]
  },
  {
   "cell_type": "code",
   "execution_count": null,
   "metadata": {},
   "outputs": [
    {
     "data": {
      "text/plain": [
       "44"
      ]
     },
     "execution_count": 36,
     "metadata": {},
     "output_type": "execute_result"
    }
   ],
   "source": [
    "SeqIO.write(my_human.values(),\"human_diploid_cell.fa\", \"fasta\")"
   ]
  }
 ],
 "metadata": {
  "kernelspec": {
   "display_name": "myenv",
   "language": "python",
   "name": "python3"
  },
  "language_info": {
   "codemirror_mode": {
    "name": "ipython",
    "version": 3
   },
   "file_extension": ".py",
   "mimetype": "text/x-python",
   "name": "python",
   "nbconvert_exporter": "python",
   "pygments_lexer": "ipython3",
   "version": "3.11.0 | packaged by conda-forge | (main, Jan 15 2023, 05:44:48) [Clang 14.0.6 ]"
  },
  "orig_nbformat": 4,
  "vscode": {
   "interpreter": {
    "hash": "64dbeee7701511da0a2dab307046cba706b4a12361239070d5a64ca482b3fb55"
   }
  }
 },
 "nbformat": 4,
 "nbformat_minor": 2
}
