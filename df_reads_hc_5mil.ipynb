{
 "cells": [
  {
   "cell_type": "code",
   "execution_count": 8,
   "metadata": {},
   "outputs": [],
   "source": [
    "import numpy as np\n",
    "import seaborn as sns\n",
    "import pandas as pd\n",
    "import matplotlib.pyplot as plt\n",
    "import scipy\n",
    "import docx"
   ]
  },
  {
   "cell_type": "code",
   "execution_count": 9,
   "metadata": {},
   "outputs": [],
   "source": [
    "#making a df by importing the values from the human cell reads txt\n",
    "\n",
    "df = pd.read_csv('human_reads.txt', sep='\\t', header=None)\n",
    "header = ['chr', 'start_pos','end_pos','human_reads']\n",
    "df.columns = header[:len(df.columns)]\n",
    "df['chr'] = df['chr'].str.replace('chr','').astype(int) #CHR COLUMN\n",
    "df = df.reset_index()"
   ]
  },
  {
   "cell_type": "code",
   "execution_count": 10,
   "metadata": {},
   "outputs": [
    {
     "data": {
      "text/html": [
       "<div>\n",
       "<style scoped>\n",
       "    .dataframe tbody tr th:only-of-type {\n",
       "        vertical-align: middle;\n",
       "    }\n",
       "\n",
       "    .dataframe tbody tr th {\n",
       "        vertical-align: top;\n",
       "    }\n",
       "\n",
       "    .dataframe thead th {\n",
       "        text-align: right;\n",
       "    }\n",
       "</style>\n",
       "<table border=\"1\" class=\"dataframe\">\n",
       "  <thead>\n",
       "    <tr style=\"text-align: right;\">\n",
       "      <th></th>\n",
       "      <th>chromosome</th>\n",
       "      <th>start_pos</th>\n",
       "      <th>end_pos</th>\n",
       "      <th>mutated_reads</th>\n",
       "    </tr>\n",
       "  </thead>\n",
       "  <tbody>\n",
       "    <tr>\n",
       "      <th>0</th>\n",
       "      <td>chr1</td>\n",
       "      <td>0</td>\n",
       "      <td>5000000</td>\n",
       "      <td>960</td>\n",
       "    </tr>\n",
       "    <tr>\n",
       "      <th>1</th>\n",
       "      <td>chr1</td>\n",
       "      <td>5000000</td>\n",
       "      <td>10000000</td>\n",
       "      <td>994</td>\n",
       "    </tr>\n",
       "    <tr>\n",
       "      <th>2</th>\n",
       "      <td>chr1</td>\n",
       "      <td>10000000</td>\n",
       "      <td>15000000</td>\n",
       "      <td>920</td>\n",
       "    </tr>\n",
       "    <tr>\n",
       "      <th>3</th>\n",
       "      <td>chr1</td>\n",
       "      <td>15000000</td>\n",
       "      <td>20000000</td>\n",
       "      <td>1012</td>\n",
       "    </tr>\n",
       "    <tr>\n",
       "      <th>4</th>\n",
       "      <td>chr1</td>\n",
       "      <td>20000000</td>\n",
       "      <td>25000000</td>\n",
       "      <td>918</td>\n",
       "    </tr>\n",
       "    <tr>\n",
       "      <th>...</th>\n",
       "      <td>...</td>\n",
       "      <td>...</td>\n",
       "      <td>...</td>\n",
       "      <td>...</td>\n",
       "    </tr>\n",
       "    <tr>\n",
       "      <th>582</th>\n",
       "      <td>chr22</td>\n",
       "      <td>30000000</td>\n",
       "      <td>35000000</td>\n",
       "      <td>1004</td>\n",
       "    </tr>\n",
       "    <tr>\n",
       "      <th>583</th>\n",
       "      <td>chr22</td>\n",
       "      <td>35000000</td>\n",
       "      <td>40000000</td>\n",
       "      <td>912</td>\n",
       "    </tr>\n",
       "    <tr>\n",
       "      <th>584</th>\n",
       "      <td>chr22</td>\n",
       "      <td>40000000</td>\n",
       "      <td>45000000</td>\n",
       "      <td>996</td>\n",
       "    </tr>\n",
       "    <tr>\n",
       "      <th>585</th>\n",
       "      <td>chr22</td>\n",
       "      <td>45000000</td>\n",
       "      <td>50000000</td>\n",
       "      <td>1028</td>\n",
       "    </tr>\n",
       "    <tr>\n",
       "      <th>586</th>\n",
       "      <td>chr22</td>\n",
       "      <td>50000000</td>\n",
       "      <td>50818468</td>\n",
       "      <td>136</td>\n",
       "    </tr>\n",
       "  </tbody>\n",
       "</table>\n",
       "<p>587 rows × 4 columns</p>\n",
       "</div>"
      ],
      "text/plain": [
       "    chromosome  start_pos   end_pos  mutated_reads\n",
       "0         chr1          0   5000000            960\n",
       "1         chr1    5000000  10000000            994\n",
       "2         chr1   10000000  15000000            920\n",
       "3         chr1   15000000  20000000           1012\n",
       "4         chr1   20000000  25000000            918\n",
       "..         ...        ...       ...            ...\n",
       "582      chr22   30000000  35000000           1004\n",
       "583      chr22   35000000  40000000            912\n",
       "584      chr22   40000000  45000000            996\n",
       "585      chr22   45000000  50000000           1028\n",
       "586      chr22   50000000  50818468            136\n",
       "\n",
       "[587 rows x 4 columns]"
      ]
     },
     "execution_count": 10,
     "metadata": {},
     "output_type": "execute_result"
    }
   ],
   "source": [
    "#making another df from the mutated reads file\n",
    "mutated = pd.read_csv('altered_reads.txt', sep='\\t', header=None)\n",
    "header = ['chromosome', 'start_pos','end_pos','mutated_reads']\n",
    "mutated.columns = header[:len(mutated.columns)]\n",
    "mutated"
   ]
  },
  {
   "cell_type": "code",
   "execution_count": 11,
   "metadata": {},
   "outputs": [],
   "source": [
    "mutated['CHR'] = mutated['chromosome'].str.replace('chr','').astype(int) #CHR COLUMN"
   ]
  },
  {
   "cell_type": "code",
   "execution_count": 12,
   "metadata": {},
   "outputs": [
    {
     "data": {
      "text/html": [
       "<div>\n",
       "<style scoped>\n",
       "    .dataframe tbody tr th:only-of-type {\n",
       "        vertical-align: middle;\n",
       "    }\n",
       "\n",
       "    .dataframe tbody tr th {\n",
       "        vertical-align: top;\n",
       "    }\n",
       "\n",
       "    .dataframe thead th {\n",
       "        text-align: right;\n",
       "    }\n",
       "</style>\n",
       "<table border=\"1\" class=\"dataframe\">\n",
       "  <thead>\n",
       "    <tr style=\"text-align: right;\">\n",
       "      <th></th>\n",
       "      <th>index</th>\n",
       "      <th>chr</th>\n",
       "      <th>start_pos</th>\n",
       "      <th>end_pos</th>\n",
       "      <th>human_reads</th>\n",
       "      <th>mutated_reads</th>\n",
       "    </tr>\n",
       "  </thead>\n",
       "  <tbody>\n",
       "    <tr>\n",
       "      <th>0</th>\n",
       "      <td>0</td>\n",
       "      <td>1</td>\n",
       "      <td>0</td>\n",
       "      <td>5000000</td>\n",
       "      <td>972</td>\n",
       "      <td>960</td>\n",
       "    </tr>\n",
       "    <tr>\n",
       "      <th>1</th>\n",
       "      <td>1</td>\n",
       "      <td>1</td>\n",
       "      <td>5000000</td>\n",
       "      <td>10000000</td>\n",
       "      <td>1040</td>\n",
       "      <td>994</td>\n",
       "    </tr>\n",
       "    <tr>\n",
       "      <th>2</th>\n",
       "      <td>2</td>\n",
       "      <td>1</td>\n",
       "      <td>10000000</td>\n",
       "      <td>15000000</td>\n",
       "      <td>1066</td>\n",
       "      <td>920</td>\n",
       "    </tr>\n",
       "    <tr>\n",
       "      <th>3</th>\n",
       "      <td>3</td>\n",
       "      <td>1</td>\n",
       "      <td>15000000</td>\n",
       "      <td>20000000</td>\n",
       "      <td>952</td>\n",
       "      <td>1012</td>\n",
       "    </tr>\n",
       "    <tr>\n",
       "      <th>4</th>\n",
       "      <td>4</td>\n",
       "      <td>1</td>\n",
       "      <td>20000000</td>\n",
       "      <td>25000000</td>\n",
       "      <td>1038</td>\n",
       "      <td>918</td>\n",
       "    </tr>\n",
       "    <tr>\n",
       "      <th>...</th>\n",
       "      <td>...</td>\n",
       "      <td>...</td>\n",
       "      <td>...</td>\n",
       "      <td>...</td>\n",
       "      <td>...</td>\n",
       "      <td>...</td>\n",
       "    </tr>\n",
       "    <tr>\n",
       "      <th>582</th>\n",
       "      <td>582</td>\n",
       "      <td>22</td>\n",
       "      <td>30000000</td>\n",
       "      <td>35000000</td>\n",
       "      <td>984</td>\n",
       "      <td>1004</td>\n",
       "    </tr>\n",
       "    <tr>\n",
       "      <th>583</th>\n",
       "      <td>583</td>\n",
       "      <td>22</td>\n",
       "      <td>35000000</td>\n",
       "      <td>40000000</td>\n",
       "      <td>1028</td>\n",
       "      <td>912</td>\n",
       "    </tr>\n",
       "    <tr>\n",
       "      <th>584</th>\n",
       "      <td>584</td>\n",
       "      <td>22</td>\n",
       "      <td>40000000</td>\n",
       "      <td>45000000</td>\n",
       "      <td>1012</td>\n",
       "      <td>996</td>\n",
       "    </tr>\n",
       "    <tr>\n",
       "      <th>585</th>\n",
       "      <td>585</td>\n",
       "      <td>22</td>\n",
       "      <td>45000000</td>\n",
       "      <td>50000000</td>\n",
       "      <td>970</td>\n",
       "      <td>1028</td>\n",
       "    </tr>\n",
       "    <tr>\n",
       "      <th>586</th>\n",
       "      <td>586</td>\n",
       "      <td>22</td>\n",
       "      <td>50000000</td>\n",
       "      <td>50818468</td>\n",
       "      <td>150</td>\n",
       "      <td>136</td>\n",
       "    </tr>\n",
       "  </tbody>\n",
       "</table>\n",
       "<p>587 rows × 6 columns</p>\n",
       "</div>"
      ],
      "text/plain": [
       "     index  chr  start_pos   end_pos  human_reads  mutated_reads\n",
       "0        0    1          0   5000000          972            960\n",
       "1        1    1    5000000  10000000         1040            994\n",
       "2        2    1   10000000  15000000         1066            920\n",
       "3        3    1   15000000  20000000          952           1012\n",
       "4        4    1   20000000  25000000         1038            918\n",
       "..     ...  ...        ...       ...          ...            ...\n",
       "582    582   22   30000000  35000000          984           1004\n",
       "583    583   22   35000000  40000000         1028            912\n",
       "584    584   22   40000000  45000000         1012            996\n",
       "585    585   22   45000000  50000000          970           1028\n",
       "586    586   22   50000000  50818468          150            136\n",
       "\n",
       "[587 rows x 6 columns]"
      ]
     },
     "execution_count": 12,
     "metadata": {},
     "output_type": "execute_result"
    }
   ],
   "source": [
    "#adding the mutated reads column to the original  df\n",
    "df['mutated_reads'] = mutated['mutated_reads'].values\n",
    "df\n"
   ]
  },
  {
   "cell_type": "code",
   "execution_count": 18,
   "metadata": {},
   "outputs": [
    {
     "data": {
      "text/html": [
       "<div>\n",
       "<style scoped>\n",
       "    .dataframe tbody tr th:only-of-type {\n",
       "        vertical-align: middle;\n",
       "    }\n",
       "\n",
       "    .dataframe tbody tr th {\n",
       "        vertical-align: top;\n",
       "    }\n",
       "\n",
       "    .dataframe thead th {\n",
       "        text-align: right;\n",
       "    }\n",
       "</style>\n",
       "<table border=\"1\" class=\"dataframe\">\n",
       "  <thead>\n",
       "    <tr style=\"text-align: right;\">\n",
       "      <th></th>\n",
       "      <th>index</th>\n",
       "      <th>chr</th>\n",
       "      <th>start_pos</th>\n",
       "      <th>end_pos</th>\n",
       "      <th>human_reads</th>\n",
       "      <th>mutated_reads</th>\n",
       "      <th>RDR</th>\n",
       "    </tr>\n",
       "  </thead>\n",
       "  <tbody>\n",
       "    <tr>\n",
       "      <th>0</th>\n",
       "      <td>0</td>\n",
       "      <td>1</td>\n",
       "      <td>0</td>\n",
       "      <td>5000000</td>\n",
       "      <td>972</td>\n",
       "      <td>960</td>\n",
       "      <td>1.101386</td>\n",
       "    </tr>\n",
       "    <tr>\n",
       "      <th>1</th>\n",
       "      <td>1</td>\n",
       "      <td>1</td>\n",
       "      <td>5000000</td>\n",
       "      <td>10000000</td>\n",
       "      <td>1040</td>\n",
       "      <td>994</td>\n",
       "      <td>1.065829</td>\n",
       "    </tr>\n",
       "    <tr>\n",
       "      <th>2</th>\n",
       "      <td>2</td>\n",
       "      <td>1</td>\n",
       "      <td>10000000</td>\n",
       "      <td>15000000</td>\n",
       "      <td>1066</td>\n",
       "      <td>920</td>\n",
       "      <td>0.962421</td>\n",
       "    </tr>\n",
       "    <tr>\n",
       "      <th>3</th>\n",
       "      <td>3</td>\n",
       "      <td>1</td>\n",
       "      <td>15000000</td>\n",
       "      <td>20000000</td>\n",
       "      <td>952</td>\n",
       "      <td>1012</td>\n",
       "      <td>1.185436</td>\n",
       "    </tr>\n",
       "    <tr>\n",
       "      <th>4</th>\n",
       "      <td>4</td>\n",
       "      <td>1</td>\n",
       "      <td>20000000</td>\n",
       "      <td>25000000</td>\n",
       "      <td>1038</td>\n",
       "      <td>918</td>\n",
       "      <td>0.986234</td>\n",
       "    </tr>\n",
       "    <tr>\n",
       "      <th>...</th>\n",
       "      <td>...</td>\n",
       "      <td>...</td>\n",
       "      <td>...</td>\n",
       "      <td>...</td>\n",
       "      <td>...</td>\n",
       "      <td>...</td>\n",
       "      <td>...</td>\n",
       "    </tr>\n",
       "    <tr>\n",
       "      <th>582</th>\n",
       "      <td>582</td>\n",
       "      <td>22</td>\n",
       "      <td>30000000</td>\n",
       "      <td>35000000</td>\n",
       "      <td>984</td>\n",
       "      <td>1004</td>\n",
       "      <td>1.137819</td>\n",
       "    </tr>\n",
       "    <tr>\n",
       "      <th>583</th>\n",
       "      <td>583</td>\n",
       "      <td>22</td>\n",
       "      <td>35000000</td>\n",
       "      <td>40000000</td>\n",
       "      <td>1028</td>\n",
       "      <td>912</td>\n",
       "      <td>0.989319</td>\n",
       "    </tr>\n",
       "    <tr>\n",
       "      <th>584</th>\n",
       "      <td>584</td>\n",
       "      <td>22</td>\n",
       "      <td>40000000</td>\n",
       "      <td>45000000</td>\n",
       "      <td>1012</td>\n",
       "      <td>996</td>\n",
       "      <td>1.097522</td>\n",
       "    </tr>\n",
       "    <tr>\n",
       "      <th>585</th>\n",
       "      <td>585</td>\n",
       "      <td>22</td>\n",
       "      <td>45000000</td>\n",
       "      <td>50000000</td>\n",
       "      <td>970</td>\n",
       "      <td>1028</td>\n",
       "      <td>1.181832</td>\n",
       "    </tr>\n",
       "    <tr>\n",
       "      <th>586</th>\n",
       "      <td>586</td>\n",
       "      <td>22</td>\n",
       "      <td>50000000</td>\n",
       "      <td>50818468</td>\n",
       "      <td>150</td>\n",
       "      <td>136</td>\n",
       "      <td>1.011072</td>\n",
       "    </tr>\n",
       "  </tbody>\n",
       "</table>\n",
       "<p>587 rows × 7 columns</p>\n",
       "</div>"
      ],
      "text/plain": [
       "     index  chr  start_pos   end_pos  human_reads  mutated_reads       RDR\n",
       "0        0    1          0   5000000          972            960  1.101386\n",
       "1        1    1    5000000  10000000         1040            994  1.065829\n",
       "2        2    1   10000000  15000000         1066            920  0.962421\n",
       "3        3    1   15000000  20000000          952           1012  1.185436\n",
       "4        4    1   20000000  25000000         1038            918  0.986234\n",
       "..     ...  ...        ...       ...          ...            ...       ...\n",
       "582    582   22   30000000  35000000          984           1004  1.137819\n",
       "583    583   22   35000000  40000000         1028            912  0.989319\n",
       "584    584   22   40000000  45000000         1012            996  1.097522\n",
       "585    585   22   45000000  50000000          970           1028  1.181832\n",
       "586    586   22   50000000  50818468          150            136  1.011072\n",
       "\n",
       "[587 rows x 7 columns]"
      ]
     },
     "execution_count": 18,
     "metadata": {},
     "output_type": "execute_result"
    }
   ],
   "source": [
    "#making RDR column\n",
    "df['RDR'] = (df['mutated_reads'] / df['human_reads']) * (df['human_reads'].sum() / df['mutated_reads'].sum())\n",
    "df"
   ]
  },
  {
   "cell_type": "code",
   "execution_count": 20,
   "metadata": {},
   "outputs": [
    {
     "ename": "KeyError",
     "evalue": "'chromosome'",
     "output_type": "error",
     "traceback": [
      "\u001b[0;31m---------------------------------------------------------------------------\u001b[0m",
      "\u001b[0;31mKeyError\u001b[0m                                  Traceback (most recent call last)",
      "File \u001b[0;32m~/anaconda3/envs/myenv/lib/python3.11/site-packages/pandas/core/indexes/base.py:3802\u001b[0m, in \u001b[0;36mIndex.get_loc\u001b[0;34m(self, key, method, tolerance)\u001b[0m\n\u001b[1;32m   3801\u001b[0m \u001b[39mtry\u001b[39;00m:\n\u001b[0;32m-> 3802\u001b[0m     \u001b[39mreturn\u001b[39;00m \u001b[39mself\u001b[39;49m\u001b[39m.\u001b[39;49m_engine\u001b[39m.\u001b[39;49mget_loc(casted_key)\n\u001b[1;32m   3803\u001b[0m \u001b[39mexcept\u001b[39;00m \u001b[39mKeyError\u001b[39;00m \u001b[39mas\u001b[39;00m err:\n",
      "File \u001b[0;32m~/anaconda3/envs/myenv/lib/python3.11/site-packages/pandas/_libs/index.pyx:138\u001b[0m, in \u001b[0;36mpandas._libs.index.IndexEngine.get_loc\u001b[0;34m()\u001b[0m\n",
      "File \u001b[0;32m~/anaconda3/envs/myenv/lib/python3.11/site-packages/pandas/_libs/index.pyx:165\u001b[0m, in \u001b[0;36mpandas._libs.index.IndexEngine.get_loc\u001b[0;34m()\u001b[0m\n",
      "File \u001b[0;32mpandas/_libs/hashtable_class_helper.pxi:5745\u001b[0m, in \u001b[0;36mpandas._libs.hashtable.PyObjectHashTable.get_item\u001b[0;34m()\u001b[0m\n",
      "File \u001b[0;32mpandas/_libs/hashtable_class_helper.pxi:5753\u001b[0m, in \u001b[0;36mpandas._libs.hashtable.PyObjectHashTable.get_item\u001b[0;34m()\u001b[0m\n",
      "\u001b[0;31mKeyError\u001b[0m: 'chromosome'",
      "\nThe above exception was the direct cause of the following exception:\n",
      "\u001b[0;31mKeyError\u001b[0m                                  Traceback (most recent call last)",
      "Cell \u001b[0;32mIn[20], line 1\u001b[0m\n\u001b[0;32m----> 1\u001b[0m df[\u001b[39m'\u001b[39m\u001b[39mchr\u001b[39m\u001b[39m'\u001b[39m] \u001b[39m=\u001b[39m df[\u001b[39m'\u001b[39;49m\u001b[39mchromosome\u001b[39;49m\u001b[39m'\u001b[39;49m]\u001b[39m.\u001b[39mstr\u001b[39m.\u001b[39mreplace(\u001b[39m'\u001b[39m\u001b[39mchr\u001b[39m\u001b[39m'\u001b[39m,\u001b[39m'\u001b[39m\u001b[39m'\u001b[39m)\u001b[39m.\u001b[39mastype(\u001b[39mint\u001b[39m) \u001b[39m#CHR COLUMN\u001b[39;00m\n",
      "File \u001b[0;32m~/anaconda3/envs/myenv/lib/python3.11/site-packages/pandas/core/frame.py:3807\u001b[0m, in \u001b[0;36mDataFrame.__getitem__\u001b[0;34m(self, key)\u001b[0m\n\u001b[1;32m   3805\u001b[0m \u001b[39mif\u001b[39;00m \u001b[39mself\u001b[39m\u001b[39m.\u001b[39mcolumns\u001b[39m.\u001b[39mnlevels \u001b[39m>\u001b[39m \u001b[39m1\u001b[39m:\n\u001b[1;32m   3806\u001b[0m     \u001b[39mreturn\u001b[39;00m \u001b[39mself\u001b[39m\u001b[39m.\u001b[39m_getitem_multilevel(key)\n\u001b[0;32m-> 3807\u001b[0m indexer \u001b[39m=\u001b[39m \u001b[39mself\u001b[39;49m\u001b[39m.\u001b[39;49mcolumns\u001b[39m.\u001b[39;49mget_loc(key)\n\u001b[1;32m   3808\u001b[0m \u001b[39mif\u001b[39;00m is_integer(indexer):\n\u001b[1;32m   3809\u001b[0m     indexer \u001b[39m=\u001b[39m [indexer]\n",
      "File \u001b[0;32m~/anaconda3/envs/myenv/lib/python3.11/site-packages/pandas/core/indexes/base.py:3804\u001b[0m, in \u001b[0;36mIndex.get_loc\u001b[0;34m(self, key, method, tolerance)\u001b[0m\n\u001b[1;32m   3802\u001b[0m     \u001b[39mreturn\u001b[39;00m \u001b[39mself\u001b[39m\u001b[39m.\u001b[39m_engine\u001b[39m.\u001b[39mget_loc(casted_key)\n\u001b[1;32m   3803\u001b[0m \u001b[39mexcept\u001b[39;00m \u001b[39mKeyError\u001b[39;00m \u001b[39mas\u001b[39;00m err:\n\u001b[0;32m-> 3804\u001b[0m     \u001b[39mraise\u001b[39;00m \u001b[39mKeyError\u001b[39;00m(key) \u001b[39mfrom\u001b[39;00m \u001b[39merr\u001b[39;00m\n\u001b[1;32m   3805\u001b[0m \u001b[39mexcept\u001b[39;00m \u001b[39mTypeError\u001b[39;00m:\n\u001b[1;32m   3806\u001b[0m     \u001b[39m# If we have a listlike key, _check_indexing_error will raise\u001b[39;00m\n\u001b[1;32m   3807\u001b[0m     \u001b[39m#  InvalidIndexError. Otherwise we fall through and re-raise\u001b[39;00m\n\u001b[1;32m   3808\u001b[0m     \u001b[39m#  the TypeError.\u001b[39;00m\n\u001b[1;32m   3809\u001b[0m     \u001b[39mself\u001b[39m\u001b[39m.\u001b[39m_check_indexing_error(key)\n",
      "\u001b[0;31mKeyError\u001b[0m: 'chromosome'"
     ]
    }
   ],
   "source": [
    "df['chromosome'] = df['chr'].str.replace('chr','').astype(int) #CHR COLUMN"
   ]
  },
  {
   "cell_type": "code",
   "execution_count": null,
   "metadata": {},
   "outputs": [],
   "source": []
  },
  {
   "cell_type": "code",
   "execution_count": 6,
   "metadata": {},
   "outputs": [
    {
     "data": {
      "text/plain": [
       "587"
      ]
     },
     "execution_count": 6,
     "metadata": {},
     "output_type": "execute_result"
    }
   ],
   "source": [
    "len(df)"
   ]
  },
  {
   "attachments": {},
   "cell_type": "markdown",
   "metadata": {},
   "source": [
    "ANALYSIS"
   ]
  },
  {
   "attachments": {},
   "cell_type": "markdown",
   "metadata": {},
   "source": [
    "--------------- CHR8, NORMAL COPY NUMBER -----------------------------------"
   ]
  },
  {
   "cell_type": "code",
   "execution_count": 7,
   "metadata": {},
   "outputs": [],
   "source": [
    "chr20 = df[df['chr']==20] #what a normal copy number RDR looks like. \n"
   ]
  },
  {
   "cell_type": "code",
   "execution_count": 8,
   "metadata": {},
   "outputs": [
    {
     "data": {
      "image/png": "[encoded data removed]",
      "text/plain": [
       "<Figure size 640x480 with 1 Axes>"
      ]
     },
     "metadata": {},
     "output_type": "display_data"
    }
   ],
   "source": [
    "red_circle = dict(markerfacecolor='red', marker='o')\n",
    "\n",
    "plt.boxplot(x=chr20.loc[:,'RDR'], flierprops=red_circle)\n",
    "\n",
    "plt.suptitle(\"\"\"Box and Whisker Plot showing the Variance \n",
    "in Read Depth Ratios Throughout Chromosome 20 \"\"\")\n",
    "\n",
    "plt.xlabel('Chromosome 20')\n",
    "plt.xticks([])\n",
    "plt.ylabel('Read Depth Ratio')\n",
    "\n",
    "plt.savefig('Norm_chr20.png', dpi=200 )\n",
    "plt.show()\n",
    "\n"
   ]
  },
  {
   "cell_type": "code",
   "execution_count": 9,
   "metadata": {},
   "outputs": [
    {
     "data": {
      "text/plain": [
       "count    13.000000\n",
       "mean      1.119440\n",
       "std       0.086955\n",
       "min       0.964165\n",
       "25%       1.072509\n",
       "50%       1.101956\n",
       "75%       1.173980\n",
       "max       1.269899\n",
       "Name: RDR, dtype: float64"
      ]
     },
     "execution_count": 9,
     "metadata": {},
     "output_type": "execute_result"
    }
   ],
   "source": [
    "chr20.loc[:,'RDR'].describe()"
   ]
  },
  {
   "cell_type": "code",
   "execution_count": 10,
   "metadata": {},
   "outputs": [
    {
     "data": {
      "text/plain": [
       "1.26480130445798"
      ]
     },
     "execution_count": 10,
     "metadata": {},
     "output_type": "execute_result"
    }
   ],
   "source": [
    "chr20.loc[:,'RDR'].quantile(0.95)"
   ]
  },
  {
   "cell_type": "code",
   "execution_count": 11,
   "metadata": {},
   "outputs": [],
   "source": [
    "# UQ_chr8 = chr8.loc[:,'RDR'].quantile(0.75)\n",
    "# LQ_chr8 = chr8.loc[:,'RDR'].quantile(0.25)\n",
    "# IQR_chr8 = UQ_chr8-LQ_chr8\n",
    "# upper_outliers_chr8 = UQ_chr8 + (1.25*IQR_chr8)\n",
    "# lower_outliers_chr8 = LQ_chr8 - (1.25*IQR_chr8)"
   ]
  },
  {
   "cell_type": "code",
   "execution_count": 12,
   "metadata": {},
   "outputs": [],
   "source": [
    "# IQR_chr8"
   ]
  },
  {
   "cell_type": "code",
   "execution_count": 13,
   "metadata": {},
   "outputs": [],
   "source": [
    "# chr8_without_outliers = chr8[[chr8['RDR'] < upper_outliers_chr8] and chr8['RDR'] > lower_outliers_chr8] \n",
    "# chr8_without_outliers.loc[:,'RDR'].mean()"
   ]
  },
  {
   "attachments": {},
   "cell_type": "markdown",
   "metadata": {},
   "source": [
    "---------------- CHR2 : HOMOZYGOUS DELETION ----------------------"
   ]
  },
  {
   "cell_type": "code",
   "execution_count": 27,
   "metadata": {},
   "outputs": [
    {
     "data": {
      "text/plain": [
       "49"
      ]
     },
     "execution_count": 27,
     "metadata": {},
     "output_type": "execute_result"
    }
   ],
   "source": [
    "chr2 = df[df['chr']==2] #what a homozgyous copy number RDR looks like. \n",
    "len(chr2)"
   ]
  },
  {
   "cell_type": "code",
   "execution_count": 28,
   "metadata": {},
   "outputs": [
    {
     "data": {
      "text/plain": [
       "36"
      ]
     },
     "execution_count": 28,
     "metadata": {},
     "output_type": "execute_result"
    }
   ],
   "source": [
    "chr2_above_zero = chr2[chr2['RDR'] > 0]\n",
    "len(chr2_above_zero)"
   ]
  },
  {
   "cell_type": "code",
   "execution_count": 29,
   "metadata": {},
   "outputs": [
    {
     "data": {
      "image/png": "[encoded data removed]",
      "text/plain": [
       "<Figure size 640x480 with 1 Axes>"
      ]
     },
     "metadata": {},
     "output_type": "display_data"
    }
   ],
   "source": [
    "red_circle = dict(markerfacecolor='red', marker='o')\n",
    "\n",
    "plt.boxplot(x=chr2.loc[:,'RDR'], flierprops=red_circle)\n",
    "\n",
    "plt.suptitle(\"\"\"Box and Whisker Plot showing the Variance \n",
    "in Read Depth Ratios Throughout Chromosome 2 \"\"\")\n",
    "\n",
    "plt.xlabel('Chromosome 2')\n",
    "plt.xticks([])\n",
    "plt.ylabel('Read Depth Ratio')\n",
    "\n",
    "plt.savefig('HD_chr2.png', dpi=200 )\n",
    "\n",
    "plt.show()\n",
    "\n"
   ]
  },
  {
   "cell_type": "code",
   "execution_count": 26,
   "metadata": {},
   "outputs": [
    {
     "ename": "AttributeError",
     "evalue": "'AxesSubplot' object has no attribute 'loc'",
     "output_type": "error",
     "traceback": [
      "\u001b[0;31m---------------------------------------------------------------------------\u001b[0m",
      "\u001b[0;31mAttributeError\u001b[0m                            Traceback (most recent call last)",
      "Cell \u001b[0;32mIn[26], line 1\u001b[0m\n\u001b[0;32m----> 1\u001b[0m chr2\u001b[39m.\u001b[39;49mloc[:,\u001b[39m'\u001b[39m\u001b[39mRDR\u001b[39m\u001b[39m'\u001b[39m]\u001b[39m.\u001b[39mquantile(q\u001b[39m=\u001b[39m\u001b[39m0.95\u001b[39m) \u001b[39m#95% quantile\u001b[39;00m\n",
      "\u001b[0;31mAttributeError\u001b[0m: 'AxesSubplot' object has no attribute 'loc'"
     ]
    }
   ],
   "source": [
    "chr2.loc[:,'RDR'].quantile(q=0.95) #95% quantile"
   ]
  },
  {
   "cell_type": "code",
   "execution_count": 18,
   "metadata": {},
   "outputs": [
    {
     "data": {
      "text/plain": [
       "0.011673846991221195"
      ]
     },
     "execution_count": 18,
     "metadata": {},
     "output_type": "execute_result"
    }
   ],
   "source": [
    "chr2.loc[:,'RDR'].quantile(q=0.98) #98% quantile"
   ]
  },
  {
   "cell_type": "code",
   "execution_count": 19,
   "metadata": {},
   "outputs": [
    {
     "data": {
      "text/plain": [
       "0.0071366741222460795"
      ]
     },
     "execution_count": 19,
     "metadata": {},
     "output_type": "execute_result"
    }
   ],
   "source": [
    "chr2.loc[:,'RDR'].quantile(q=0.90) #90% quantile"
   ]
  },
  {
   "cell_type": "code",
   "execution_count": 20,
   "metadata": {},
   "outputs": [
    {
     "data": {
      "image/png": "[encoded data removed]",
      "text/plain": [
       "<Figure size 1200x300 with 1 Axes>"
      ]
     },
     "metadata": {},
     "output_type": "display_data"
    }
   ],
   "source": [
    "# plt.figure(figsize=(12,3))\n",
    "# chr2 = sns.scatterplot(data=chr2, x='index', y='RDR', hue='chr', legend=False, palette='Set2', s=7) #look up how to move legend from graph\n",
    "\n",
    "# chr2.set_ylim(0, 1.2)\n",
    "\n",
    "# plt.tight_layout()\n",
    "\n",
    "# plt.savefig('chr2_large_scatterplot', dpi=200 )"
   ]
  },
  {
   "cell_type": "code",
   "execution_count": 30,
   "metadata": {},
   "outputs": [
    {
     "data": {
      "text/plain": [
       "count    49.000000\n",
       "mean      0.003675\n",
       "std       0.003943\n",
       "min       0.000000\n",
       "25%       0.000000\n",
       "50%       0.002299\n",
       "75%       0.005869\n",
       "max       0.022051\n",
       "Name: RDR, dtype: float64"
      ]
     },
     "execution_count": 30,
     "metadata": {},
     "output_type": "execute_result"
    }
   ],
   "source": [
    "chr2.loc[:,'RDR'].describe()"
   ]
  },
  {
   "cell_type": "code",
   "execution_count": 22,
   "metadata": {},
   "outputs": [
    {
     "ename": "AttributeError",
     "evalue": "'AxesSubplot' object has no attribute 'loc'",
     "output_type": "error",
     "traceback": [
      "\u001b[0;31m---------------------------------------------------------------------------\u001b[0m",
      "\u001b[0;31mAttributeError\u001b[0m                            Traceback (most recent call last)",
      "Cell \u001b[0;32mIn[22], line 1\u001b[0m\n\u001b[0;32m----> 1\u001b[0m UQ_chr2 \u001b[39m=\u001b[39m chr2\u001b[39m.\u001b[39;49mloc[:,\u001b[39m'\u001b[39m\u001b[39mRDR\u001b[39m\u001b[39m'\u001b[39m]\u001b[39m.\u001b[39mquantile(\u001b[39m0.75\u001b[39m)\n\u001b[1;32m      2\u001b[0m LQ_chr2 \u001b[39m=\u001b[39m chr2\u001b[39m.\u001b[39mloc[:,\u001b[39m'\u001b[39m\u001b[39mRDR\u001b[39m\u001b[39m'\u001b[39m]\u001b[39m.\u001b[39mquantile(\u001b[39m0.25\u001b[39m)\n\u001b[1;32m      3\u001b[0m IQR_chr2 \u001b[39m=\u001b[39m (UQ_chr2) \u001b[39m-\u001b[39m(LQ_chr2)\n",
      "\u001b[0;31mAttributeError\u001b[0m: 'AxesSubplot' object has no attribute 'loc'"
     ]
    }
   ],
   "source": [
    "UQ_chr2 = chr2.loc[:,'RDR'].quantile(0.75)\n",
    "LQ_chr2 = chr2.loc[:,'RDR'].quantile(0.25)\n",
    "IQR_chr2 = (UQ_chr2) -(LQ_chr2)\n",
    "upper_outliers_chr2 = UQ_chr2 + (1.25* IQR_chr2)"
   ]
  },
  {
   "cell_type": "code",
   "execution_count": null,
   "metadata": {},
   "outputs": [
    {
     "data": {
      "text/plain": [
       "0.004703869540729234"
      ]
     },
     "execution_count": 19,
     "metadata": {},
     "output_type": "execute_result"
    }
   ],
   "source": [
    "IQR_chr2"
   ]
  },
  {
   "cell_type": "code",
   "execution_count": null,
   "metadata": {},
   "outputs": [
    {
     "data": {
      "text/html": [
       "<div>\n",
       "<style scoped>\n",
       "    .dataframe tbody tr th:only-of-type {\n",
       "        vertical-align: middle;\n",
       "    }\n",
       "\n",
       "    .dataframe tbody tr th {\n",
       "        vertical-align: top;\n",
       "    }\n",
       "\n",
       "    .dataframe thead th {\n",
       "        text-align: right;\n",
       "    }\n",
       "</style>\n",
       "<table border=\"1\" class=\"dataframe\">\n",
       "  <thead>\n",
       "    <tr style=\"text-align: right;\">\n",
       "      <th></th>\n",
       "      <th>index</th>\n",
       "      <th>chr</th>\n",
       "      <th>start_pos</th>\n",
       "      <th>end_pos</th>\n",
       "      <th>human_reads</th>\n",
       "      <th>mutated_reads</th>\n",
       "      <th>RDR</th>\n",
       "    </tr>\n",
       "  </thead>\n",
       "  <tbody>\n",
       "    <tr>\n",
       "      <th>68</th>\n",
       "      <td>68</td>\n",
       "      <td>2</td>\n",
       "      <td>90000000</td>\n",
       "      <td>95000000</td>\n",
       "      <td>708</td>\n",
       "      <td>12</td>\n",
       "      <td>0.019573</td>\n",
       "    </tr>\n",
       "    <tr>\n",
       "      <th>72</th>\n",
       "      <td>72</td>\n",
       "      <td>2</td>\n",
       "      <td>110000000</td>\n",
       "      <td>115000000</td>\n",
       "      <td>992</td>\n",
       "      <td>14</td>\n",
       "      <td>0.016298</td>\n",
       "    </tr>\n",
       "    <tr>\n",
       "      <th>98</th>\n",
       "      <td>98</td>\n",
       "      <td>2</td>\n",
       "      <td>240000000</td>\n",
       "      <td>242193529</td>\n",
       "      <td>380</td>\n",
       "      <td>8</td>\n",
       "      <td>0.024312</td>\n",
       "    </tr>\n",
       "  </tbody>\n",
       "</table>\n",
       "</div>"
      ],
      "text/plain": [
       "    index  chr  start_pos    end_pos  human_reads  mutated_reads       RDR\n",
       "68     68    2   90000000   95000000          708             12  0.019573\n",
       "72     72    2  110000000  115000000          992             14  0.016298\n",
       "98     98    2  240000000  242193529          380              8  0.024312"
      ]
     },
     "execution_count": 20,
     "metadata": {},
     "output_type": "execute_result"
    }
   ],
   "source": [
    "chr2[chr2['RDR'] > upper_outliers_chr2]  #only 3 values with an RDR above 0.0333"
   ]
  },
  {
   "cell_type": "code",
   "execution_count": null,
   "metadata": {},
   "outputs": [
    {
     "data": {
      "text/plain": [
       "0.002774207684624865"
      ]
     },
     "execution_count": 21,
     "metadata": {},
     "output_type": "execute_result"
    }
   ],
   "source": [
    "chr2_without_outliers = chr2[chr2['RDR'] < upper_outliers_chr2] \n",
    "chr2_without_outliers.loc[:,'RDR'].mean()"
   ]
  },
  {
   "attachments": {},
   "cell_type": "markdown",
   "metadata": {},
   "source": [
    "---------------- CHR17 : HETEROZYGOUS DELETION ----------------------"
   ]
  },
  {
   "cell_type": "code",
   "execution_count": null,
   "metadata": {},
   "outputs": [
    {
     "data": {
      "text/plain": [
       "17"
      ]
     },
     "execution_count": 32,
     "metadata": {},
     "output_type": "execute_result"
    }
   ],
   "source": [
    "chr17 = df[df['chr']==17]\n",
    "len(chr17)"
   ]
  },
  {
   "cell_type": "code",
   "execution_count": null,
   "metadata": {},
   "outputs": [
    {
     "data": {
      "image/png": "[encoded data removed]",
      "text/plain": [
       "<Figure size 640x480 with 1 Axes>"
      ]
     },
     "metadata": {},
     "output_type": "display_data"
    }
   ],
   "source": [
    "red_circle = dict(markerfacecolor='red', marker='o')\n",
    "\n",
    "plt.boxplot(x=chr17.loc[:,'RDR'], flierprops=red_circle)\n",
    "\n",
    "plt.suptitle(\"\"\"Box and Whisker Plot showing the Variance \n",
    "in Read Depth Ratios Throughout Chromosome 17 \"\"\")\n",
    "             \n",
    "plt.xlabel('Chromosome 17')\n",
    "plt.xticks([])\n",
    "plt.ylabel('Read Depth Ratio')\n",
    "\n",
    "plt.savefig('Het_D_chr17.png', dpi=200 )\n",
    "plt.show()\n",
    "\n"
   ]
  },
  {
   "cell_type": "code",
   "execution_count": null,
   "metadata": {},
   "outputs": [
    {
     "data": {
      "text/plain": [
       "count    17.000000\n",
       "mean      0.581728\n",
       "std       0.050447\n",
       "min       0.477927\n",
       "25%       0.550619\n",
       "50%       0.598065\n",
       "75%       0.620378\n",
       "max       0.645695\n",
       "Name: RDR, dtype: float64"
      ]
     },
     "execution_count": 34,
     "metadata": {},
     "output_type": "execute_result"
    }
   ],
   "source": [
    "chr17.loc[:,'RDR'].describe()"
   ]
  },
  {
   "cell_type": "code",
   "execution_count": null,
   "metadata": {},
   "outputs": [],
   "source": [
    "UQ_chr17 = chr17.loc[:,'RDR'].quantile(0.75)\n",
    "LQ_chr17 = chr17.loc[:,'RDR'].quantile(0.25)\n",
    "IQR_chr17 = (UQ_chr17) -(LQ_chr17)\n",
    "upper_outliers_chr17 = UQ_chr17 + (1.25* IQR_chr17)"
   ]
  },
  {
   "cell_type": "code",
   "execution_count": null,
   "metadata": {},
   "outputs": [
    {
     "data": {
      "text/plain": [
       "0.06975906791791975"
      ]
     },
     "execution_count": 36,
     "metadata": {},
     "output_type": "execute_result"
    }
   ],
   "source": [
    "IQR_chr17"
   ]
  },
  {
   "cell_type": "code",
   "execution_count": null,
   "metadata": {},
   "outputs": [
    {
     "data": {
      "text/html": [
       "<div>\n",
       "<style scoped>\n",
       "    .dataframe tbody tr th:only-of-type {\n",
       "        vertical-align: middle;\n",
       "    }\n",
       "\n",
       "    .dataframe tbody tr th {\n",
       "        vertical-align: top;\n",
       "    }\n",
       "\n",
       "    .dataframe thead th {\n",
       "        text-align: right;\n",
       "    }\n",
       "</style>\n",
       "<table border=\"1\" class=\"dataframe\">\n",
       "  <thead>\n",
       "    <tr style=\"text-align: right;\">\n",
       "      <th></th>\n",
       "      <th>index</th>\n",
       "      <th>chr</th>\n",
       "      <th>start_pos</th>\n",
       "      <th>end_pos</th>\n",
       "      <th>human_reads</th>\n",
       "      <th>mutated_reads</th>\n",
       "      <th>RDR</th>\n",
       "    </tr>\n",
       "  </thead>\n",
       "  <tbody>\n",
       "  </tbody>\n",
       "</table>\n",
       "</div>"
      ],
      "text/plain": [
       "Empty DataFrame\n",
       "Columns: [index, chr, start_pos, end_pos, human_reads, mutated_reads, RDR]\n",
       "Index: []"
      ]
     },
     "execution_count": 37,
     "metadata": {},
     "output_type": "execute_result"
    }
   ],
   "source": [
    "chr17[chr17['RDR'] > upper_outliers_chr17]  #only 3 values with an RDR above 0.0333"
   ]
  },
  {
   "cell_type": "code",
   "execution_count": null,
   "metadata": {},
   "outputs": [
    {
     "data": {
      "text/plain": [
       "0.581728161994339"
      ]
     },
     "execution_count": 38,
     "metadata": {},
     "output_type": "execute_result"
    }
   ],
   "source": [
    "chr17_without_outliers = chr17[chr17['RDR'] < upper_outliers_chr17] \n",
    "chr17_without_outliers.loc[:,'RDR'].mean()"
   ]
  },
  {
   "cell_type": "code",
   "execution_count": null,
   "metadata": {},
   "outputs": [
    {
     "data": {
      "text/plain": [
       "0.6405503379095603"
      ]
     },
     "execution_count": 39,
     "metadata": {},
     "output_type": "execute_result"
    }
   ],
   "source": [
    "chr17.loc[:,'RDR'].quantile(0.95)"
   ]
  },
  {
   "attachments": {},
   "cell_type": "markdown",
   "metadata": {},
   "source": [
    "MAPPING THESE ALL ON THE SAME GRAPH"
   ]
  },
  {
   "attachments": {},
   "cell_type": "markdown",
   "metadata": {},
   "source": [
    "Decided it's not a good comparison"
   ]
  },
  {
   "cell_type": "code",
   "execution_count": null,
   "metadata": {},
   "outputs": [
    {
     "ename": "TypeError",
     "evalue": "'AxesSubplot' object is not subscriptable",
     "output_type": "error",
     "traceback": [
      "\u001b[0;31m---------------------------------------------------------------------------\u001b[0m",
      "\u001b[0;31mTypeError\u001b[0m                                 Traceback (most recent call last)",
      "Cell \u001b[0;32mIn[40], line 1\u001b[0m\n\u001b[0;32m----> 1\u001b[0m combined_dfs \u001b[39m=\u001b[39m pd\u001b[39m.\u001b[39mDataFrame({\u001b[39m'\u001b[39m\u001b[39m2\u001b[39m\u001b[39m'\u001b[39m: chr2[\u001b[39m'\u001b[39;49m\u001b[39mRDR\u001b[39;49m\u001b[39m'\u001b[39;49m],\n\u001b[1;32m      2\u001b[0m                              \u001b[39m'\u001b[39m\u001b[39m8\u001b[39m\u001b[39m'\u001b[39m: chr8[\u001b[39m'\u001b[39m\u001b[39mRDR\u001b[39m\u001b[39m'\u001b[39m],\n\u001b[1;32m      3\u001b[0m                              \u001b[39m'\u001b[39m\u001b[39m17\u001b[39m\u001b[39m'\u001b[39m: chr17[\u001b[39m'\u001b[39m\u001b[39mRDR\u001b[39m\u001b[39m'\u001b[39m],\n\u001b[1;32m      4\u001b[0m                              })\n\u001b[1;32m      5\u001b[0m combined_dfs\n\u001b[1;32m      7\u001b[0m sns\u001b[39m.\u001b[39mset_style(\u001b[39m'\u001b[39m\u001b[39mwhite\u001b[39m\u001b[39m'\u001b[39m)\n",
      "\u001b[0;31mTypeError\u001b[0m: 'AxesSubplot' object is not subscriptable"
     ]
    }
   ],
   "source": [
    "\n",
    "combined_dfs = pd.DataFrame({'2': chr2['RDR'],\n",
    "                             '8': chr8['RDR'],\n",
    "                             '17': chr17['RDR'],\n",
    "                             })\n",
    "combined_dfs\n",
    "\n",
    "sns.set_style('white')\n",
    "sns.boxplot(data=combined_dfs, palette='flare')\n",
    "plt.suptitle(\"\"\"Box and Whisker Plot showing the Variance \n",
    "in Read Depth Ratios Throughout Chromosomes \"\"\")\n",
    "plt.xlabel('Chromosome')\n",
    "plt.ylabel('Read Depth Ratio')\n",
    "sns.despine()\n",
    "plt.savefig('combined_RDR', dpi=200 )\n",
    "plt.show()"
   ]
  },
  {
   "attachments": {},
   "cell_type": "markdown",
   "metadata": {},
   "source": [
    "GENOME WIDE RDR "
   ]
  },
  {
   "cell_type": "code",
   "execution_count": 21,
   "metadata": {},
   "outputs": [],
   "source": [
    "chromosome_pos = df.groupby('chr')['index'].first()"
   ]
  },
  {
   "cell_type": "code",
   "execution_count": null,
   "metadata": {},
   "outputs": [],
   "source": [
    "\n",
    "# sns.barplot(x= df_prop_HD_threshold['index'], y=df_prop_HD_threshold['PROP_HD'], color= 'green')\n",
    "\n",
    "# chromosome_pos = df_prop_HD_threshold.groupby('CHR')['index'].first()\n",
    "\n",
    "# plt.xticks(chromosome_pos.values, chromosome_pos.index)\n",
    "\n",
    "# for starting_pos in chromosome_pos.values:\n",
    "#     plt.axvline(x=starting_pos, linewidth=1.0, color='black', linestyle='-')\n",
    "\n",
    "# plt.xlabel('Chromosome')\n",
    "\n",
    "# threshold = 0.003\n",
    "\n",
    "# plt.ylabel('Proportion of HDs in Genetic Locus')\n",
    "\n",
    "# plt.axhline(y=0.010144, color='r', linestyle='-')\n",
    "\n",
    "\n",
    "# plt.ylim(0, 0.09)\n",
    "\n",
    "# plt.title(\"\"\"Frequency Plot showing the \n",
    "# Genome Wide Proportion of Homozygous Deletions in BC Patient S1, using HD threshold\n",
    "#         \"\"\")\n",
    "\n",
    "# plt.gcf().subplots_adjust(bottom=0.15)\n",
    "# plt.savefig('FP_BC_P_S1_threshold.png', dpi=300)"
   ]
  },
  {
   "cell_type": "code",
   "execution_count": 25,
   "metadata": {},
   "outputs": [
    {
     "data": {
      "image/png": "[encoded data removed]",
      "text/plain": [
       "<Figure size 1200x300 with 1 Axes>"
      ]
     },
     "metadata": {},
     "output_type": "display_data"
    }
   ],
   "source": [
    "chromosome_pos = df.groupby('chr')['index'].first()\n",
    "\n",
    "plt.figure(figsize=(12,3))\n",
    "scatter = sns.scatterplot(data=df, x='index', y='RDR', hue='chr', legend=False, palette='Set2', s=7) #look up how to move legend from graph\n",
    "\n",
    "plt.xticks(chromosome_pos.values, chromosome_pos.index)\n",
    "\n",
    "# for starting_pos in chromosome_pos.values:\n",
    "#     plt.axvline(x=starting_pos, linewidth=1.0, color='black', linestyle='-')\n",
    "\n",
    "plt.xlabel('Chromosome')\n",
    "\n",
    "scatter.set_ylim(0, 20)\n",
    "\n",
    "plt.tight_layout()\n",
    "\n",
    "plt.savefig('Genome_wide_RDR_large_updated', dpi=200 )"
   ]
  }
 ],
 "metadata": {
  "kernelspec": {
   "display_name": "myenv",
   "language": "python",
   "name": "python3"
  },
  "language_info": {
   "codemirror_mode": {
    "name": "ipython",
    "version": 3
   },
   "file_extension": ".py",
   "mimetype": "text/x-python",
   "name": "python",
   "nbconvert_exporter": "python",
   "pygments_lexer": "ipython3",
   "version": "3.11.0"
  },
  "orig_nbformat": 4,
  "vscode": {
   "interpreter": {
    "hash": "64dbeee7701511da0a2dab307046cba706b4a12361239070d5a64ca482b3fb55"
   }
  }
 },
 "nbformat": 4,
 "nbformat_minor": 2
}
