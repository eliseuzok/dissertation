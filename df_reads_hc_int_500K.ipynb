{
 "cells": [
  {
   "cell_type": "code",
   "execution_count": 2,
   "metadata": {},
   "outputs": [],
   "source": [
    "import numpy as np\n",
    "import seaborn as sns\n",
    "import pandas as pd\n",
    "import matplotlib.pyplot as plt\n",
    "import scipy\n",
    "import docx"
   ]
  },
  {
   "cell_type": "code",
   "execution_count": 3,
   "metadata": {},
   "outputs": [],
   "source": [
    "#making a df by importing the values from the human reads txt\n",
    "\n",
    "df = pd.read_csv('human_reads_int.txt', sep='\\t', header=None)\n",
    "header = ['chr', 'start_pos','end_pos','human_reads']\n",
    "df.columns = header[:len(df.columns)]\n",
    "df['chr'] = df['chr'].str.replace('chr','').astype(int) #CHR COLUMN\n",
    "df = df.reset_index()"
   ]
  },
  {
   "cell_type": "code",
   "execution_count": 4,
   "metadata": {},
   "outputs": [
    {
     "data": {
      "text/html": [
       "<div>\n",
       "<style scoped>\n",
       "    .dataframe tbody tr th:only-of-type {\n",
       "        vertical-align: middle;\n",
       "    }\n",
       "\n",
       "    .dataframe tbody tr th {\n",
       "        vertical-align: top;\n",
       "    }\n",
       "\n",
       "    .dataframe thead th {\n",
       "        text-align: right;\n",
       "    }\n",
       "</style>\n",
       "<table border=\"1\" class=\"dataframe\">\n",
       "  <thead>\n",
       "    <tr style=\"text-align: right;\">\n",
       "      <th></th>\n",
       "      <th>chromosome</th>\n",
       "      <th>start_pos</th>\n",
       "      <th>end_pos</th>\n",
       "      <th>mutated_reads</th>\n",
       "    </tr>\n",
       "  </thead>\n",
       "  <tbody>\n",
       "    <tr>\n",
       "      <th>0</th>\n",
       "      <td>chr1</td>\n",
       "      <td>0</td>\n",
       "      <td>500000</td>\n",
       "      <td>76</td>\n",
       "    </tr>\n",
       "    <tr>\n",
       "      <th>1</th>\n",
       "      <td>chr1</td>\n",
       "      <td>500000</td>\n",
       "      <td>1000000</td>\n",
       "      <td>102</td>\n",
       "    </tr>\n",
       "    <tr>\n",
       "      <th>2</th>\n",
       "      <td>chr1</td>\n",
       "      <td>1000000</td>\n",
       "      <td>1500000</td>\n",
       "      <td>114</td>\n",
       "    </tr>\n",
       "    <tr>\n",
       "      <th>3</th>\n",
       "      <td>chr1</td>\n",
       "      <td>1500000</td>\n",
       "      <td>2000000</td>\n",
       "      <td>88</td>\n",
       "    </tr>\n",
       "    <tr>\n",
       "      <th>4</th>\n",
       "      <td>chr1</td>\n",
       "      <td>2000000</td>\n",
       "      <td>2500000</td>\n",
       "      <td>82</td>\n",
       "    </tr>\n",
       "    <tr>\n",
       "      <th>...</th>\n",
       "      <td>...</td>\n",
       "      <td>...</td>\n",
       "      <td>...</td>\n",
       "      <td>...</td>\n",
       "    </tr>\n",
       "    <tr>\n",
       "      <th>5755</th>\n",
       "      <td>chr22</td>\n",
       "      <td>48500000</td>\n",
       "      <td>49000000</td>\n",
       "      <td>82</td>\n",
       "    </tr>\n",
       "    <tr>\n",
       "      <th>5756</th>\n",
       "      <td>chr22</td>\n",
       "      <td>49000000</td>\n",
       "      <td>49500000</td>\n",
       "      <td>100</td>\n",
       "    </tr>\n",
       "    <tr>\n",
       "      <th>5757</th>\n",
       "      <td>chr22</td>\n",
       "      <td>49500000</td>\n",
       "      <td>50000000</td>\n",
       "      <td>114</td>\n",
       "    </tr>\n",
       "    <tr>\n",
       "      <th>5758</th>\n",
       "      <td>chr22</td>\n",
       "      <td>50000000</td>\n",
       "      <td>50500000</td>\n",
       "      <td>90</td>\n",
       "    </tr>\n",
       "    <tr>\n",
       "      <th>5759</th>\n",
       "      <td>chr22</td>\n",
       "      <td>50500000</td>\n",
       "      <td>50818468</td>\n",
       "      <td>46</td>\n",
       "    </tr>\n",
       "  </tbody>\n",
       "</table>\n",
       "<p>5760 rows × 4 columns</p>\n",
       "</div>"
      ],
      "text/plain": [
       "     chromosome  start_pos   end_pos  mutated_reads\n",
       "0          chr1          0    500000             76\n",
       "1          chr1     500000   1000000            102\n",
       "2          chr1    1000000   1500000            114\n",
       "3          chr1    1500000   2000000             88\n",
       "4          chr1    2000000   2500000             82\n",
       "...         ...        ...       ...            ...\n",
       "5755      chr22   48500000  49000000             82\n",
       "5756      chr22   49000000  49500000            100\n",
       "5757      chr22   49500000  50000000            114\n",
       "5758      chr22   50000000  50500000             90\n",
       "5759      chr22   50500000  50818468             46\n",
       "\n",
       "[5760 rows x 4 columns]"
      ]
     },
     "execution_count": 4,
     "metadata": {},
     "output_type": "execute_result"
    }
   ],
   "source": [
    "#making another df from the mutated reads file\n",
    "mutated = pd.read_csv('altered_reads_int.txt', sep='\\t', header=None)\n",
    "header = ['chromosome', 'start_pos','end_pos','mutated_reads']\n",
    "mutated.columns = header[:len(mutated.columns)]\n",
    "mutated"
   ]
  },
  {
   "cell_type": "code",
   "execution_count": 5,
   "metadata": {},
   "outputs": [
    {
     "data": {
      "text/html": [
       "<div>\n",
       "<style scoped>\n",
       "    .dataframe tbody tr th:only-of-type {\n",
       "        vertical-align: middle;\n",
       "    }\n",
       "\n",
       "    .dataframe tbody tr th {\n",
       "        vertical-align: top;\n",
       "    }\n",
       "\n",
       "    .dataframe thead th {\n",
       "        text-align: right;\n",
       "    }\n",
       "</style>\n",
       "<table border=\"1\" class=\"dataframe\">\n",
       "  <thead>\n",
       "    <tr style=\"text-align: right;\">\n",
       "      <th></th>\n",
       "      <th>index</th>\n",
       "      <th>chr</th>\n",
       "      <th>start_pos</th>\n",
       "      <th>end_pos</th>\n",
       "      <th>human_reads</th>\n",
       "      <th>mutated_reads</th>\n",
       "    </tr>\n",
       "  </thead>\n",
       "  <tbody>\n",
       "    <tr>\n",
       "      <th>0</th>\n",
       "      <td>0</td>\n",
       "      <td>1</td>\n",
       "      <td>0</td>\n",
       "      <td>500000</td>\n",
       "      <td>94</td>\n",
       "      <td>76</td>\n",
       "    </tr>\n",
       "    <tr>\n",
       "      <th>1</th>\n",
       "      <td>1</td>\n",
       "      <td>1</td>\n",
       "      <td>500000</td>\n",
       "      <td>1000000</td>\n",
       "      <td>112</td>\n",
       "      <td>102</td>\n",
       "    </tr>\n",
       "    <tr>\n",
       "      <th>2</th>\n",
       "      <td>2</td>\n",
       "      <td>1</td>\n",
       "      <td>1000000</td>\n",
       "      <td>1500000</td>\n",
       "      <td>126</td>\n",
       "      <td>114</td>\n",
       "    </tr>\n",
       "    <tr>\n",
       "      <th>3</th>\n",
       "      <td>3</td>\n",
       "      <td>1</td>\n",
       "      <td>1500000</td>\n",
       "      <td>2000000</td>\n",
       "      <td>102</td>\n",
       "      <td>88</td>\n",
       "    </tr>\n",
       "    <tr>\n",
       "      <th>4</th>\n",
       "      <td>4</td>\n",
       "      <td>1</td>\n",
       "      <td>2000000</td>\n",
       "      <td>2500000</td>\n",
       "      <td>78</td>\n",
       "      <td>82</td>\n",
       "    </tr>\n",
       "    <tr>\n",
       "      <th>...</th>\n",
       "      <td>...</td>\n",
       "      <td>...</td>\n",
       "      <td>...</td>\n",
       "      <td>...</td>\n",
       "      <td>...</td>\n",
       "      <td>...</td>\n",
       "    </tr>\n",
       "    <tr>\n",
       "      <th>5755</th>\n",
       "      <td>5755</td>\n",
       "      <td>22</td>\n",
       "      <td>48500000</td>\n",
       "      <td>49000000</td>\n",
       "      <td>104</td>\n",
       "      <td>82</td>\n",
       "    </tr>\n",
       "    <tr>\n",
       "      <th>5756</th>\n",
       "      <td>5756</td>\n",
       "      <td>22</td>\n",
       "      <td>49000000</td>\n",
       "      <td>49500000</td>\n",
       "      <td>100</td>\n",
       "      <td>100</td>\n",
       "    </tr>\n",
       "    <tr>\n",
       "      <th>5757</th>\n",
       "      <td>5757</td>\n",
       "      <td>22</td>\n",
       "      <td>49500000</td>\n",
       "      <td>50000000</td>\n",
       "      <td>108</td>\n",
       "      <td>114</td>\n",
       "    </tr>\n",
       "    <tr>\n",
       "      <th>5758</th>\n",
       "      <td>5758</td>\n",
       "      <td>22</td>\n",
       "      <td>50000000</td>\n",
       "      <td>50500000</td>\n",
       "      <td>116</td>\n",
       "      <td>90</td>\n",
       "    </tr>\n",
       "    <tr>\n",
       "      <th>5759</th>\n",
       "      <td>5759</td>\n",
       "      <td>22</td>\n",
       "      <td>50500000</td>\n",
       "      <td>50818468</td>\n",
       "      <td>34</td>\n",
       "      <td>46</td>\n",
       "    </tr>\n",
       "  </tbody>\n",
       "</table>\n",
       "<p>5760 rows × 6 columns</p>\n",
       "</div>"
      ],
      "text/plain": [
       "      index  chr  start_pos   end_pos  human_reads  mutated_reads\n",
       "0         0    1          0    500000           94             76\n",
       "1         1    1     500000   1000000          112            102\n",
       "2         2    1    1000000   1500000          126            114\n",
       "3         3    1    1500000   2000000          102             88\n",
       "4         4    1    2000000   2500000           78             82\n",
       "...     ...  ...        ...       ...          ...            ...\n",
       "5755   5755   22   48500000  49000000          104             82\n",
       "5756   5756   22   49000000  49500000          100            100\n",
       "5757   5757   22   49500000  50000000          108            114\n",
       "5758   5758   22   50000000  50500000          116             90\n",
       "5759   5759   22   50500000  50818468           34             46\n",
       "\n",
       "[5760 rows x 6 columns]"
      ]
     },
     "execution_count": 5,
     "metadata": {},
     "output_type": "execute_result"
    }
   ],
   "source": [
    "#adding the mutated reads column to the original  df\n",
    "df['mutated_reads'] = mutated['mutated_reads'].values\n",
    "df\n"
   ]
  },
  {
   "cell_type": "code",
   "execution_count": 6,
   "metadata": {},
   "outputs": [
    {
     "data": {
      "text/html": [
       "<div>\n",
       "<style scoped>\n",
       "    .dataframe tbody tr th:only-of-type {\n",
       "        vertical-align: middle;\n",
       "    }\n",
       "\n",
       "    .dataframe tbody tr th {\n",
       "        vertical-align: top;\n",
       "    }\n",
       "\n",
       "    .dataframe thead th {\n",
       "        text-align: right;\n",
       "    }\n",
       "</style>\n",
       "<table border=\"1\" class=\"dataframe\">\n",
       "  <thead>\n",
       "    <tr style=\"text-align: right;\">\n",
       "      <th></th>\n",
       "      <th>index</th>\n",
       "      <th>chr</th>\n",
       "      <th>start_pos</th>\n",
       "      <th>end_pos</th>\n",
       "      <th>human_reads</th>\n",
       "      <th>mutated_reads</th>\n",
       "      <th>RDR</th>\n",
       "    </tr>\n",
       "  </thead>\n",
       "  <tbody>\n",
       "    <tr>\n",
       "      <th>0</th>\n",
       "      <td>0</td>\n",
       "      <td>1</td>\n",
       "      <td>0</td>\n",
       "      <td>500000</td>\n",
       "      <td>94</td>\n",
       "      <td>76</td>\n",
       "      <td>0.901598</td>\n",
       "    </tr>\n",
       "    <tr>\n",
       "      <th>1</th>\n",
       "      <td>1</td>\n",
       "      <td>1</td>\n",
       "      <td>500000</td>\n",
       "      <td>1000000</td>\n",
       "      <td>112</td>\n",
       "      <td>102</td>\n",
       "      <td>1.015569</td>\n",
       "    </tr>\n",
       "    <tr>\n",
       "      <th>2</th>\n",
       "      <td>2</td>\n",
       "      <td>1</td>\n",
       "      <td>1000000</td>\n",
       "      <td>1500000</td>\n",
       "      <td>126</td>\n",
       "      <td>114</td>\n",
       "      <td>1.008931</td>\n",
       "    </tr>\n",
       "    <tr>\n",
       "      <th>3</th>\n",
       "      <td>3</td>\n",
       "      <td>1</td>\n",
       "      <td>1500000</td>\n",
       "      <td>2000000</td>\n",
       "      <td>102</td>\n",
       "      <td>88</td>\n",
       "      <td>0.962077</td>\n",
       "    </tr>\n",
       "    <tr>\n",
       "      <th>4</th>\n",
       "      <td>4</td>\n",
       "      <td>1</td>\n",
       "      <td>2000000</td>\n",
       "      <td>2500000</td>\n",
       "      <td>78</td>\n",
       "      <td>82</td>\n",
       "      <td>1.172321</td>\n",
       "    </tr>\n",
       "    <tr>\n",
       "      <th>...</th>\n",
       "      <td>...</td>\n",
       "      <td>...</td>\n",
       "      <td>...</td>\n",
       "      <td>...</td>\n",
       "      <td>...</td>\n",
       "      <td>...</td>\n",
       "      <td>...</td>\n",
       "    </tr>\n",
       "    <tr>\n",
       "      <th>5755</th>\n",
       "      <td>5755</td>\n",
       "      <td>22</td>\n",
       "      <td>48500000</td>\n",
       "      <td>49000000</td>\n",
       "      <td>104</td>\n",
       "      <td>82</td>\n",
       "      <td>0.879241</td>\n",
       "    </tr>\n",
       "    <tr>\n",
       "      <th>5756</th>\n",
       "      <td>5756</td>\n",
       "      <td>22</td>\n",
       "      <td>49000000</td>\n",
       "      <td>49500000</td>\n",
       "      <td>100</td>\n",
       "      <td>100</td>\n",
       "      <td>1.115135</td>\n",
       "    </tr>\n",
       "    <tr>\n",
       "      <th>5757</th>\n",
       "      <td>5757</td>\n",
       "      <td>22</td>\n",
       "      <td>49500000</td>\n",
       "      <td>50000000</td>\n",
       "      <td>108</td>\n",
       "      <td>114</td>\n",
       "      <td>1.177087</td>\n",
       "    </tr>\n",
       "    <tr>\n",
       "      <th>5758</th>\n",
       "      <td>5758</td>\n",
       "      <td>22</td>\n",
       "      <td>50000000</td>\n",
       "      <td>50500000</td>\n",
       "      <td>116</td>\n",
       "      <td>90</td>\n",
       "      <td>0.865191</td>\n",
       "    </tr>\n",
       "    <tr>\n",
       "      <th>5759</th>\n",
       "      <td>5759</td>\n",
       "      <td>22</td>\n",
       "      <td>50500000</td>\n",
       "      <td>50818468</td>\n",
       "      <td>34</td>\n",
       "      <td>46</td>\n",
       "      <td>1.508712</td>\n",
       "    </tr>\n",
       "  </tbody>\n",
       "</table>\n",
       "<p>5760 rows × 7 columns</p>\n",
       "</div>"
      ],
      "text/plain": [
       "      index  chr  start_pos   end_pos  human_reads  mutated_reads       RDR\n",
       "0         0    1          0    500000           94             76  0.901598\n",
       "1         1    1     500000   1000000          112            102  1.015569\n",
       "2         2    1    1000000   1500000          126            114  1.008931\n",
       "3         3    1    1500000   2000000          102             88  0.962077\n",
       "4         4    1    2000000   2500000           78             82  1.172321\n",
       "...     ...  ...        ...       ...          ...            ...       ...\n",
       "5755   5755   22   48500000  49000000          104             82  0.879241\n",
       "5756   5756   22   49000000  49500000          100            100  1.115135\n",
       "5757   5757   22   49500000  50000000          108            114  1.177087\n",
       "5758   5758   22   50000000  50500000          116             90  0.865191\n",
       "5759   5759   22   50500000  50818468           34             46  1.508712\n",
       "\n",
       "[5760 rows x 7 columns]"
      ]
     },
     "execution_count": 6,
     "metadata": {},
     "output_type": "execute_result"
    }
   ],
   "source": [
    "#making RDR column\n",
    "df['RDR'] = (df['mutated_reads'] / df['human_reads']) * (df['human_reads'].sum() / df['mutated_reads'].sum())\n",
    "df"
   ]
  },
  {
   "cell_type": "code",
   "execution_count": 7,
   "metadata": {},
   "outputs": [
    {
     "data": {
      "text/plain": [
       "5760"
      ]
     },
     "execution_count": 7,
     "metadata": {},
     "output_type": "execute_result"
    }
   ],
   "source": [
    "len(df)"
   ]
  },
  {
   "attachments": {},
   "cell_type": "markdown",
   "metadata": {},
   "source": [
    "ANALYSIS"
   ]
  },
  {
   "attachments": {},
   "cell_type": "markdown",
   "metadata": {},
   "source": [
    "--------------- CHR8, NORMAL COPY NUMBER -----------------------------------"
   ]
  },
  {
   "cell_type": "code",
   "execution_count": 8,
   "metadata": {},
   "outputs": [
    {
     "data": {
      "text/plain": [
       "129"
      ]
     },
     "execution_count": 8,
     "metadata": {},
     "output_type": "execute_result"
    }
   ],
   "source": [
    "chr20 = df[df['chr']==20] #what a normal copy number RDR looks like. \n",
    "len(chr20)\n"
   ]
  },
  {
   "cell_type": "code",
   "execution_count": 9,
   "metadata": {},
   "outputs": [
    {
     "data": {
      "text/plain": [
       "129"
      ]
     },
     "execution_count": 9,
     "metadata": {},
     "output_type": "execute_result"
    }
   ],
   "source": [
    "chr20_inf_RDR = chr20[chr20['RDR']== np.inf] #what a normal copy number RDR looks like. \n",
    "chr20_inf_RDR\n",
    "len(chr20_inf_RDR)\n",
    "chr20 = chr20.replace([np.inf, -np.inf], np.nan).dropna(axis=0)\n",
    "len(chr20)"
   ]
  },
  {
   "cell_type": "code",
   "execution_count": 10,
   "metadata": {},
   "outputs": [
    {
     "data": {
      "image/png": "[encoded data removed]",
      "text/plain": [
       "<Figure size 640x480 with 1 Axes>"
      ]
     },
     "metadata": {},
     "output_type": "display_data"
    }
   ],
   "source": [
    "red_circle = dict(markerfacecolor='red', marker='o')\n",
    "\n",
    "plt.boxplot(x=chr20.loc[:,'RDR'], flierprops=red_circle)\n",
    "\n",
    "plt.suptitle(\"\"\"Box and Whisker Plot showing the Variance \n",
    "in Read Depth Ratios Throughout Chromosome 20 : 500kb \"\"\")\n",
    "\n",
    "plt.xlabel('Chromosome 8')\n",
    "plt.xticks([])\n",
    "plt.ylabel('Read Depth Ratio')\n",
    "\n",
    "plt.savefig('Norm_chr20_int.png', dpi=200 )\n",
    "plt.show()\n",
    "\n"
   ]
  },
  {
   "cell_type": "code",
   "execution_count": 11,
   "metadata": {},
   "outputs": [
    {
     "data": {
      "text/plain": [
       "count    129.000000\n",
       "mean       1.140677\n",
       "std        0.240491\n",
       "min        0.631208\n",
       "25%        0.952511\n",
       "50%        1.115135\n",
       "75%        1.284829\n",
       "max        1.744185\n",
       "Name: RDR, dtype: float64"
      ]
     },
     "execution_count": 11,
     "metadata": {},
     "output_type": "execute_result"
    }
   ],
   "source": [
    "chr20.loc[:,'RDR'].describe()"
   ]
  },
  {
   "cell_type": "code",
   "execution_count": 12,
   "metadata": {},
   "outputs": [
    {
     "data": {
      "text/plain": [
       "1.1406773545518778"
      ]
     },
     "execution_count": 12,
     "metadata": {},
     "output_type": "execute_result"
    }
   ],
   "source": [
    "chr20.loc[:,'RDR'].mean() #mean RDR of a normal cell"
   ]
  },
  {
   "cell_type": "code",
   "execution_count": 13,
   "metadata": {},
   "outputs": [
    {
     "data": {
      "text/plain": [
       "1.6019410449463374"
      ]
     },
     "execution_count": 13,
     "metadata": {},
     "output_type": "execute_result"
    }
   ],
   "source": [
    "chr20.loc[:,'RDR'].quantile(0.95)"
   ]
  },
  {
   "cell_type": "code",
   "execution_count": 14,
   "metadata": {},
   "outputs": [],
   "source": [
    "# UQ_chr8 = chr8.loc[:,'RDR'].quantile(0.75)\n",
    "# LQ_chr8 = chr8.loc[:,'RDR'].quantile(0.25)\n",
    "# IQR_chr8 = UQ_chr8-LQ_chr8\n",
    "# upper_outliers_chr8 = UQ_chr8 + (1.25*IQR_chr8)\n",
    "# lower_outliers_chr8 = LQ_chr8 - (1.25*IQR_chr8)"
   ]
  },
  {
   "cell_type": "code",
   "execution_count": 15,
   "metadata": {},
   "outputs": [],
   "source": [
    "# IQR_chr8"
   ]
  },
  {
   "cell_type": "code",
   "execution_count": 16,
   "metadata": {},
   "outputs": [],
   "source": [
    "# chr8_without_outliers = chr8[[chr8['RDR'] < upper_outliers_chr8] and chr8['RDR'] > lower_outliers_chr8] \n",
    "# chr8_without_outliers.loc[:,'RDR'].mean()"
   ]
  },
  {
   "attachments": {},
   "cell_type": "markdown",
   "metadata": {},
   "source": [
    "---------------- CHR2 : HOMOZYGOUS DELETION ----------------------"
   ]
  },
  {
   "cell_type": "code",
   "execution_count": 17,
   "metadata": {},
   "outputs": [
    {
     "name": "stderr",
     "output_type": "stream",
     "text": [
      "/var/folders/zj/ww00cy3n0dg4jg01vzxf6z6w0000gp/T/ipykernel_62369/3740834707.py:2: SettingWithCopyWarning: \n",
      "A value is trying to be set on a copy of a slice from a DataFrame\n",
      "\n",
      "See the caveats in the documentation: https://pandas.pydata.org/pandas-docs/stable/user_guide/indexing.html#returning-a-view-versus-a-copy\n",
      "  chr2.dropna(inplace=True) #what a homozgyous copy number RDR looks like.\n"
     ]
    }
   ],
   "source": [
    "chr2 = df[df['chr']==2] \n",
    "chr2.dropna(inplace=True) #what a homozgyous copy number RDR looks like. \n"
   ]
  },
  {
   "cell_type": "code",
   "execution_count": 18,
   "metadata": {},
   "outputs": [
    {
     "data": {
      "text/plain": [
       "65"
      ]
     },
     "execution_count": 18,
     "metadata": {},
     "output_type": "execute_result"
    }
   ],
   "source": [
    "chr2_above_zero = chr2[chr2['RDR'] > 0]\n",
    "chr2_above_zero\n",
    "len(chr2_above_zero)\n"
   ]
  },
  {
   "cell_type": "code",
   "execution_count": 19,
   "metadata": {},
   "outputs": [
    {
     "data": {
      "image/png": "[encoded data removed]",
      "text/plain": [
       "<Figure size 640x480 with 1 Axes>"
      ]
     },
     "metadata": {},
     "output_type": "display_data"
    }
   ],
   "source": [
    "red_circle = dict(markerfacecolor='red', marker='o')\n",
    "\n",
    "plt.boxplot(x=chr2.loc[:,'RDR'], flierprops=red_circle)\n",
    "\n",
    "plt.suptitle(\"\"\"Box and Whisker Plot showing the Variance \n",
    "in Read Depth Ratios Throughout Chromosome 2 : Int \"\"\")\n",
    "\n",
    "plt.xlabel('Chromosome 2')\n",
    "plt.xticks([])\n",
    "plt.ylabel('Read Depth Ratio')\n",
    "\n",
    "plt.savefig('HD_chr2_int.png', dpi=200 )\n",
    "\n",
    "plt.show()\n",
    "\n"
   ]
  },
  {
   "cell_type": "code",
   "execution_count": 20,
   "metadata": {},
   "outputs": [
    {
     "data": {
      "text/plain": [
       "0.023231973410463284"
      ]
     },
     "execution_count": 20,
     "metadata": {},
     "output_type": "execute_result"
    }
   ],
   "source": [
    "chr2.loc[:,'RDR'].quantile(q=0.95) #95% quantile"
   ]
  },
  {
   "cell_type": "code",
   "execution_count": 21,
   "metadata": {},
   "outputs": [
    {
     "data": {
      "text/plain": [
       "<Figure size 1200x300 with 0 Axes>"
      ]
     },
     "metadata": {},
     "output_type": "display_data"
    }
   ],
   "source": [
    "plt.figure(figsize=(12,3))\n",
    "#chr2 = sns.scatterplot(data=chr2, x='index', y='RDR', hue='chr', legend=False, palette='Set2', s=7) #look up how to move legend from graph\n",
    "\n",
    "#chr2.set_ylim(0, 1.2)\n",
    "\n",
    "plt.tight_layout()\n",
    "\n",
    "plt.savefig('chr2_int_scatterplot', dpi=200 )"
   ]
  },
  {
   "cell_type": "code",
   "execution_count": 22,
   "metadata": {},
   "outputs": [
    {
     "data": {
      "image/png": "[encoded data removed]",
      "text/plain": [
       "<Figure size 640x480 with 1 Axes>"
      ]
     },
     "metadata": {},
     "output_type": "display_data"
    }
   ],
   "source": [
    "scatter = sns.scatterplot(data=df, x='index', y='RDR', hue='chr', legend=False, palette='Set2', s=7) #look up how to move legend from graph\n",
    "\n",
    "scatter.set_ylim(0, 20)\n",
    "\n",
    "plt.tight_layout()\n"
   ]
  },
  {
   "cell_type": "code",
   "execution_count": 23,
   "metadata": {},
   "outputs": [
    {
     "data": {
      "text/plain": [
       "count    484.000000\n",
       "mean       0.003862\n",
       "std        0.012415\n",
       "min        0.000000\n",
       "25%        0.000000\n",
       "50%        0.000000\n",
       "75%        0.000000\n",
       "max        0.159305\n",
       "Name: RDR, dtype: float64"
      ]
     },
     "execution_count": 23,
     "metadata": {},
     "output_type": "execute_result"
    }
   ],
   "source": [
    "chr2.loc[:,'RDR'].describe()"
   ]
  },
  {
   "cell_type": "code",
   "execution_count": 24,
   "metadata": {},
   "outputs": [],
   "source": [
    "UQ_chr2 = chr2.loc[:,'RDR'].quantile(0.75)\n",
    "LQ_chr2 = chr2.loc[:,'RDR'].quantile(0.25)\n",
    "IQR_chr2 = (UQ_chr2) -(LQ_chr2)\n",
    "upper_outliers_chr2 = UQ_chr2 + (1.25* IQR_chr2)"
   ]
  },
  {
   "cell_type": "code",
   "execution_count": 25,
   "metadata": {},
   "outputs": [
    {
     "data": {
      "text/plain": [
       "0.0"
      ]
     },
     "execution_count": 25,
     "metadata": {},
     "output_type": "execute_result"
    }
   ],
   "source": [
    "IQR_chr2"
   ]
  },
  {
   "cell_type": "code",
   "execution_count": 26,
   "metadata": {},
   "outputs": [
    {
     "data": {
      "text/html": [
       "<div>\n",
       "<style scoped>\n",
       "    .dataframe tbody tr th:only-of-type {\n",
       "        vertical-align: middle;\n",
       "    }\n",
       "\n",
       "    .dataframe tbody tr th {\n",
       "        vertical-align: top;\n",
       "    }\n",
       "\n",
       "    .dataframe thead th {\n",
       "        text-align: right;\n",
       "    }\n",
       "</style>\n",
       "<table border=\"1\" class=\"dataframe\">\n",
       "  <thead>\n",
       "    <tr style=\"text-align: right;\">\n",
       "      <th></th>\n",
       "      <th>index</th>\n",
       "      <th>chr</th>\n",
       "      <th>start_pos</th>\n",
       "      <th>end_pos</th>\n",
       "      <th>human_reads</th>\n",
       "      <th>mutated_reads</th>\n",
       "      <th>RDR</th>\n",
       "    </tr>\n",
       "  </thead>\n",
       "  <tbody>\n",
       "    <tr>\n",
       "      <th>502</th>\n",
       "      <td>502</td>\n",
       "      <td>2</td>\n",
       "      <td>2000000</td>\n",
       "      <td>2500000</td>\n",
       "      <td>102</td>\n",
       "      <td>2</td>\n",
       "      <td>0.021865</td>\n",
       "    </tr>\n",
       "    <tr>\n",
       "      <th>507</th>\n",
       "      <td>507</td>\n",
       "      <td>2</td>\n",
       "      <td>4500000</td>\n",
       "      <td>5000000</td>\n",
       "      <td>106</td>\n",
       "      <td>2</td>\n",
       "      <td>0.021040</td>\n",
       "    </tr>\n",
       "    <tr>\n",
       "      <th>508</th>\n",
       "      <td>508</td>\n",
       "      <td>2</td>\n",
       "      <td>5000000</td>\n",
       "      <td>5500000</td>\n",
       "      <td>116</td>\n",
       "      <td>2</td>\n",
       "      <td>0.019226</td>\n",
       "    </tr>\n",
       "    <tr>\n",
       "      <th>520</th>\n",
       "      <td>520</td>\n",
       "      <td>2</td>\n",
       "      <td>11000000</td>\n",
       "      <td>11500000</td>\n",
       "      <td>134</td>\n",
       "      <td>2</td>\n",
       "      <td>0.016644</td>\n",
       "    </tr>\n",
       "    <tr>\n",
       "      <th>544</th>\n",
       "      <td>544</td>\n",
       "      <td>2</td>\n",
       "      <td>23000000</td>\n",
       "      <td>23500000</td>\n",
       "      <td>94</td>\n",
       "      <td>2</td>\n",
       "      <td>0.023726</td>\n",
       "    </tr>\n",
       "    <tr>\n",
       "      <th>...</th>\n",
       "      <td>...</td>\n",
       "      <td>...</td>\n",
       "      <td>...</td>\n",
       "      <td>...</td>\n",
       "      <td>...</td>\n",
       "      <td>...</td>\n",
       "      <td>...</td>\n",
       "    </tr>\n",
       "    <tr>\n",
       "      <th>927</th>\n",
       "      <td>927</td>\n",
       "      <td>2</td>\n",
       "      <td>214500000</td>\n",
       "      <td>215000000</td>\n",
       "      <td>84</td>\n",
       "      <td>2</td>\n",
       "      <td>0.026551</td>\n",
       "    </tr>\n",
       "    <tr>\n",
       "      <th>950</th>\n",
       "      <td>950</td>\n",
       "      <td>2</td>\n",
       "      <td>226000000</td>\n",
       "      <td>226500000</td>\n",
       "      <td>88</td>\n",
       "      <td>2</td>\n",
       "      <td>0.025344</td>\n",
       "    </tr>\n",
       "    <tr>\n",
       "      <th>954</th>\n",
       "      <td>954</td>\n",
       "      <td>2</td>\n",
       "      <td>228000000</td>\n",
       "      <td>228500000</td>\n",
       "      <td>104</td>\n",
       "      <td>2</td>\n",
       "      <td>0.021445</td>\n",
       "    </tr>\n",
       "    <tr>\n",
       "      <th>965</th>\n",
       "      <td>965</td>\n",
       "      <td>2</td>\n",
       "      <td>233500000</td>\n",
       "      <td>234000000</td>\n",
       "      <td>116</td>\n",
       "      <td>2</td>\n",
       "      <td>0.019226</td>\n",
       "    </tr>\n",
       "    <tr>\n",
       "      <th>979</th>\n",
       "      <td>979</td>\n",
       "      <td>2</td>\n",
       "      <td>240500000</td>\n",
       "      <td>241000000</td>\n",
       "      <td>90</td>\n",
       "      <td>2</td>\n",
       "      <td>0.024781</td>\n",
       "    </tr>\n",
       "  </tbody>\n",
       "</table>\n",
       "<p>65 rows × 7 columns</p>\n",
       "</div>"
      ],
      "text/plain": [
       "     index  chr  start_pos    end_pos  human_reads  mutated_reads       RDR\n",
       "502    502    2    2000000    2500000          102              2  0.021865\n",
       "507    507    2    4500000    5000000          106              2  0.021040\n",
       "508    508    2    5000000    5500000          116              2  0.019226\n",
       "520    520    2   11000000   11500000          134              2  0.016644\n",
       "544    544    2   23000000   23500000           94              2  0.023726\n",
       "..     ...  ...        ...        ...          ...            ...       ...\n",
       "927    927    2  214500000  215000000           84              2  0.026551\n",
       "950    950    2  226000000  226500000           88              2  0.025344\n",
       "954    954    2  228000000  228500000          104              2  0.021445\n",
       "965    965    2  233500000  234000000          116              2  0.019226\n",
       "979    979    2  240500000  241000000           90              2  0.024781\n",
       "\n",
       "[65 rows x 7 columns]"
      ]
     },
     "execution_count": 26,
     "metadata": {},
     "output_type": "execute_result"
    }
   ],
   "source": [
    "chr2[chr2['RDR'] > upper_outliers_chr2]  #only 3 values with an RDR above 0.0333"
   ]
  },
  {
   "cell_type": "code",
   "execution_count": 27,
   "metadata": {},
   "outputs": [
    {
     "data": {
      "text/plain": [
       "nan"
      ]
     },
     "execution_count": 27,
     "metadata": {},
     "output_type": "execute_result"
    }
   ],
   "source": [
    "chr2_without_outliers = chr2[chr2['RDR'] < upper_outliers_chr2] \n",
    "chr2_without_outliers.loc[:,'RDR'].mean()"
   ]
  },
  {
   "attachments": {},
   "cell_type": "markdown",
   "metadata": {},
   "source": [
    "---------------- CHR17 : HETEROZYGOUS DELETION ----------------------"
   ]
  },
  {
   "cell_type": "code",
   "execution_count": 28,
   "metadata": {},
   "outputs": [
    {
     "data": {
      "text/plain": [
       "167"
      ]
     },
     "execution_count": 28,
     "metadata": {},
     "output_type": "execute_result"
    }
   ],
   "source": [
    "chr17 = df[df['chr']==17]\n",
    "len(chr17)"
   ]
  },
  {
   "cell_type": "code",
   "execution_count": 29,
   "metadata": {},
   "outputs": [
    {
     "data": {
      "image/png": "[encoded data removed]",
      "text/plain": [
       "<Figure size 640x480 with 1 Axes>"
      ]
     },
     "metadata": {},
     "output_type": "display_data"
    }
   ],
   "source": [
    "red_circle = dict(markerfacecolor='red', marker='o')\n",
    "\n",
    "plt.boxplot(x=chr17.loc[:,'RDR'], flierprops=red_circle)\n",
    "\n",
    "plt.suptitle(\"\"\"Box and Whisker Plot showing the Variance \n",
    "in Read Depth Ratios Throughout Chromosome 17 : Int \"\"\")\n",
    "             \n",
    "plt.xlabel('Chromosome 17')\n",
    "plt.xticks([])\n",
    "plt.ylabel('Read Depth Ratio')\n",
    "\n",
    "plt.savefig('Het_D_chr17_int.png', dpi=200 )\n",
    "plt.show()\n",
    "\n"
   ]
  },
  {
   "cell_type": "code",
   "execution_count": 30,
   "metadata": {},
   "outputs": [
    {
     "data": {
      "text/plain": [
       "count    167.000000\n",
       "mean       0.569560\n",
       "std        0.144052\n",
       "min        0.254888\n",
       "25%        0.473376\n",
       "50%        0.557567\n",
       "75%        0.666708\n",
       "max        1.115135\n",
       "Name: RDR, dtype: float64"
      ]
     },
     "execution_count": 30,
     "metadata": {},
     "output_type": "execute_result"
    }
   ],
   "source": [
    "chr17.loc[:,'RDR'].describe()"
   ]
  },
  {
   "cell_type": "code",
   "execution_count": 31,
   "metadata": {},
   "outputs": [
    {
     "data": {
      "text/plain": [
       "0.8112353958464477"
      ]
     },
     "execution_count": 31,
     "metadata": {},
     "output_type": "execute_result"
    }
   ],
   "source": [
    "chr17.loc[:,'RDR'].quantile(0.95)"
   ]
  },
  {
   "cell_type": "code",
   "execution_count": 32,
   "metadata": {},
   "outputs": [],
   "source": [
    "UQ_chr17 = chr17.loc[:,'RDR'].quantile(0.75)\n",
    "LQ_chr17 = chr17.loc[:,'RDR'].quantile(0.25)\n",
    "IQR_chr17 = (UQ_chr17) -(LQ_chr17)\n",
    "upper_outliers_chr17 = UQ_chr17 + (1.25* IQR_chr17)"
   ]
  },
  {
   "cell_type": "code",
   "execution_count": 33,
   "metadata": {},
   "outputs": [
    {
     "data": {
      "text/plain": [
       "0.1933319284270334"
      ]
     },
     "execution_count": 33,
     "metadata": {},
     "output_type": "execute_result"
    }
   ],
   "source": [
    "IQR_chr17"
   ]
  },
  {
   "cell_type": "code",
   "execution_count": 34,
   "metadata": {},
   "outputs": [
    {
     "data": {
      "text/plain": [
       "0.8112353958464477"
      ]
     },
     "execution_count": 34,
     "metadata": {},
     "output_type": "execute_result"
    }
   ],
   "source": [
    "chr17.loc[:,'RDR'].quantile(0.95)"
   ]
  },
  {
   "cell_type": "code",
   "execution_count": 35,
   "metadata": {},
   "outputs": [
    {
     "data": {
      "text/html": [
       "<div>\n",
       "<style scoped>\n",
       "    .dataframe tbody tr th:only-of-type {\n",
       "        vertical-align: middle;\n",
       "    }\n",
       "\n",
       "    .dataframe tbody tr th {\n",
       "        vertical-align: top;\n",
       "    }\n",
       "\n",
       "    .dataframe thead th {\n",
       "        text-align: right;\n",
       "    }\n",
       "</style>\n",
       "<table border=\"1\" class=\"dataframe\">\n",
       "  <thead>\n",
       "    <tr style=\"text-align: right;\">\n",
       "      <th></th>\n",
       "      <th>index</th>\n",
       "      <th>chr</th>\n",
       "      <th>start_pos</th>\n",
       "      <th>end_pos</th>\n",
       "      <th>human_reads</th>\n",
       "      <th>mutated_reads</th>\n",
       "      <th>RDR</th>\n",
       "    </tr>\n",
       "  </thead>\n",
       "  <tbody>\n",
       "    <tr>\n",
       "      <th>5000</th>\n",
       "      <td>5000</td>\n",
       "      <td>17</td>\n",
       "      <td>5500000</td>\n",
       "      <td>6000000</td>\n",
       "      <td>82</td>\n",
       "      <td>82</td>\n",
       "      <td>1.115135</td>\n",
       "    </tr>\n",
       "    <tr>\n",
       "      <th>5121</th>\n",
       "      <td>5121</td>\n",
       "      <td>17</td>\n",
       "      <td>66000000</td>\n",
       "      <td>66500000</td>\n",
       "      <td>98</td>\n",
       "      <td>88</td>\n",
       "      <td>1.001345</td>\n",
       "    </tr>\n",
       "  </tbody>\n",
       "</table>\n",
       "</div>"
      ],
      "text/plain": [
       "      index  chr  start_pos   end_pos  human_reads  mutated_reads       RDR\n",
       "5000   5000   17    5500000   6000000           82             82  1.115135\n",
       "5121   5121   17   66000000  66500000           98             88  1.001345"
      ]
     },
     "execution_count": 35,
     "metadata": {},
     "output_type": "execute_result"
    }
   ],
   "source": [
    "chr17[chr17['RDR'] > upper_outliers_chr17]  #only 3 values with an RDR above 0.0333"
   ]
  },
  {
   "cell_type": "code",
   "execution_count": 36,
   "metadata": {},
   "outputs": [
    {
     "data": {
      "text/plain": [
       "0.5636370643823243"
      ]
     },
     "execution_count": 36,
     "metadata": {},
     "output_type": "execute_result"
    }
   ],
   "source": [
    "chr17_without_outliers = chr17[chr17['RDR'] < upper_outliers_chr17] \n",
    "chr17_without_outliers.loc[:,'RDR'].mean()"
   ]
  },
  {
   "attachments": {},
   "cell_type": "markdown",
   "metadata": {},
   "source": [
    "MAPPING THESE ALL ON THE SAME GRAPH"
   ]
  },
  {
   "attachments": {},
   "cell_type": "markdown",
   "metadata": {},
   "source": [
    "Decided it's not a good comparison"
   ]
  },
  {
   "cell_type": "code",
   "execution_count": 38,
   "metadata": {},
   "outputs": [],
   "source": [
    "\n",
    "# combined_dfs = pd.DataFrame({'2': chr2['RDR'],\n",
    "#                              '8': chr8['RDR'],\n",
    "#                              '17': chr17['RDR'],\n",
    "#                              })\n",
    "# combined_dfs\n",
    "\n",
    "# sns.set_style('white')\n",
    "# sns.boxplot(data=combined_dfs, palette='flare')\n",
    "# plt.suptitle(\"\"\"Box and Whisker Plot showing the Variance \n",
    "# in Read Depth Ratios Throughout Chromosomes: Int \"\"\")\n",
    "# plt.xlabel('Chromosome')\n",
    "# plt.ylabel('Read Depth Ratio')\n",
    "# sns.despine()\n",
    "# plt.savefig('combined_RDR_int', dpi=200 )\n",
    "# plt.show()"
   ]
  },
  {
   "attachments": {},
   "cell_type": "markdown",
   "metadata": {},
   "source": [
    "GENOME WIDE RDR "
   ]
  },
  {
   "cell_type": "code",
   "execution_count": 39,
   "metadata": {},
   "outputs": [
    {
     "data": {
      "image/png": "[encoded data removed]",
      "text/plain": [
       "<Figure size 1200x300 with 1 Axes>"
      ]
     },
     "metadata": {},
     "output_type": "display_data"
    }
   ],
   "source": [
    "chromosome_pos = df.groupby('chr')['index'].first()\n",
    "\n",
    "plt.figure(figsize=(12,3))\n",
    "scatter = sns.scatterplot(data=df, x='index', y='RDR', hue='chr', legend=False, palette='Set2', s=7) #look up how to move legend from graph\n",
    "\n",
    "plt.xticks(chromosome_pos.values, chromosome_pos.index)\n",
    "\n",
    "scatter.set_ylim(0, 20)\n",
    "\n",
    "plt.xlabel('Chromosome')\n",
    "\n",
    "plt.tight_layout()\n",
    "\n",
    "plt.savefig('Genome_wide_RDR_int_updated', dpi=200 )"
   ]
  }
 ],
 "metadata": {
  "kernelspec": {
   "display_name": "myenv",
   "language": "python",
   "name": "python3"
  },
  "language_info": {
   "codemirror_mode": {
    "name": "ipython",
    "version": 3
   },
   "file_extension": ".py",
   "mimetype": "text/x-python",
   "name": "python",
   "nbconvert_exporter": "python",
   "pygments_lexer": "ipython3",
   "version": "3.11.0"
  },
  "orig_nbformat": 4,
  "vscode": {
   "interpreter": {
    "hash": "64dbeee7701511da0a2dab307046cba706b4a12361239070d5a64ca482b3fb55"
   }
  }
 },
 "nbformat": 4,
 "nbformat_minor": 2
}
