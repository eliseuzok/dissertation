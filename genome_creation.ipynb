{
 "cells": [
  {
   "cell_type": "code",
   "execution_count": 1,
   "metadata": {},
   "outputs": [],
   "source": [
    "#importing necessary python modules\n",
    "from Bio import Seq, SeqIO, AlignIO, SeqRecord\n",
    "from Bio.SeqRecord import SeqRecord\n",
    "import pandas as pd\n",
    "import numpy as np\n",
    "import random"
   ]
  },
  {
   "cell_type": "code",
   "execution_count": 2,
   "metadata": {},
   "outputs": [],
   "source": [
    "#importing FASTA Reference Genome file into parsable dictionary\n",
    "genome = {}\n",
    "\n",
    "\n",
    "for chromosome in SeqIO.parse('/Users/elise/Downloads/Diss/Research_directory/Project_BP/Ref_Genome_Official/genome.fa','fasta'):\n",
    "    chromosome_base = chromosome.name\n",
    "    chromosome.name = chromosome_base\n",
    "    chromosome.id = chromosome_base \n",
    "    genome[chromosome.name] = chromosome[:]"
   ]
  },
  {
   "cell_type": "code",
   "execution_count": 4,
   "metadata": {},
   "outputs": [],
   "source": [
    "#Stating we need chromosomes 1-22\n",
    "needed_chromosomes = ('chr1', 'chr2', 'chr3', 'chr4', 'chr5', 'chr6',\n",
    "                        'chr7', 'chr8', 'chr9', 'chr10', 'chr11', 'chr12',\n",
    "                        'chr13', 'chr14', 'chr15', 'chr16', 'chr17', 'chr18',\n",
    "                        'chr19', 'chr20', 'chr21', 'chr22')"
   ]
  },
  {
   "cell_type": "code",
   "execution_count": 5,
   "metadata": {},
   "outputs": [],
   "source": [
    "#creating a dictionary out of chromosomes 1-22 in the reference genome\n",
    "reference_genome ={key: genome[key] for key in needed_chromosomes}"
   ]
  },
  {
   "cell_type": "code",
   "execution_count": 6,
   "metadata": {},
   "outputs": [
    {
     "name": "stdout",
     "output_type": "stream",
     "text": [
      "chr1 248956422\n",
      "chr2 242193529\n",
      "chr3 198295559\n",
      "chr4 190214555\n",
      "chr5 181538259\n",
      "chr6 170805979\n",
      "chr7 159345973\n",
      "chr8 145138636\n",
      "chr9 138394717\n",
      "chr10 133797422\n",
      "chr11 135086622\n",
      "chr12 133275309\n",
      "chr13 114364328\n",
      "chr14 107043718\n",
      "chr15 101991189\n",
      "chr16 90338345\n",
      "chr17 83257441\n",
      "chr18 80373285\n",
      "chr19 58617616\n",
      "chr20 64444167\n",
      "chr21 46709983\n",
      "chr22 50818468\n"
     ]
    }
   ],
   "source": [
    "for key in reference_genome.keys():\n",
    "    print(key, len(reference_genome[key]))"
   ]
  },
  {
   "cell_type": "code",
   "execution_count": 7,
   "metadata": {},
   "outputs": [
    {
     "data": {
      "text/plain": [
       "22"
      ]
     },
     "execution_count": 7,
     "metadata": {},
     "output_type": "execute_result"
    }
   ],
   "source": [
    "#making fasta file of ref genome\n",
    "SeqIO.write(reference_genome.values(),\"ref_genome.fa\", \"fasta\")"
   ]
  },
  {
   "cell_type": "code",
   "execution_count": 8,
   "metadata": {},
   "outputs": [],
   "source": [
    "diploid_human = {}\n",
    "\n",
    "for chromosome in SeqIO.parse('ref_genome.fa','fasta'):\n",
    "    chromosome_base = chromosome.name\n",
    "    chromosome.name = chromosome_base + '-Paternal'\n",
    "    chromosome.id = chromosome_base + '-Paternal'\n",
    "    diploid_human[chromosome.name] = chromosome[:]\n",
    "    chromosome.name = chromosome_base + '-Maternal'\n",
    "    chromosome.id = chromosome_base + '-Maternal'\n",
    "    diploid_human[chromosome.name] = chromosome[:]"
   ]
  },
  {
   "cell_type": "code",
   "execution_count": 9,
   "metadata": {},
   "outputs": [
    {
     "data": {
      "text/plain": [
       "SeqRecord(seq=Seq('NNNNNNNNNNNNNNNNNNNNNNNNNNNNNNNNNNNNNNNNNNNNNNNNNNNNNN...NNN'), id='chr1-Maternal', name='chr1-Maternal', description='chr1  AC:CM000663.2  gi:568336023  LN:248956422  rl:Chromosome  M5:6aef897c3d6ff0c78aff06ac189178dd  AS:GRCh38', dbxrefs=[])"
      ]
     },
     "execution_count": 9,
     "metadata": {},
     "output_type": "execute_result"
    }
   ],
   "source": [
    "diploid_human['chr1-Maternal']"
   ]
  },
  {
   "cell_type": "code",
   "execution_count": 10,
   "metadata": {},
   "outputs": [
    {
     "data": {
      "text/plain": [
       "44"
      ]
     },
     "execution_count": 10,
     "metadata": {},
     "output_type": "execute_result"
    }
   ],
   "source": [
    "SeqIO.write(diploid_human.values(),\"diploid_genome.fa\", \"fasta\")"
   ]
  },
  {
   "attachments": {},
   "cell_type": "markdown",
   "metadata": {},
   "source": [
    "-----------------------------------------------------------"
   ]
  },
  {
   "attachments": {},
   "cell_type": "markdown",
   "metadata": {},
   "source": [
    "Making Alterations to Diploid Version of Ref Genome"
   ]
  },
  {
   "attachments": {},
   "cell_type": "markdown",
   "metadata": {},
   "source": [
    "Want to: delete an entire maternal/paternal chromosome. Delete part of a chromosome"
   ]
  },
  {
   "cell_type": "code",
   "execution_count": 11,
   "metadata": {},
   "outputs": [],
   "source": [
    "#deleting an entire key value pair "
   ]
  },
  {
   "cell_type": "code",
   "execution_count": 12,
   "metadata": {},
   "outputs": [
    {
     "name": "stdout",
     "output_type": "stream",
     "text": [
      "chr1-Paternal 248956422\n",
      "chr1-Maternal 248956422\n",
      "chr2-Paternal 242193529\n",
      "chr2-Maternal 242193529\n",
      "chr3-Paternal 198295559\n",
      "chr3-Maternal 198295559\n",
      "chr4-Paternal 190214555\n",
      "chr4-Maternal 190214555\n",
      "chr5-Paternal 181538259\n",
      "chr5-Maternal 181538259\n",
      "chr6-Paternal 170805979\n",
      "chr6-Maternal 170805979\n",
      "chr7-Paternal 159345973\n",
      "chr7-Maternal 159345973\n",
      "chr8-Paternal 145138636\n",
      "chr8-Maternal 145138636\n",
      "chr9-Paternal 138394717\n",
      "chr9-Maternal 138394717\n",
      "chr10-Paternal 133797422\n",
      "chr10-Maternal 133797422\n",
      "chr11-Paternal 135086622\n",
      "chr11-Maternal 135086622\n",
      "chr12-Paternal 133275309\n",
      "chr12-Maternal 133275309\n",
      "chr13-Paternal 114364328\n",
      "chr13-Maternal 114364328\n",
      "chr14-Paternal 107043718\n",
      "chr14-Maternal 107043718\n",
      "chr15-Paternal 101991189\n",
      "chr15-Maternal 101991189\n",
      "chr16-Paternal 90338345\n",
      "chr16-Maternal 90338345\n",
      "chr17-Paternal 83257441\n",
      "chr17-Maternal 83257441\n",
      "chr18-Paternal 80373285\n",
      "chr18-Maternal 80373285\n",
      "chr19-Paternal 58617616\n",
      "chr19-Maternal 58617616\n",
      "chr20-Paternal 64444167\n",
      "chr20-Maternal 64444167\n",
      "chr21-Paternal 46709983\n",
      "chr21-Maternal 46709983\n",
      "chr22-Paternal 50818468\n",
      "chr22-Maternal 50818468\n"
     ]
    }
   ],
   "source": [
    "for key in diploid_human.keys():\n",
    "    print(key, len(diploid_human[key]))"
   ]
  },
  {
   "cell_type": "code",
   "execution_count": 13,
   "metadata": {},
   "outputs": [],
   "source": [
    "del diploid_human['chr2-Maternal']"
   ]
  },
  {
   "cell_type": "code",
   "execution_count": 14,
   "metadata": {},
   "outputs": [],
   "source": [
    "del diploid_human['chr2-Paternal']"
   ]
  },
  {
   "cell_type": "code",
   "execution_count": 15,
   "metadata": {},
   "outputs": [],
   "source": [
    "del diploid_human['chr17-Paternal']"
   ]
  },
  {
   "cell_type": "code",
   "execution_count": 16,
   "metadata": {},
   "outputs": [
    {
     "name": "stdout",
     "output_type": "stream",
     "text": [
      "chr1-Paternal 248956422\n",
      "chr1-Maternal 248956422\n",
      "chr3-Paternal 198295559\n",
      "chr3-Maternal 198295559\n",
      "chr4-Paternal 190214555\n",
      "chr4-Maternal 190214555\n",
      "chr5-Paternal 181538259\n",
      "chr5-Maternal 181538259\n",
      "chr6-Paternal 170805979\n",
      "chr6-Maternal 170805979\n",
      "chr7-Paternal 159345973\n",
      "chr7-Maternal 159345973\n",
      "chr8-Paternal 145138636\n",
      "chr8-Maternal 145138636\n",
      "chr9-Paternal 138394717\n",
      "chr9-Maternal 138394717\n",
      "chr10-Paternal 133797422\n",
      "chr10-Maternal 133797422\n",
      "chr11-Paternal 135086622\n",
      "chr11-Maternal 135086622\n",
      "chr12-Paternal 133275309\n",
      "chr12-Maternal 133275309\n",
      "chr13-Paternal 114364328\n",
      "chr13-Maternal 114364328\n",
      "chr14-Paternal 107043718\n",
      "chr14-Maternal 107043718\n",
      "chr15-Paternal 101991189\n",
      "chr15-Maternal 101991189\n",
      "chr16-Paternal 90338345\n",
      "chr16-Maternal 90338345\n",
      "chr17-Maternal 83257441\n",
      "chr18-Paternal 80373285\n",
      "chr18-Maternal 80373285\n",
      "chr19-Paternal 58617616\n",
      "chr19-Maternal 58617616\n",
      "chr20-Paternal 64444167\n",
      "chr20-Maternal 64444167\n",
      "chr21-Paternal 46709983\n",
      "chr21-Maternal 46709983\n",
      "chr22-Paternal 50818468\n",
      "chr22-Maternal 50818468\n"
     ]
    }
   ],
   "source": [
    "for key in diploid_human.keys():\n",
    "    print(key, len(diploid_human[key]))"
   ]
  },
  {
   "cell_type": "code",
   "execution_count": 17,
   "metadata": {},
   "outputs": [
    {
     "name": "stdout",
     "output_type": "stream",
     "text": [
      "chr1-Paternal 248956422\n",
      "chr1-Maternal 248956422\n",
      "chr3-Paternal 198295559\n",
      "chr3-Maternal 198295559\n",
      "chr4-Paternal 190214555\n",
      "chr4-Maternal 190214555\n",
      "chr5-Paternal 181538259\n",
      "chr5-Maternal 181538259\n",
      "chr6-Paternal 170805979\n",
      "chr6-Maternal 170805979\n",
      "chr7-Paternal 159345973\n",
      "chr7-Maternal 159345973\n",
      "chr8-Paternal 145138636\n",
      "chr8-Maternal 145138636\n",
      "chr9-Paternal 138394717\n",
      "chr9-Maternal 138394717\n",
      "chr10-Paternal 133797422\n",
      "chr10-Maternal 133797422\n",
      "chr11-Paternal 135086622\n",
      "chr11-Maternal 135086622\n",
      "chr12-Paternal 133275309\n",
      "chr12-Maternal 133275309\n",
      "chr13-Paternal 114364328\n",
      "chr13-Maternal 114364328\n",
      "chr14-Paternal 107043718\n",
      "chr14-Maternal 107043718\n",
      "chr15-Paternal 101991189\n",
      "chr15-Maternal 101991189\n",
      "chr16-Paternal 90338345\n",
      "chr16-Maternal 90338345\n",
      "chr17-Maternal 83257441\n",
      "chr18-Paternal 80373285\n",
      "chr18-Maternal 80373285\n",
      "chr19-Paternal 58617616\n",
      "chr19-Maternal 58617616\n",
      "chr20-Paternal 64444167\n",
      "chr20-Maternal 64444167\n",
      "chr21-Paternal 46709983\n",
      "chr21-Maternal 46709983\n",
      "chr22-Paternal 50818468\n",
      "chr22-Maternal 50818468\n"
     ]
    }
   ],
   "source": [
    "for key in diploid_human.keys():\n",
    "    print(key, len(diploid_human[key]))"
   ]
  },
  {
   "cell_type": "code",
   "execution_count": 18,
   "metadata": {},
   "outputs": [
    {
     "data": {
      "text/plain": [
       "41"
      ]
     },
     "execution_count": 18,
     "metadata": {},
     "output_type": "execute_result"
    }
   ],
   "source": [
    "SeqIO.write(diploid_human.values(),\"altered_genome.fa\", \"fasta\")"
   ]
  }
 ],
 "metadata": {
  "kernelspec": {
   "display_name": "myenv",
   "language": "python",
   "name": "python3"
  },
  "language_info": {
   "codemirror_mode": {
    "name": "ipython",
    "version": 3
   },
   "file_extension": ".py",
   "mimetype": "text/x-python",
   "name": "python",
   "nbconvert_exporter": "python",
   "pygments_lexer": "ipython3",
   "version": "3.11.0 | packaged by conda-forge | (main, Jan 15 2023, 05:44:48) [Clang 14.0.6 ]"
  },
  "orig_nbformat": 4,
  "vscode": {
   "interpreter": {
    "hash": "64dbeee7701511da0a2dab307046cba706b4a12361239070d5a64ca482b3fb55"
   }
  }
 },
 "nbformat": 4,
 "nbformat_minor": 2
}
